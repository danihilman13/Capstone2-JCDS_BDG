{
  "cells": [
    {
      "cell_type": "markdown",
      "metadata": {
        "colab_type": "text",
        "id": "view-in-github"
      },
      "source": [
        "<a href=\"https://colab.research.google.com/github/rifki2997/Purwadhika_AirBnB_Bangkok/blob/main/PurwadhikaAirBnBBangkok.ipynb\" target=\"_parent\"><img src=\"https://colab.research.google.com/assets/colab-badge.svg\" alt=\"Open In Colab\"/></a>"
      ]
    },
    {
      "cell_type": "markdown",
      "metadata": {
        "id": "vXuXHajEhe47"
      },
      "source": [
        "# **Latar Belakang**\n",
        "\n",
        "Airbnb adalah salah satu perusahaan yang menggambarkan kisah sukses yang luar biasa dalam dunia perjalanan dan ekonomi berbagi. Perjalanan perusahaan ini dimulai pada tahun 2008, ketika dua pendiri Airbnb, Brian Chesky dan Joe Gebbia, membuka pintu apartemen mereka di San Francisco untuk menyambut tiga tamu yang mencari tempat menginap sementara. Ide sederhana ini menjadi batu loncatan untuk perubahan besar dalam industri perjalanan.\n",
        "\n",
        "Pada awalnya, Airbnb adalah inovasi yang sangat sederhana, di mana tuan rumah dapat menyewakan sebagian ruang di rumah mereka kepada para tamu yang mencari akomodasi yang lebih pribadi dan terjangkau daripada hotel konvensional. Airbnb memberikan platform online yang memungkinkan tuan rumah untuk memasarkan properti mereka dan memungkinkan pelancong untuk menemukan akomodasi yang unik dan beragam.\n",
        "\n",
        "Sejak saat itu, Airbnb telah mengalami pertumbuhan luar biasa. Dari awalnya hanya satu kasur udara di lantai apartemen, Airbnb telah berkembang menjadi platform global dengan lebih dari 6 juta daftar akomodasi di lebih dari 191 negara di seluruh dunia. Airbnb telah mengubah cara orang bepergian dan mencari tempat tinggal sementara, menghubungkan jutaan tuan rumah dengan jutaan tamu, dan membantu menciptakan ekonomi berbagi yang kuat.\n",
        "\n",
        "Kunci keberhasilan Airbnb adalah kemampuannya untuk mengikuti tren perjalanan global yang berubah, di mana konsumen semakin mencari pengalaman perjalanan yang lebih pribadi, terjangkau, dan autentik. Airbnb juga telah memungkinkan jutaan orang untuk menghasilkan pendapatan tambahan dengan menyewakan properti mereka, yang pada gilirannya telah mendukung pertumbuhan ekonomi lokal.\n",
        "\n",
        "Dalam perjalanan suksesnya, Airbnb juga telah menghadapi berbagai tantangan, termasuk masalah regulasi dan perbedaan pendapat dengan pemerintah dan industri hotel tradisional. Namun, Airbnb terus berinovasi, berkolaborasi dengan pemerintah, dan menyediakan berbagai jenis akomodasi, termasuk rumah, apartemen, kastil, dan bahkan rumah pohon.\n",
        "\n",
        "Airbnb tidak hanya menjadi salah satu perusahaan terbesar dalam industri perjalanan, tetapi juga ikut serta dalam perubahan fundamental dalam cara kita bepergian, menginap, dan berbagi. Kesuksesannya mencerminkan daya tarik ekonomi berbagi dan keinginan konsumen untuk pengalaman perjalanan yang lebih personal. Airbnb terus menjadi pemimpin dalam ekonomi berbagi dan terus berupaya untuk menghadirkan perjalanan yang memenuhi kebutuhan komunitas di seluruh dunia.   \n"
      ]
    },
    {
      "cell_type": "markdown",
      "metadata": {
        "id": "wAYWlhw71fbe"
      },
      "source": [
        "# **Pernyataan Masalah**\n",
        "Perusahaan AirBnB ingin mengetahui faktor apa saja yang mempengaruhi customer ketika memilih penginapan di kota Bangkok, Thailand.\n",
        "\n",
        "Sebagai seorang data analyst, saya akan mencoba menjawab pertanyaan berikut:\n",
        "\n",
        "**Mengidentifikasi karakteristik customer yang menyewa penginapan di Bangkok**\n"
      ]
    },
    {
      "cell_type": "markdown",
      "metadata": {
        "id": "Ne2yj1pp6I0s"
      },
      "source": [
        "# **Data**"
      ]
    },
    {
      "cell_type": "code",
      "execution_count": 6229,
      "metadata": {
        "id": "0wWfCg-0FzwR"
      },
      "outputs": [],
      "source": [
        "import pandas as pd\n",
        "import numpy as np\n",
        "import matplotlib.pyplot as plt\n",
        "import seaborn as sns\n",
        "import plotly.express as px\n",
        "from scipy.stats import normaltest, chi2_contingency, mannwhitneyu, ttest_ind\n",
        "\n",
        "import warnings\n",
        "warnings.filterwarnings(\"ignore\")"
      ]
    },
    {
      "cell_type": "markdown",
      "metadata": {
        "id": "YMh2hpE5F6ZC"
      },
      "source": [
        "Dataset ini berisi informasi terkait deskripsi dan kondisi _listing_ / pendaftaran ruangan yang akan disewakan. Ada 17 kolom di dalam dataset 'Airbnb Listings Bangkok', yaitu:  \n",
        "\n",
        "* Unnamed: 0\t                    : Berisi indeks dari dataset \n",
        "* id                                : ID unik untuk setiap _listing_ yang disewakan\n",
        "* name                              : Derkripsi nama dari setiap _listing_/pendaftaran ruangan yang disewakan\n",
        "* host_id                           : ID unik/berbeda untuk setiap _host_ \n",
        "* host_name                         : Nama dari setiap _host_, khususnya hanya nama diawal\n",
        "* neighbourhood                     : _Neighbourhood_ adalah nama distrik yang berada  di ibu kota Bangkok\n",
        "* latitude                          : Titik pada garis Lintang untuk proyeksi lokasi\n",
        "* longitude                         : Titik pada garis Bujur untuk proyeksi lokasi\n",
        "* room_type                         : Tipe dari ruangan yang disewakan _entire home/apt_, _private room_,   _share room_, dan _hotel_\n",
        "* price                             : Harga kamar perhari dalam mata uang Bath (Thailand)\n",
        "* minimum_nights                    : Jumlah minimum masa inap untuk tempat tersebut\n",
        "* number_of_reviews                 : Jumlah ulasan yang dimiliki setiap _listing_\n",
        "* last_review                       : Tanggal ulasan terbaru\n",
        "* reviews_per_month                 : Rata-rata jumlah reviews per bulan\n",
        "* calculated_host_listings_count    : Jumlah listing yang dimiliki oleh host\n",
        "* availability_365                  : Ketersediaan listing dalam 1 tahun kedepan\n",
        "* number_of_reviews_ltm             : Jumlah ulasan yang dimiliki setiap _listing_ (dalam 12 bulan terakhir).\n",
        "\n",
        "\n",
        "Berikut 5 baris teratas dan terbawah dari dataset 'Airbnb Listings Bangkok'."
      ]
    },
    {
      "cell_type": "code",
      "execution_count": 6230,
      "metadata": {
        "colab": {
          "base_uri": "https://localhost:8080/",
          "height": 919
        },
        "id": "A_9pEyKadP-v",
        "outputId": "374aa56a-804f-43eb-e701-d10b0c0809aa"
      },
      "outputs": [
        {
          "data": {
            "text/html": [
              "<div>\n",
              "<style scoped>\n",
              "    .dataframe tbody tr th:only-of-type {\n",
              "        vertical-align: middle;\n",
              "    }\n",
              "\n",
              "    .dataframe tbody tr th {\n",
              "        vertical-align: top;\n",
              "    }\n",
              "\n",
              "    .dataframe thead th {\n",
              "        text-align: right;\n",
              "    }\n",
              "</style>\n",
              "<table border=\"1\" class=\"dataframe\">\n",
              "  <thead>\n",
              "    <tr style=\"text-align: right;\">\n",
              "      <th></th>\n",
              "      <th>Unnamed: 0</th>\n",
              "      <th>id</th>\n",
              "      <th>name</th>\n",
              "      <th>host_id</th>\n",
              "      <th>host_name</th>\n",
              "      <th>neighbourhood</th>\n",
              "      <th>latitude</th>\n",
              "      <th>longitude</th>\n",
              "      <th>room_type</th>\n",
              "      <th>price</th>\n",
              "      <th>minimum_nights</th>\n",
              "      <th>number_of_reviews</th>\n",
              "      <th>last_review</th>\n",
              "      <th>reviews_per_month</th>\n",
              "      <th>calculated_host_listings_count</th>\n",
              "      <th>availability_365</th>\n",
              "      <th>number_of_reviews_ltm</th>\n",
              "    </tr>\n",
              "  </thead>\n",
              "  <tbody>\n",
              "    <tr>\n",
              "      <th>0</th>\n",
              "      <td>0</td>\n",
              "      <td>27934</td>\n",
              "      <td>Nice room with superb city view</td>\n",
              "      <td>120437</td>\n",
              "      <td>Nuttee</td>\n",
              "      <td>Ratchathewi</td>\n",
              "      <td>13.75983</td>\n",
              "      <td>100.54134</td>\n",
              "      <td>Entire home/apt</td>\n",
              "      <td>1905</td>\n",
              "      <td>3</td>\n",
              "      <td>65</td>\n",
              "      <td>2020-01-06</td>\n",
              "      <td>0.50</td>\n",
              "      <td>2</td>\n",
              "      <td>353</td>\n",
              "      <td>0</td>\n",
              "    </tr>\n",
              "    <tr>\n",
              "      <th>1</th>\n",
              "      <td>1</td>\n",
              "      <td>27979</td>\n",
              "      <td>Easy going landlord,easy place</td>\n",
              "      <td>120541</td>\n",
              "      <td>Emy</td>\n",
              "      <td>Bang Na</td>\n",
              "      <td>13.66818</td>\n",
              "      <td>100.61674</td>\n",
              "      <td>Private room</td>\n",
              "      <td>1316</td>\n",
              "      <td>1</td>\n",
              "      <td>0</td>\n",
              "      <td>NaN</td>\n",
              "      <td>NaN</td>\n",
              "      <td>2</td>\n",
              "      <td>358</td>\n",
              "      <td>0</td>\n",
              "    </tr>\n",
              "    <tr>\n",
              "      <th>2</th>\n",
              "      <td>2</td>\n",
              "      <td>28745</td>\n",
              "      <td>modern-style apartment in Bangkok</td>\n",
              "      <td>123784</td>\n",
              "      <td>Familyroom</td>\n",
              "      <td>Bang Kapi</td>\n",
              "      <td>13.75232</td>\n",
              "      <td>100.62402</td>\n",
              "      <td>Private room</td>\n",
              "      <td>800</td>\n",
              "      <td>60</td>\n",
              "      <td>0</td>\n",
              "      <td>NaN</td>\n",
              "      <td>NaN</td>\n",
              "      <td>1</td>\n",
              "      <td>365</td>\n",
              "      <td>0</td>\n",
              "    </tr>\n",
              "    <tr>\n",
              "      <th>3</th>\n",
              "      <td>3</td>\n",
              "      <td>35780</td>\n",
              "      <td>Spacious one bedroom at The Kris Condo Bldg. 3</td>\n",
              "      <td>153730</td>\n",
              "      <td>Sirilak</td>\n",
              "      <td>Din Daeng</td>\n",
              "      <td>13.78823</td>\n",
              "      <td>100.57256</td>\n",
              "      <td>Private room</td>\n",
              "      <td>1286</td>\n",
              "      <td>7</td>\n",
              "      <td>2</td>\n",
              "      <td>2022-04-01</td>\n",
              "      <td>0.03</td>\n",
              "      <td>1</td>\n",
              "      <td>323</td>\n",
              "      <td>1</td>\n",
              "    </tr>\n",
              "    <tr>\n",
              "      <th>4</th>\n",
              "      <td>4</td>\n",
              "      <td>941865</td>\n",
              "      <td>Suite Room 3 at MetroPoint</td>\n",
              "      <td>610315</td>\n",
              "      <td>Kasem</td>\n",
              "      <td>Bang Kapi</td>\n",
              "      <td>13.76872</td>\n",
              "      <td>100.63338</td>\n",
              "      <td>Private room</td>\n",
              "      <td>1905</td>\n",
              "      <td>1</td>\n",
              "      <td>0</td>\n",
              "      <td>NaN</td>\n",
              "      <td>NaN</td>\n",
              "      <td>3</td>\n",
              "      <td>365</td>\n",
              "      <td>0</td>\n",
              "    </tr>\n",
              "  </tbody>\n",
              "</table>\n",
              "</div>"
            ],
            "text/plain": [
              "   Unnamed: 0      id                                            name  \\\n",
              "0  0           27934   Nice room with superb city view                  \n",
              "1  1           27979   Easy going landlord,easy place                   \n",
              "2  2           28745   modern-style apartment in Bangkok                \n",
              "3  3           35780   Spacious one bedroom at The Kris Condo Bldg. 3   \n",
              "4  4           941865  Suite Room 3 at MetroPoint                       \n",
              "\n",
              "   host_id   host_name neighbourhood  latitude  longitude        room_type  \\\n",
              "0  120437   Nuttee      Ratchathewi   13.75983  100.54134  Entire home/apt   \n",
              "1  120541   Emy         Bang Na       13.66818  100.61674  Private room      \n",
              "2  123784   Familyroom  Bang Kapi     13.75232  100.62402  Private room      \n",
              "3  153730   Sirilak     Din Daeng     13.78823  100.57256  Private room      \n",
              "4  610315   Kasem       Bang Kapi     13.76872  100.63338  Private room      \n",
              "\n",
              "   price  minimum_nights  number_of_reviews last_review  reviews_per_month  \\\n",
              "0  1905   3               65                 2020-01-06  0.50                \n",
              "1  1316   1               0                  NaN        NaN                  \n",
              "2  800    60              0                  NaN        NaN                  \n",
              "3  1286   7               2                  2022-04-01  0.03                \n",
              "4  1905   1               0                  NaN        NaN                  \n",
              "\n",
              "   calculated_host_listings_count  availability_365  number_of_reviews_ltm  \n",
              "0  2                               353               0                      \n",
              "1  2                               358               0                      \n",
              "2  1                               365               0                      \n",
              "3  1                               323               1                      \n",
              "4  3                               365               0                      "
            ]
          },
          "metadata": {},
          "output_type": "display_data"
        },
        {
          "data": {
            "text/html": [
              "<div>\n",
              "<style scoped>\n",
              "    .dataframe tbody tr th:only-of-type {\n",
              "        vertical-align: middle;\n",
              "    }\n",
              "\n",
              "    .dataframe tbody tr th {\n",
              "        vertical-align: top;\n",
              "    }\n",
              "\n",
              "    .dataframe thead th {\n",
              "        text-align: right;\n",
              "    }\n",
              "</style>\n",
              "<table border=\"1\" class=\"dataframe\">\n",
              "  <thead>\n",
              "    <tr style=\"text-align: right;\">\n",
              "      <th></th>\n",
              "      <th>Unnamed: 0</th>\n",
              "      <th>id</th>\n",
              "      <th>name</th>\n",
              "      <th>host_id</th>\n",
              "      <th>host_name</th>\n",
              "      <th>neighbourhood</th>\n",
              "      <th>latitude</th>\n",
              "      <th>longitude</th>\n",
              "      <th>room_type</th>\n",
              "      <th>price</th>\n",
              "      <th>minimum_nights</th>\n",
              "      <th>number_of_reviews</th>\n",
              "      <th>last_review</th>\n",
              "      <th>reviews_per_month</th>\n",
              "      <th>calculated_host_listings_count</th>\n",
              "      <th>availability_365</th>\n",
              "      <th>number_of_reviews_ltm</th>\n",
              "    </tr>\n",
              "  </thead>\n",
              "  <tbody>\n",
              "    <tr>\n",
              "      <th>15849</th>\n",
              "      <td>15849</td>\n",
              "      <td>790465040741092826</td>\n",
              "      <td>素坤逸核心两房公寓42楼，靠近BTSon nut/无边天际泳池观赏曼谷夜景/出门当地美食街</td>\n",
              "      <td>94899359</td>\n",
              "      <td>Renee</td>\n",
              "      <td>Pra Wet</td>\n",
              "      <td>13.715132</td>\n",
              "      <td>100.653458</td>\n",
              "      <td>Private room</td>\n",
              "      <td>2298</td>\n",
              "      <td>28</td>\n",
              "      <td>0</td>\n",
              "      <td>NaN</td>\n",
              "      <td>NaN</td>\n",
              "      <td>1</td>\n",
              "      <td>362</td>\n",
              "      <td>0</td>\n",
              "    </tr>\n",
              "    <tr>\n",
              "      <th>15850</th>\n",
              "      <td>15850</td>\n",
              "      <td>790474503157243541</td>\n",
              "      <td>Euro LuxuryHotel PratunamMKt TripleBdNrShopingArea</td>\n",
              "      <td>491526222</td>\n",
              "      <td>Phakhamon</td>\n",
              "      <td>Ratchathewi</td>\n",
              "      <td>13.753052</td>\n",
              "      <td>100.538738</td>\n",
              "      <td>Private room</td>\n",
              "      <td>1429</td>\n",
              "      <td>1</td>\n",
              "      <td>0</td>\n",
              "      <td>NaN</td>\n",
              "      <td>NaN</td>\n",
              "      <td>14</td>\n",
              "      <td>365</td>\n",
              "      <td>0</td>\n",
              "    </tr>\n",
              "    <tr>\n",
              "      <th>15851</th>\n",
              "      <td>15851</td>\n",
              "      <td>790475335086864240</td>\n",
              "      <td>Euro LuxuryHotel PratunamMKt TwinBedNrShopingArea</td>\n",
              "      <td>491526222</td>\n",
              "      <td>Phakhamon</td>\n",
              "      <td>Ratchathewi</td>\n",
              "      <td>13.753169</td>\n",
              "      <td>100.538700</td>\n",
              "      <td>Private room</td>\n",
              "      <td>1214</td>\n",
              "      <td>1</td>\n",
              "      <td>0</td>\n",
              "      <td>NaN</td>\n",
              "      <td>NaN</td>\n",
              "      <td>14</td>\n",
              "      <td>365</td>\n",
              "      <td>0</td>\n",
              "    </tr>\n",
              "    <tr>\n",
              "      <th>15852</th>\n",
              "      <td>15852</td>\n",
              "      <td>790475546213717328</td>\n",
              "      <td>Euro LuxuryHotel PratunamMKt TwinBedNrShopingArea</td>\n",
              "      <td>491526222</td>\n",
              "      <td>Phakhamon</td>\n",
              "      <td>Ratchathewi</td>\n",
              "      <td>13.754789</td>\n",
              "      <td>100.538757</td>\n",
              "      <td>Private room</td>\n",
              "      <td>1214</td>\n",
              "      <td>1</td>\n",
              "      <td>0</td>\n",
              "      <td>NaN</td>\n",
              "      <td>NaN</td>\n",
              "      <td>14</td>\n",
              "      <td>365</td>\n",
              "      <td>0</td>\n",
              "    </tr>\n",
              "    <tr>\n",
              "      <th>15853</th>\n",
              "      <td>15853</td>\n",
              "      <td>790476492384199044</td>\n",
              "      <td>Euro LuxuryHotel PratunamMKt TwinBedNrShopingArea</td>\n",
              "      <td>491526222</td>\n",
              "      <td>Phakhamon</td>\n",
              "      <td>Ratchathewi</td>\n",
              "      <td>13.752960</td>\n",
              "      <td>100.540820</td>\n",
              "      <td>Private room</td>\n",
              "      <td>1214</td>\n",
              "      <td>1</td>\n",
              "      <td>0</td>\n",
              "      <td>NaN</td>\n",
              "      <td>NaN</td>\n",
              "      <td>14</td>\n",
              "      <td>365</td>\n",
              "      <td>0</td>\n",
              "    </tr>\n",
              "  </tbody>\n",
              "</table>\n",
              "</div>"
            ],
            "text/plain": [
              "       Unnamed: 0                  id  \\\n",
              "15849  15849       790465040741092826   \n",
              "15850  15850       790474503157243541   \n",
              "15851  15851       790475335086864240   \n",
              "15852  15852       790475546213717328   \n",
              "15853  15853       790476492384199044   \n",
              "\n",
              "                                                     name    host_id  \\\n",
              "15849  素坤逸核心两房公寓42楼，靠近BTSon nut/无边天际泳池观赏曼谷夜景/出门当地美食街       94899359    \n",
              "15850  Euro LuxuryHotel PratunamMKt TripleBdNrShopingArea  491526222   \n",
              "15851  Euro LuxuryHotel PratunamMKt TwinBedNrShopingArea   491526222   \n",
              "15852  Euro LuxuryHotel PratunamMKt TwinBedNrShopingArea   491526222   \n",
              "15853  Euro LuxuryHotel PratunamMKt TwinBedNrShopingArea   491526222   \n",
              "\n",
              "       host_name neighbourhood   latitude   longitude     room_type  price  \\\n",
              "15849  Renee      Pra Wet       13.715132  100.653458  Private room  2298    \n",
              "15850  Phakhamon  Ratchathewi   13.753052  100.538738  Private room  1429    \n",
              "15851  Phakhamon  Ratchathewi   13.753169  100.538700  Private room  1214    \n",
              "15852  Phakhamon  Ratchathewi   13.754789  100.538757  Private room  1214    \n",
              "15853  Phakhamon  Ratchathewi   13.752960  100.540820  Private room  1214    \n",
              "\n",
              "       minimum_nights  number_of_reviews last_review  reviews_per_month  \\\n",
              "15849  28              0                  NaN        NaN                  \n",
              "15850  1               0                  NaN        NaN                  \n",
              "15851  1               0                  NaN        NaN                  \n",
              "15852  1               0                  NaN        NaN                  \n",
              "15853  1               0                  NaN        NaN                  \n",
              "\n",
              "       calculated_host_listings_count  availability_365  number_of_reviews_ltm  \n",
              "15849  1                               362               0                      \n",
              "15850  14                              365               0                      \n",
              "15851  14                              365               0                      \n",
              "15852  14                              365               0                      \n",
              "15853  14                              365               0                      "
            ]
          },
          "metadata": {},
          "output_type": "display_data"
        }
      ],
      "source": [
        "df=pd.read_csv('Airbnb Listings Bangkok.csv')\n",
        "display(df.head(),df.tail())"
      ]
    },
    {
      "cell_type": "code",
      "execution_count": 6231,
      "metadata": {},
      "outputs": [
        {
          "name": "stdout",
          "output_type": "stream",
          "text": [
            "(15854, 17)\n"
          ]
        },
        {
          "data": {
            "text/html": [
              "<div>\n",
              "<style scoped>\n",
              "    .dataframe tbody tr th:only-of-type {\n",
              "        vertical-align: middle;\n",
              "    }\n",
              "\n",
              "    .dataframe tbody tr th {\n",
              "        vertical-align: top;\n",
              "    }\n",
              "\n",
              "    .dataframe thead th {\n",
              "        text-align: right;\n",
              "    }\n",
              "</style>\n",
              "<table border=\"1\" class=\"dataframe\">\n",
              "  <thead>\n",
              "    <tr style=\"text-align: right;\">\n",
              "      <th></th>\n",
              "      <th>dataFeatures</th>\n",
              "      <th>dataType</th>\n",
              "      <th>null</th>\n",
              "      <th>unique</th>\n",
              "      <th>uniqueSample</th>\n",
              "    </tr>\n",
              "  </thead>\n",
              "  <tbody>\n",
              "    <tr>\n",
              "      <th>0</th>\n",
              "      <td>Unnamed: 0</td>\n",
              "      <td>int64</td>\n",
              "      <td>0</td>\n",
              "      <td>15854</td>\n",
              "      <td>[11193, 13733]</td>\n",
              "    </tr>\n",
              "    <tr>\n",
              "      <th>1</th>\n",
              "      <td>id</td>\n",
              "      <td>int64</td>\n",
              "      <td>0</td>\n",
              "      <td>15854</td>\n",
              "      <td>[744623183236976189, 20689364]</td>\n",
              "    </tr>\n",
              "    <tr>\n",
              "      <th>2</th>\n",
              "      <td>name</td>\n",
              "      <td>object</td>\n",
              "      <td>8</td>\n",
              "      <td>14794</td>\n",
              "      <td>[Skywalk Residence-Sukhumvit, 【曼谷小东京2间卧室豪华公寓】步行可达网红餐饮、日本堂吉诃德等]</td>\n",
              "    </tr>\n",
              "    <tr>\n",
              "      <th>3</th>\n",
              "      <td>host_id</td>\n",
              "      <td>int64</td>\n",
              "      <td>0</td>\n",
              "      <td>6659</td>\n",
              "      <td>[252076709, 46607005]</td>\n",
              "    </tr>\n",
              "    <tr>\n",
              "      <th>4</th>\n",
              "      <td>host_name</td>\n",
              "      <td>object</td>\n",
              "      <td>1</td>\n",
              "      <td>5312</td>\n",
              "      <td>[Sinra, Peeda]</td>\n",
              "    </tr>\n",
              "    <tr>\n",
              "      <th>5</th>\n",
              "      <td>neighbourhood</td>\n",
              "      <td>object</td>\n",
              "      <td>0</td>\n",
              "      <td>50</td>\n",
              "      <td>[Bang Bon, Chom Thong]</td>\n",
              "    </tr>\n",
              "    <tr>\n",
              "      <th>6</th>\n",
              "      <td>latitude</td>\n",
              "      <td>float64</td>\n",
              "      <td>0</td>\n",
              "      <td>9606</td>\n",
              "      <td>[13.77685, 13.71237]</td>\n",
              "    </tr>\n",
              "    <tr>\n",
              "      <th>7</th>\n",
              "      <td>longitude</td>\n",
              "      <td>float64</td>\n",
              "      <td>0</td>\n",
              "      <td>10224</td>\n",
              "      <td>[100.57103, 100.60783]</td>\n",
              "    </tr>\n",
              "    <tr>\n",
              "      <th>8</th>\n",
              "      <td>room_type</td>\n",
              "      <td>object</td>\n",
              "      <td>0</td>\n",
              "      <td>4</td>\n",
              "      <td>[Hotel room, Shared room]</td>\n",
              "    </tr>\n",
              "    <tr>\n",
              "      <th>9</th>\n",
              "      <td>price</td>\n",
              "      <td>int64</td>\n",
              "      <td>0</td>\n",
              "      <td>3040</td>\n",
              "      <td>[2590, 5783]</td>\n",
              "    </tr>\n",
              "    <tr>\n",
              "      <th>10</th>\n",
              "      <td>minimum_nights</td>\n",
              "      <td>int64</td>\n",
              "      <td>0</td>\n",
              "      <td>86</td>\n",
              "      <td>[1125, 355]</td>\n",
              "    </tr>\n",
              "    <tr>\n",
              "      <th>11</th>\n",
              "      <td>number_of_reviews</td>\n",
              "      <td>int64</td>\n",
              "      <td>0</td>\n",
              "      <td>298</td>\n",
              "      <td>[82, 65]</td>\n",
              "    </tr>\n",
              "    <tr>\n",
              "      <th>12</th>\n",
              "      <td>last_review</td>\n",
              "      <td>object</td>\n",
              "      <td>5790</td>\n",
              "      <td>1669</td>\n",
              "      <td>[2019-12-17, 2017-02-02]</td>\n",
              "    </tr>\n",
              "    <tr>\n",
              "      <th>13</th>\n",
              "      <td>reviews_per_month</td>\n",
              "      <td>float64</td>\n",
              "      <td>5790</td>\n",
              "      <td>513</td>\n",
              "      <td>[1.74, 3.97]</td>\n",
              "    </tr>\n",
              "    <tr>\n",
              "      <th>14</th>\n",
              "      <td>calculated_host_listings_count</td>\n",
              "      <td>int64</td>\n",
              "      <td>0</td>\n",
              "      <td>50</td>\n",
              "      <td>[40, 7]</td>\n",
              "    </tr>\n",
              "    <tr>\n",
              "      <th>15</th>\n",
              "      <td>availability_365</td>\n",
              "      <td>int64</td>\n",
              "      <td>0</td>\n",
              "      <td>366</td>\n",
              "      <td>[147, 349]</td>\n",
              "    </tr>\n",
              "    <tr>\n",
              "      <th>16</th>\n",
              "      <td>number_of_reviews_ltm</td>\n",
              "      <td>int64</td>\n",
              "      <td>0</td>\n",
              "      <td>85</td>\n",
              "      <td>[7, 147]</td>\n",
              "    </tr>\n",
              "  </tbody>\n",
              "</table>\n",
              "</div>"
            ],
            "text/plain": [
              "                      dataFeatures dataType  null  unique  \\\n",
              "0   Unnamed: 0                      int64    0     15854    \n",
              "1   id                              int64    0     15854    \n",
              "2   name                            object   8     14794    \n",
              "3   host_id                         int64    0     6659     \n",
              "4   host_name                       object   1     5312     \n",
              "5   neighbourhood                   object   0     50       \n",
              "6   latitude                        float64  0     9606     \n",
              "7   longitude                       float64  0     10224    \n",
              "8   room_type                       object   0     4        \n",
              "9   price                           int64    0     3040     \n",
              "10  minimum_nights                  int64    0     86       \n",
              "11  number_of_reviews               int64    0     298      \n",
              "12  last_review                     object   5790  1669     \n",
              "13  reviews_per_month               float64  5790  513      \n",
              "14  calculated_host_listings_count  int64    0     50       \n",
              "15  availability_365                int64    0     366      \n",
              "16  number_of_reviews_ltm           int64    0     85       \n",
              "\n",
              "                                                      uniqueSample  \n",
              "0   [11193, 13733]                                                  \n",
              "1   [744623183236976189, 20689364]                                  \n",
              "2   [Skywalk Residence-Sukhumvit, 【曼谷小东京2间卧室豪华公寓】步行可达网红餐饮、日本堂吉诃德等]  \n",
              "3   [252076709, 46607005]                                           \n",
              "4   [Sinra, Peeda]                                                  \n",
              "5   [Bang Bon, Chom Thong]                                          \n",
              "6   [13.77685, 13.71237]                                            \n",
              "7   [100.57103, 100.60783]                                          \n",
              "8   [Hotel room, Shared room]                                       \n",
              "9   [2590, 5783]                                                    \n",
              "10  [1125, 355]                                                     \n",
              "11  [82, 65]                                                        \n",
              "12  [2019-12-17, 2017-02-02]                                        \n",
              "13  [1.74, 3.97]                                                    \n",
              "14  [40, 7]                                                         \n",
              "15  [147, 349]                                                      \n",
              "16  [7, 147]                                                        "
            ]
          },
          "execution_count": 6231,
          "metadata": {},
          "output_type": "execute_result"
        }
      ],
      "source": [
        "listItem = []\n",
        "for col in df.columns :\n",
        "    listItem.append([col, df[col].dtype, df[col].isna().sum(),\n",
        "                    df[col].nunique(), list(df[col].drop_duplicates().sample(2).values)]);\n",
        "\n",
        "dfDesc = pd.DataFrame(columns=['dataFeatures', 'dataType', 'null', 'unique', 'uniqueSample'],\n",
        "                     data=listItem)\n",
        "print(df.shape)\n",
        "dfDesc"
      ]
    },
    {
      "cell_type": "markdown",
      "metadata": {
        "id": "NDcITY4Q8sRt"
      },
      "source": [
        "## Data Understanding and Cleaning\n",
        "Sebelum menganalisis data, sebagai data analyst, saya perlu mengenal dataset atau masuk ke tahapan *data understanding*. Dari proses ini, kita mendapati anomali-anomali apa saja yang terdapat di dalam dataset yang disediakan dan perlu ditangani dalam tahapan *data cleaning*. Setiap penanganan anomali yang dilakukan, akan disertai dengan penjelasan langkah yang diambil.\n"
      ]
    },
    {
      "cell_type": "code",
      "execution_count": 6232,
      "metadata": {
        "colab": {
          "base_uri": "https://localhost:8080/"
        },
        "id": "WnMfctOhEDeu",
        "outputId": "0e2180e8-422a-4143-a9ba-64b2ae0ffdca"
      },
      "outputs": [
        {
          "name": "stdout",
          "output_type": "stream",
          "text": [
            "Jumlah baris dan kolom di dataset df adalah (15854, 17)\n",
            "<class 'pandas.core.frame.DataFrame'>\n",
            "RangeIndex: 15854 entries, 0 to 15853\n",
            "Data columns (total 17 columns):\n",
            " #   Column                          Non-Null Count  Dtype  \n",
            "---  ------                          --------------  -----  \n",
            " 0   Unnamed: 0                      15854 non-null  int64  \n",
            " 1   id                              15854 non-null  int64  \n",
            " 2   name                            15846 non-null  object \n",
            " 3   host_id                         15854 non-null  int64  \n",
            " 4   host_name                       15853 non-null  object \n",
            " 5   neighbourhood                   15854 non-null  object \n",
            " 6   latitude                        15854 non-null  float64\n",
            " 7   longitude                       15854 non-null  float64\n",
            " 8   room_type                       15854 non-null  object \n",
            " 9   price                           15854 non-null  int64  \n",
            " 10  minimum_nights                  15854 non-null  int64  \n",
            " 11  number_of_reviews               15854 non-null  int64  \n",
            " 12  last_review                     10064 non-null  object \n",
            " 13  reviews_per_month               10064 non-null  float64\n",
            " 14  calculated_host_listings_count  15854 non-null  int64  \n",
            " 15  availability_365                15854 non-null  int64  \n",
            " 16  number_of_reviews_ltm           15854 non-null  int64  \n",
            "dtypes: float64(3), int64(9), object(5)\n",
            "memory usage: 2.1+ MB\n"
          ]
        }
      ],
      "source": [
        "print(f'Jumlah baris dan kolom di dataset df adalah {df.shape}')\n",
        "df.info()"
      ]
    },
    {
      "cell_type": "code",
      "execution_count": 6233,
      "metadata": {
        "colab": {
          "base_uri": "https://localhost:8080/",
          "height": 522
        },
        "id": "V1xTFW_uXi3d",
        "outputId": "4582b10d-5460-4b91-c48c-06c4618f0f0c"
      },
      "outputs": [
        {
          "data": {
            "text/html": [
              "<div>\n",
              "<style scoped>\n",
              "    .dataframe tbody tr th:only-of-type {\n",
              "        vertical-align: middle;\n",
              "    }\n",
              "\n",
              "    .dataframe tbody tr th {\n",
              "        vertical-align: top;\n",
              "    }\n",
              "\n",
              "    .dataframe thead th {\n",
              "        text-align: right;\n",
              "    }\n",
              "</style>\n",
              "<table border=\"1\" class=\"dataframe\">\n",
              "  <thead>\n",
              "    <tr style=\"text-align: right;\">\n",
              "      <th></th>\n",
              "      <th>Unnamed: 0</th>\n",
              "      <th>id</th>\n",
              "      <th>host_id</th>\n",
              "      <th>latitude</th>\n",
              "      <th>longitude</th>\n",
              "      <th>price</th>\n",
              "      <th>minimum_nights</th>\n",
              "      <th>number_of_reviews</th>\n",
              "      <th>reviews_per_month</th>\n",
              "      <th>calculated_host_listings_count</th>\n",
              "      <th>availability_365</th>\n",
              "      <th>number_of_reviews_ltm</th>\n",
              "    </tr>\n",
              "  </thead>\n",
              "  <tbody>\n",
              "    <tr>\n",
              "      <th>count</th>\n",
              "      <td>15854.000000</td>\n",
              "      <td>1.585400e+04</td>\n",
              "      <td>1.585400e+04</td>\n",
              "      <td>15854.000000</td>\n",
              "      <td>15854.000000</td>\n",
              "      <td>1.585400e+04</td>\n",
              "      <td>15854.000000</td>\n",
              "      <td>15854.000000</td>\n",
              "      <td>10064.000000</td>\n",
              "      <td>15854.000000</td>\n",
              "      <td>15854.000000</td>\n",
              "      <td>15854.000000</td>\n",
              "    </tr>\n",
              "    <tr>\n",
              "      <th>mean</th>\n",
              "      <td>7926.500000</td>\n",
              "      <td>1.579397e+17</td>\n",
              "      <td>1.541058e+08</td>\n",
              "      <td>13.745144</td>\n",
              "      <td>100.559903</td>\n",
              "      <td>3.217704e+03</td>\n",
              "      <td>15.292355</td>\n",
              "      <td>16.654157</td>\n",
              "      <td>0.813145</td>\n",
              "      <td>13.889618</td>\n",
              "      <td>244.378643</td>\n",
              "      <td>3.481519</td>\n",
              "    </tr>\n",
              "    <tr>\n",
              "      <th>std</th>\n",
              "      <td>4576.799919</td>\n",
              "      <td>2.946015e+17</td>\n",
              "      <td>1.318726e+08</td>\n",
              "      <td>0.043040</td>\n",
              "      <td>0.050911</td>\n",
              "      <td>2.497212e+04</td>\n",
              "      <td>50.815020</td>\n",
              "      <td>40.613331</td>\n",
              "      <td>1.090196</td>\n",
              "      <td>30.269848</td>\n",
              "      <td>125.843224</td>\n",
              "      <td>8.916937</td>\n",
              "    </tr>\n",
              "    <tr>\n",
              "      <th>min</th>\n",
              "      <td>0.000000</td>\n",
              "      <td>2.793400e+04</td>\n",
              "      <td>5.892000e+04</td>\n",
              "      <td>13.527300</td>\n",
              "      <td>100.329550</td>\n",
              "      <td>0.000000e+00</td>\n",
              "      <td>1.000000</td>\n",
              "      <td>0.000000</td>\n",
              "      <td>0.010000</td>\n",
              "      <td>1.000000</td>\n",
              "      <td>0.000000</td>\n",
              "      <td>0.000000</td>\n",
              "    </tr>\n",
              "    <tr>\n",
              "      <th>25%</th>\n",
              "      <td>3963.250000</td>\n",
              "      <td>2.104509e+07</td>\n",
              "      <td>3.974431e+07</td>\n",
              "      <td>13.720090</td>\n",
              "      <td>100.529690</td>\n",
              "      <td>9.000000e+02</td>\n",
              "      <td>1.000000</td>\n",
              "      <td>0.000000</td>\n",
              "      <td>0.120000</td>\n",
              "      <td>1.000000</td>\n",
              "      <td>138.000000</td>\n",
              "      <td>0.000000</td>\n",
              "    </tr>\n",
              "    <tr>\n",
              "      <th>50%</th>\n",
              "      <td>7926.500000</td>\n",
              "      <td>3.503734e+07</td>\n",
              "      <td>1.224556e+08</td>\n",
              "      <td>13.738490</td>\n",
              "      <td>100.561415</td>\n",
              "      <td>1.429000e+03</td>\n",
              "      <td>1.000000</td>\n",
              "      <td>2.000000</td>\n",
              "      <td>0.435000</td>\n",
              "      <td>4.000000</td>\n",
              "      <td>309.000000</td>\n",
              "      <td>0.000000</td>\n",
              "    </tr>\n",
              "    <tr>\n",
              "      <th>75%</th>\n",
              "      <td>11889.750000</td>\n",
              "      <td>5.256154e+07</td>\n",
              "      <td>2.390547e+08</td>\n",
              "      <td>13.759497</td>\n",
              "      <td>100.585150</td>\n",
              "      <td>2.429000e+03</td>\n",
              "      <td>7.000000</td>\n",
              "      <td>13.000000</td>\n",
              "      <td>1.060000</td>\n",
              "      <td>13.000000</td>\n",
              "      <td>360.000000</td>\n",
              "      <td>3.000000</td>\n",
              "    </tr>\n",
              "    <tr>\n",
              "      <th>max</th>\n",
              "      <td>15853.000000</td>\n",
              "      <td>7.908162e+17</td>\n",
              "      <td>4.926659e+08</td>\n",
              "      <td>13.953540</td>\n",
              "      <td>100.923440</td>\n",
              "      <td>1.100000e+06</td>\n",
              "      <td>1125.000000</td>\n",
              "      <td>1224.000000</td>\n",
              "      <td>19.130000</td>\n",
              "      <td>228.000000</td>\n",
              "      <td>365.000000</td>\n",
              "      <td>325.000000</td>\n",
              "    </tr>\n",
              "  </tbody>\n",
              "</table>\n",
              "</div>"
            ],
            "text/plain": [
              "         Unnamed: 0            id       host_id      latitude     longitude  \\\n",
              "count  15854.000000  1.585400e+04  1.585400e+04  15854.000000  15854.000000   \n",
              "mean   7926.500000   1.579397e+17  1.541058e+08  13.745144     100.559903     \n",
              "std    4576.799919   2.946015e+17  1.318726e+08  0.043040      0.050911       \n",
              "min    0.000000      2.793400e+04  5.892000e+04  13.527300     100.329550     \n",
              "25%    3963.250000   2.104509e+07  3.974431e+07  13.720090     100.529690     \n",
              "50%    7926.500000   3.503734e+07  1.224556e+08  13.738490     100.561415     \n",
              "75%    11889.750000  5.256154e+07  2.390547e+08  13.759497     100.585150     \n",
              "max    15853.000000  7.908162e+17  4.926659e+08  13.953540     100.923440     \n",
              "\n",
              "              price  minimum_nights  number_of_reviews  reviews_per_month  \\\n",
              "count  1.585400e+04  15854.000000    15854.000000       10064.000000        \n",
              "mean   3.217704e+03  15.292355       16.654157          0.813145            \n",
              "std    2.497212e+04  50.815020       40.613331          1.090196            \n",
              "min    0.000000e+00  1.000000        0.000000           0.010000            \n",
              "25%    9.000000e+02  1.000000        0.000000           0.120000            \n",
              "50%    1.429000e+03  1.000000        2.000000           0.435000            \n",
              "75%    2.429000e+03  7.000000        13.000000          1.060000            \n",
              "max    1.100000e+06  1125.000000     1224.000000        19.130000           \n",
              "\n",
              "       calculated_host_listings_count  availability_365  number_of_reviews_ltm  \n",
              "count  15854.000000                    15854.000000      15854.000000           \n",
              "mean   13.889618                       244.378643        3.481519               \n",
              "std    30.269848                       125.843224        8.916937               \n",
              "min    1.000000                        0.000000          0.000000               \n",
              "25%    1.000000                        138.000000        0.000000               \n",
              "50%    4.000000                        309.000000        0.000000               \n",
              "75%    13.000000                       360.000000        3.000000               \n",
              "max    228.000000                      365.000000        325.000000             "
            ]
          },
          "metadata": {},
          "output_type": "display_data"
        },
        {
          "data": {
            "text/html": [
              "<div>\n",
              "<style scoped>\n",
              "    .dataframe tbody tr th:only-of-type {\n",
              "        vertical-align: middle;\n",
              "    }\n",
              "\n",
              "    .dataframe tbody tr th {\n",
              "        vertical-align: top;\n",
              "    }\n",
              "\n",
              "    .dataframe thead th {\n",
              "        text-align: right;\n",
              "    }\n",
              "</style>\n",
              "<table border=\"1\" class=\"dataframe\">\n",
              "  <thead>\n",
              "    <tr style=\"text-align: right;\">\n",
              "      <th></th>\n",
              "      <th>name</th>\n",
              "      <th>host_name</th>\n",
              "      <th>neighbourhood</th>\n",
              "      <th>room_type</th>\n",
              "      <th>last_review</th>\n",
              "    </tr>\n",
              "  </thead>\n",
              "  <tbody>\n",
              "    <tr>\n",
              "      <th>count</th>\n",
              "      <td>15846</td>\n",
              "      <td>15853</td>\n",
              "      <td>15854</td>\n",
              "      <td>15854</td>\n",
              "      <td>10064</td>\n",
              "    </tr>\n",
              "    <tr>\n",
              "      <th>unique</th>\n",
              "      <td>14794</td>\n",
              "      <td>5312</td>\n",
              "      <td>50</td>\n",
              "      <td>4</td>\n",
              "      <td>1669</td>\n",
              "    </tr>\n",
              "    <tr>\n",
              "      <th>top</th>\n",
              "      <td>New!  La Chada Night Market studio 2PPL near MRT</td>\n",
              "      <td>Curry</td>\n",
              "      <td>Vadhana</td>\n",
              "      <td>Entire home/apt</td>\n",
              "      <td>2022-12-11</td>\n",
              "    </tr>\n",
              "    <tr>\n",
              "      <th>freq</th>\n",
              "      <td>45</td>\n",
              "      <td>228</td>\n",
              "      <td>2153</td>\n",
              "      <td>8912</td>\n",
              "      <td>189</td>\n",
              "    </tr>\n",
              "  </tbody>\n",
              "</table>\n",
              "</div>"
            ],
            "text/plain": [
              "                                                    name host_name  \\\n",
              "count   15846                                             15853      \n",
              "unique  14794                                             5312       \n",
              "top     New!  La Chada Night Market studio 2PPL near MRT  Curry      \n",
              "freq    45                                                228        \n",
              "\n",
              "       neighbourhood        room_type last_review  \n",
              "count   15854         15854            10064       \n",
              "unique  50            4                1669        \n",
              "top     Vadhana       Entire home/apt  2022-12-11  \n",
              "freq    2153          8912             189         "
            ]
          },
          "metadata": {},
          "output_type": "display_data"
        }
      ],
      "source": [
        "display(df.describe(), df.describe(include='object'))"
      ]
    },
    {
      "cell_type": "code",
      "execution_count": 6234,
      "metadata": {},
      "outputs": [
        {
          "data": {
            "text/html": [
              "<div>\n",
              "<style scoped>\n",
              "    .dataframe tbody tr th:only-of-type {\n",
              "        vertical-align: middle;\n",
              "    }\n",
              "\n",
              "    .dataframe tbody tr th {\n",
              "        vertical-align: top;\n",
              "    }\n",
              "\n",
              "    .dataframe thead th {\n",
              "        text-align: right;\n",
              "    }\n",
              "</style>\n",
              "<table border=\"1\" class=\"dataframe\">\n",
              "  <thead>\n",
              "    <tr style=\"text-align: right;\">\n",
              "      <th></th>\n",
              "      <th>Column Name</th>\n",
              "      <th>Number of Unique</th>\n",
              "      <th>Unique Values</th>\n",
              "    </tr>\n",
              "  </thead>\n",
              "  <tbody>\n",
              "    <tr>\n",
              "      <th>0</th>\n",
              "      <td>Unnamed: 0</td>\n",
              "      <td>15854</td>\n",
              "      <td>[0, 1, 2, 3, 4, 5, 6, 7, 8, 9, 10, 11, 12, 13, 14, 15, 16, 17, 18, 19, 20, 21, 22, 23, 24, 25, 26, 27, 28, 29, 30, 31, 32, 33, 34, 35, 36, 37, 38, 39, 40, 41, 42, 43, 44, 45, 46, 47, 48, 49, 50, 51, 52, 53, 54, 55, 56, 57, 58, 59, 60, 61, 62, 63, 64, 65, 66, 67, 68, 69, 70, 71, 72, 73, 74, 75, 76, 77, 78, 79, 80, 81, 82, 83, 84, 85, 86, 87, 88, 89, 90, 91, 92, 93, 94, 95, 96, 97, 98, 99, ...]</td>\n",
              "    </tr>\n",
              "    <tr>\n",
              "      <th>1</th>\n",
              "      <td>id</td>\n",
              "      <td>15854</td>\n",
              "      <td>[27934, 27979, 28745, 35780, 941865, 1704776, 48736, 1738669, 1744248, 952677, 55681, 1765918, 55686, 59221, 959254, 62217, 1791481, 66046, 105042, 1793000, 960858, 113744, 965722, 1808600, 118118, 1816517, 969792, 121410, 145343, 973830, 156583, 1823321, 159854, 976690, 978531, 166267, 169285, 978969, 1842066, 169514, 1849029, 1862089, 985743, 988373, 172332, 1016487, 1862331, 1862377, 185364, 1887544, 1888303, 1019241, 241416, 1026451, 1028469, 1028486, 1035589, 1035640, 1897982, 296960, 1898332, 1041976, 313459, 1052180, 1926489, 320014, 1933894, 1057173, 1060320, 384924, 1067748, 1077493, 1943048, 385130, 385278, 385979, 390611, 1947314, 1079039, 1086843, 393066, 397449, 405662, 1088343, 1094136, 1961981, 407381, 1975849, 1133843, 413824, 428360, 428421, 428907, 428950, 430691, 430703, 430706, 432004, 439051, 1138679, ...]</td>\n",
              "    </tr>\n",
              "    <tr>\n",
              "      <th>2</th>\n",
              "      <td>name</td>\n",
              "      <td>14794</td>\n",
              "      <td>[Nice room with superb city view, Easy going landlord,easy place, modern-style apartment in Bangkok, Spacious one bedroom at The Kris Condo Bldg. 3, Suite Room 3 at MetroPoint, NEw Pro!!  Bungalow Bkk Centre, Condo with Chaopraya River View, 1 chic bedroom apartment in BKK, Batcave, Pool view, near Chatuchak, Standard Room Decor do Hostel, Sathorn Terrace Apartment(61), 2BR apt in a cozy neighborhood, Comfy bedroom near River pier &amp; BTS  Taksin., budget hotel bangkok near subway, Deluxe Condo, Nana, Pool/GYM/Sauna, Luxury@swimpool/FreeWiFi/nearJJMkt, Nice and Quiet condo near BTS Onnut, 24Flr- 1br Apt near JJ, MRT, BTS, Central Bangkok 3 Bedroom Apartment, The Duplex - Asoke- Luxury 92sqm, New, Stylish &amp; Luxury Studio Condo, River View - Ivy Condo (1 Bedroom), Siamese Gioia on Sukhumvit 31, Contemporary Modern Duplex-Thong Lo, Pan Dao Condo 5 min from BTS On Nut, 1 BR condominium center BKK +NETFLIX+55SQM, 1 penthouse in central Bangkok, MetroPoint Suite Room, Near Airport, Boutique Rooms Near Bangkok Airport, BangLuang House1 @ Bangkok Thailand, Studio near Chula University/Silom walk to MRT/BTS, กรองทองแมนชั่น (ลาดพร้าว 81), Deluxe one Bedroom Condo w.Pool-GYM &amp; Sauna 8-7, Beautiful 1 BR apartment @BTS Ari, Urban Oasis in the heart of Bangkok, 1Bed apt. near Chula University/Silom, Stay at the ROARING RATCHADA!, 60 m2 apartment in Thong Lor, Bangkok, ICONSIAM River view  on 49th floor, 2br apt in Sukhumvit Asoke near BTS, Self catering cozy1-bed near BTS, ❂☀☀☀Perfect Escape☀☀☀Sunny Roof EnSuite☀☀☀☀, Room with city view of BKK, BangLuang House 2@ Bangkok Thailand, Tranquility found in busy Bangkok near new skytran, Private room in Bangkok, ☞✪✪✪✪Roomy Studio 4 Family r friends✪No Stairs✪✪✪✪, ☞Downtown Central Studio-Bangkok MRT, Beautiful Wood Bangkok Resort House, \"Serviced 2 Bed Scenic SkyVillas\", Cozy 1BR rooftop (BTS Ploenchit) heart of bangkok, Chic two bedroom for Monthly rental, Sukhumvit52 near SkyTrain to BkkCBD, ♡Chic Studio, Easy Walk to Pier &amp; BTS Taksin♡, One Bedroom Suite- WIFI- SATHORN, STUDIO RM2 - WIFI- SATHORN, Quiet Double  Bed Apartment, Quiet Double Bed Apartment, Suvarnabhumi free transfer, Luxury&amp;Comfy wthWifi walk-distance to Subwy-Malls, Apr. for rent full fur 1 bedroom, monthly, Long-stay special rate spacious entire floor Siam, One Bed Room at Sukumvit 50 Bangkok, City View, relaxed theme &amp; delicious food around, Ideo Blucove Sukhumvit Bangkok, 2-BR condo near BTS on Sukhumvit Rd, NewlyRenovated! 3Br,SingleHouse, Park/BTS/Airport., IdeoMix, Sukhumvit RD, close to BTS, Mix Dorm  Decor do Hostel, Oasis in the heart of Bangkok, 5 mins by car from Chong Nonsi BTS Station, Inn Saladaeng - Superior hotel room, Best nr Chatujak, MRT, BTS free wifi&amp;fNetflix, ❂Citycenter✔Subway station✔Private Bathroom4Aircon, Nice River View Condominium 30 sq.m, Monthly rent 2Beds/2Baths quiet APT at BTS, Sukhumvit apartment near Nana BTS, A room w/ the view :-) in the city, Spacious 1Bed apartment, Near Bangkok more space than urban!, ✺✺99 feet in the sky✺✺, Cozy Studio Apt near Skytrain.(72/74), Asoke: tasteful, modern 1BR condo, 2 bed 2 bath, BTS, Supermarkets, Monthly, Private, relaxed with amenities, S1 hostel (Dorm) Sathorn Bangkok, 3 minutes walk to Phrom Phong BTS, 1 BDM CONDO SAPHAN KWAI/ARI walk to JJ/BTS/MRT, เฮ้าส์โหมด House Mode, ❂100% Private&amp;Central Light EnSuite, Spacious Studio kitchen/wifi, 2. Bangkok bright Apartment 201, 1.Bangkok great value Studio WIFI, BKK City Fab Luxx Studio free wifi @1194, 5. Bangkok Bright Apartment -WIFI, 6. Bangkok nice, cosy Apartment 201, 7. Bangkok big bright Apartment 402, STUDIO-WIFI-RAIN SHOWER-SATHORN, Luxury Riverview Teakwood Apartment-Great Views :), 1 Bed Pool Access Onnut BTS, ...]</td>\n",
              "    </tr>\n",
              "    <tr>\n",
              "      <th>3</th>\n",
              "      <td>host_id</td>\n",
              "      <td>6659</td>\n",
              "      <td>[120437, 120541, 123784, 153730, 610315, 2129668, 222005, 7045870, 9181769, 5171292, 263049, 9279712, 284095, 5153476, 302658, 9399478, 323158, 545890, 9407280, 3769704, 578110, 5265861, 9478184, 596463, 8492603, 5297436, 703944, 5325919, 58920, 9545111, 766443, 5344120, 5309669, 806600, 5358785, 9626074, 729617, 9652914, 1927968, 822284, 5594281, 8214044, 889670, 6132593, 9821998, 3323622, 960892, 3346331, 2148220, 4115838, 8362130, 175729, 4837310, 5735895, 1611711, 5793490, 9434109, 843854, 9509219, 5822937, 1667508, 4154759, 5929404, 9906827, 1928343, 1681901, 807406, 10070953, 5935474, 4937984, 1425515, 5981006, 10138065, 1463818, 8480912, 6220137, 2122791, 4877320, 10204823, 2592798, 10222460, 10246374, 7454779, 8664261, 6262801, 6313832, 1513875, 5402740, 2625384, 6586465, 9390848, 2864425, 10581237, 1780407, 6647138, 6648722, 2940438, 3533863, 3687435, 5469059, ...]</td>\n",
              "    </tr>\n",
              "    <tr>\n",
              "      <th>4</th>\n",
              "      <td>host_name</td>\n",
              "      <td>5312</td>\n",
              "      <td>[Nuttee, Emy, Familyroom, Sirilak, Kasem, Wimonpak, Athitaya, Jiraporn, Nol, Somsak, Tor, Jing, Mimi, Natcha, Srisuk, Piyakorn, Sue, Henry, Timo, Pat, Muay, Chuchart, Shine, Dustin, Sudhichai, Anya, Parinya, วสวัตติ์, Gael, Penjit, Gerd, Nattavut, Apiradee, Frances, Danny, Weera, Kanchuya, Jirasak, Evan, Rae And Charlie, Yodying, Evan From Sanctuary House, Narumon, Salvatore, Pichanee, Phoebe, Vajirune, Bee, Marvin, Primrose, Luckana, Mitch &amp; Mam, Veesa, Pariya, Nichapat, Nicky, Sander, Anshera, Piya, Siriwipa, Inn Saladaeng &amp; The Sathon Vimanda, Nokiko, Chanvit, Pornpan, Hollis, Vichit, Tisa, Sugarcane, Peter, Sibyl, S1, Amporn, Chris And Lek, Prapussorn, Maam &amp; Hermann, Nisa, Jahidul, Nokina, Preeda, Arika, Lily Duangdao, Kriengkrai, Andrea, Psirivedin, Suchada, Nattha, Mike, Tayawat, VeeZa, Urcha, Anchana, Feb, NiNew, Taweewat  (Ken), Kinifrog, Sarasinee, Avinash, Andrew, Tam, Egidio, ...]</td>\n",
              "    </tr>\n",
              "    <tr>\n",
              "      <th>5</th>\n",
              "      <td>neighbourhood</td>\n",
              "      <td>50</td>\n",
              "      <td>[Ratchathewi, Bang Na, Bang Kapi, Din Daeng, Bang Kho laen, Rat Burana, Chatu Chak, Khlong San, Bang Rak, Phaya Thai, Sathon, Khlong Toei, Vadhana, Sai Mai, Lat Krabang, Bangkok Yai, Wang Thong Lang, Huai Khwang, Phasi Charoen, Bang Sue, Nong Chok, Phra Khanong, Thawi Watthana, Parthum Wan, Pra Wet, Phra Nakhon, Thon buri, Yan na wa, Suanluang, Don Mueang, Dusit, Lak Si, Samphanthawong, Bueng Kum, Bang Phlat, Saphan Sung, Min Buri, Khan Na Yao, Khlong Sam Wa, Bang Khen, Lat Phrao, Chom Thong, Bangkok Noi, Pom Prap Sattru Phai, Nong Khaem, Thung khru, Bang Khae, Bang Khun thain, Taling Chan, Bang Bon]</td>\n",
              "    </tr>\n",
              "    <tr>\n",
              "      <th>6</th>\n",
              "      <td>latitude</td>\n",
              "      <td>9606</td>\n",
              "      <td>[13.75983, 13.66818, 13.75232, 13.78823, 13.76872, 13.69757, 13.68556, 13.82925, 13.81693, 13.7204, 13.71934, 13.77486, 13.71802, 13.77941, 13.71516, 13.79152, 13.70719, 13.82298, 13.73378, 13.74668, 13.9077, 13.68568, 13.74444, 13.72097, 13.70441, 13.75351, 13.7547, 13.76747, 13.721868, 13.73292, 13.7285, 13.78938, 13.74293, 13.77931, 13.72291, 13.72733, 13.78118, 13.73224, 13.72287, 13.74464, 13.7137, 13.72062, 13.71803, 13.73122, 13.83148, 13.82148, 13.72073, 13.72063, 13.779, 13.72096, 13.73782, 13.72687, 13.70169, 13.71192, 13.71602, 13.71798, 13.79274, 13.79315, 13.72141, 13.80926, 13.67805, 13.74814, 13.71513, 13.69947, 13.67998, 13.7281, 13.70004, 13.67991, 13.72214, 13.74902, 13.71498, 13.72825, 13.81694, 13.68426, 13.71905, 13.74052, 13.71012, 13.75224, 13.75135, 13.71782, 13.73816, 13.7104, 13.69949, 13.72157, 13.73675, 13.79128, 13.72646255738608, 13.69673, 13.69935, 13.69977, 13.698, 13.70068, 13.69925, 13.70086, 13.71922, 13.67317, 13.71119, 13.70497, 13.69832, 13.70218, ...]</td>\n",
              "    </tr>\n",
              "    <tr>\n",
              "      <th>7</th>\n",
              "      <td>longitude</td>\n",
              "      <td>10224</td>\n",
              "      <td>[100.54134, 100.61674, 100.62402, 100.57256, 100.63338, 100.5288, 100.49535, 100.56737, 100.56433, 100.50757, 100.5176, 100.54272, 100.51539, 100.57383, 100.56806, 100.53982, 100.59936, 100.56484, 100.56303, 100.56137, 100.64473, 100.49231, 100.57003, 100.57823, 100.59968, 100.53308, 100.53268, 100.63287, 100.771713, 100.46413, 100.52313, 100.6134, 100.55603, 100.54262, 100.53759, 100.52555, 100.58349, 100.57803, 100.51678, 100.55784, 100.59637, 100.54707, 100.54654, 100.46228, 100.52102, 100.58326, 100.5469, 100.54694, 100.83671, 100.52911, 100.55179, 100.52725, 100.5977, 100.51535, 100.52663, 100.52841, 100.33377, 100.33356, 100.72946, 100.56892, 100.62451, 100.52016, 100.5683, 100.52726, 100.61074, 100.57318, 100.6787, 100.61055, 100.50752, 100.55652, 100.53312, 100.53774, 100.56451, 100.49841, 100.50414, 100.55237, 100.60281, 100.58979, 100.49447, 100.51622, 100.56495, 100.60171, 100.54509, 100.57191, 100.54935, 100.49129336748284, 100.53202, 100.52723, 100.52652, 100.52886, 100.5228, 100.52624, 100.52276, 100.5255, 100.54406, 100.63334, 100.55134, 100.52434, 100.52254, 100.52806, ...]</td>\n",
              "    </tr>\n",
              "    <tr>\n",
              "      <th>8</th>\n",
              "      <td>room_type</td>\n",
              "      <td>4</td>\n",
              "      <td>[Entire home/apt, Private room, Hotel room, Shared room]</td>\n",
              "    </tr>\n",
              "    <tr>\n",
              "      <th>9</th>\n",
              "      <td>price</td>\n",
              "      <td>3040</td>\n",
              "      <td>[1905, 1316, 800, 1286, 1000, 1558, 1461, 700, 1150, 1893, 1862, 910, 1400, 4156, 1577, 122594, 5680, 5034, 1500, 1385, 3775, 2078, 1732, 2000, 3082, 1190, 1329, 1176, 600, 1659, 5429, 1843, 1870, 2500, 1300, 1200, 3500, 1795, 350, 1450, 8658, 3757, 1490, 2701, 2251, 866, 2696, 1736, 1800, 900, 400, 2900, 2226, 890, 3394, 922, 1543, 1589, 1271, 1747, 797, 6926, 1169, 5195, 829, 950, 2355, 980, 330, 3740, 1143, 831, 790, 720, 1211, 970, 929, 670, 1004, 811, 1629, 835, 926, 650, 5887, 1250, 2571, 3847, 1485, 2814, 707, 2061, 750, 693, 1088, 808, 500, 3097, 850, 1212, ...]</td>\n",
              "    </tr>\n",
              "    <tr>\n",
              "      <th>10</th>\n",
              "      <td>minimum_nights</td>\n",
              "      <td>86</td>\n",
              "      <td>[3, 1, 60, 7, 250, 2, 15, 30, 28, 21, 27, 4, 180, 90, 5, 358, 1125, 29, 14, 200, 365, 120, 9, 12, 300, 360, 100, 10, 45, 23, 6, 84, 370, 24, 31, 50, 19, 20, 75, 8, 25, 40, 26, 59, 58, 170, 399, 998, 13, 22, 356, 16, 183, 700, 150, 35, 355, 500, 89, 80, 18, 11, 85, 135, 198, 88, 160, 109, 148, 51, 1115, 113, 62, 450, 270, 55, 208, 1000, 17, 999, 400, 99, 1095, 39, 190, 364]</td>\n",
              "    </tr>\n",
              "    <tr>\n",
              "      <th>11</th>\n",
              "      <td>number_of_reviews</td>\n",
              "      <td>298</td>\n",
              "      <td>[65, 0, 2, 19, 1, 10, 4, 27, 129, 208, 3, 78, 9, 148, 287, 83, 76, 28, 63, 212, 90, 71, 5, 15, 7, 419, 95, 21, 268, 310, 118, 11, 104, 472, 43, 56, 295, 29, 67, 170, 12, 94, 40, 36, 293, 396, 80, 189, 430, 39, 32, 18, 82, 325, 35, 14, 127, 26, 48, 8, 120, 60, 38, 24, 404, 6, 109, 34, 206, 271, 93, 77, 426, 224, 147, 33, 37, 58, 135, 81, 117, 146, 53, 101, 25, 97, 20, 88, 256, 278, 167, 91, 31, 113, 192, 156, 92, 75, 103, 252, ...]</td>\n",
              "    </tr>\n",
              "    <tr>\n",
              "      <th>12</th>\n",
              "      <td>last_review</td>\n",
              "      <td>1669</td>\n",
              "      <td>[2020-01-06, nan, 2022-04-01, 2017-08-03, 2014-02-03, 2016-03-29, 2019-12-27, 2019-01-03, 2022-09-30, 2019-12-02, 2018-07-30, 2019-05-31, 2020-03-04, 2020-01-07, 2022-11-22, 2018-12-24, 2018-09-12, 2013-10-09, 2018-04-05, 2022-11-25, 2019-12-31, 2022-12-08, 2022-11-15, 2018-12-18, 2022-11-30, 2019-11-10, 2015-12-08, 2022-12-07, 2022-12-15, 2019-02-20, 2022-12-11, 2018-07-02, 2020-02-20, 2014-11-12, 2022-10-25, 2020-03-03, 2019-08-04, 2021-08-21, 2022-12-18, 2022-09-20, 2022-11-28, 2022-12-05, 2020-02-08, 2022-08-31, 2022-12-09, 2022-09-01, 2022-12-06, 2020-04-30, 2020-01-28, 2019-01-13, 2022-10-01, 2022-10-31, 2020-01-04, 2022-11-26, 2019-12-09, 2022-09-14, 2020-03-14, 2019-03-04, 2018-10-24, 2013-11-01, 2022-12-14, 2016-11-05, 2022-11-13, 2013-06-28, 2017-02-23, 2020-02-28, 2013-07-01, 2022-10-30, 2018-03-31, 2022-12-12, 2018-07-22, 2022-12-16, 2022-10-23, 2019-04-13, 2019-01-01, 2019-01-22, 2021-03-15, 2021-05-17, 2022-12-20, 2013-12-03, 2015-09-02, 2015-09-01, 2016-04-08, 2022-12-13, 2019-01-04, 2012-12-15, 2015-10-18, 2022-12-04, 2020-01-10, 2022-06-17, 2022-06-19, 2020-03-15, 2015-01-01, 2018-12-05, 2018-04-30, 2022-11-18, 2022-11-11, 2022-10-07, 2013-08-18, 2017-06-19, ...]</td>\n",
              "    </tr>\n",
              "    <tr>\n",
              "      <th>13</th>\n",
              "      <td>reviews_per_month</td>\n",
              "      <td>513</td>\n",
              "      <td>[0.5, nan, 0.03, 0.17, 0.01, 0.09, 0.19, 1.17, 1.44, 0.02, 0.78, 1.08, 2.59, 0.05, 0.75, 0.7, 0.28, 0.64, 0.47, 1.58, 0.77, 0.54, 0.14, 0.06, 3.77, 0.8, 3.0, 1.07, 0.15, 0.89, 4.02, 0.04, 0.46, 0.39, 0.43, 2.61, 0.27, 0.51, 1.54, 0.12, 0.33, 2.72, 3.02, 0.62, 1.45, 3.39, 0.3, 0.25, 0.18, 0.83, 2.67, 0.31, 0.11, 1.0, 0.23, 0.38, 0.07, 0.93, 0.4, 3.67, 1.15, 0.41, 0.32, 1.83, 2.97, 0.95, 0.1, 1.84, 1.18, 1.03, 0.13, 0.53, 1.79, 1.19, 0.72, 1.02, 1.27, 0.2, 0.92, 0.22, 0.21, 0.08, 2.13, 2.31, 0.26, 0.29, 1.2, 1.78, 0.81, 0.96, 1.22, 2.11, 0.37, 0.71, 0.24, 1.36, 1.98, 1.12, 1.96, 2.12, ...]</td>\n",
              "    </tr>\n",
              "    <tr>\n",
              "      <th>14</th>\n",
              "      <td>calculated_host_listings_count</td>\n",
              "      <td>50</td>\n",
              "      <td>[2, 1, 3, 41, 10, 7, 6, 4, 37, 8, 19, 5, 53, 45, 13, 11, 25, 24, 36, 29, 18, 12, 9, 15, 44, 33, 39, 21, 34, 89, 32, 56, 62, 23, 14, 22, 17, 28, 16, 31, 20, 26, 228, 48, 99, 27, 30, 49, 40, 35]</td>\n",
              "    </tr>\n",
              "    <tr>\n",
              "      <th>15</th>\n",
              "      <td>availability_365</td>\n",
              "      <td>366</td>\n",
              "      <td>[353, 358, 365, 323, 87, 320, 356, 361, 330, 180, 334, 349, 364, 55, 263, 350, 95, 207, 336, 174, 156, 331, 88, 355, 363, 339, 145, 134, 16, 0, 242, 256, 59, 167, 219, 142, 149, 176, 129, 230, 301, 120, 75, 44, 270, 346, 272, 162, 347, 359, 304, 62, 82, 342, 348, 130, 154, 244, 344, 354, 317, 54, 362, 271, 255, 144, 357, 181, 236, 127, 146, 124, 221, 294, 13, 318, 56, 267, 293, 107, 360, 314, 316, 89, 57, 312, 70, 179, 10, 338, 86, 302, 321, 98, 217, 341, 90, 325, 333, 1, ...]</td>\n",
              "    </tr>\n",
              "    <tr>\n",
              "      <th>16</th>\n",
              "      <td>number_of_reviews_ltm</td>\n",
              "      <td>85</td>\n",
              "      <td>[0, 1, 3, 13, 2, 7, 5, 10, 9, 12, 29, 4, 19, 56, 20, 11, 6, 14, 8, 43, 18, 30, 15, 277, 26, 59, 21, 41, 16, 22, 25, 38, 42, 40, 31, 39, 35, 44, 17, 27, 36, 23, 79, 50, 24, 34, 47, 37, 32, 73, 48, 28, 45, 67, 46, 147, 109, 68, 62, 51, 72, 52, 49, 33, 69, 325, 55, 146, 61, 124, 75, 71, 138, 57, 70, 90, 65, 141, 246, 118, 80, 53, 63, 60, 101]</td>\n",
              "    </tr>\n",
              "  </tbody>\n",
              "</table>\n",
              "</div>"
            ],
            "text/plain": [
              "                       Column Name  Number of Unique  \\\n",
              "0   Unnamed: 0                      15854              \n",
              "1   id                              15854              \n",
              "2   name                            14794              \n",
              "3   host_id                         6659               \n",
              "4   host_name                       5312               \n",
              "5   neighbourhood                   50                 \n",
              "6   latitude                        9606               \n",
              "7   longitude                       10224              \n",
              "8   room_type                       4                  \n",
              "9   price                           3040               \n",
              "10  minimum_nights                  86                 \n",
              "11  number_of_reviews               298                \n",
              "12  last_review                     1669               \n",
              "13  reviews_per_month               513                \n",
              "14  calculated_host_listings_count  50                 \n",
              "15  availability_365                366                \n",
              "16  number_of_reviews_ltm           85                 \n",
              "\n",
              "                                                                                                                                                                                                                                                                                                                                                                                                                                                                                                                                                                                                                                                                                                                                                                                                                                                                                                                                                                                                                                                                                                                                                                                                                                                                                                                                                                                                                                                                                                                                                                                                                                                                                                                                                                                                                                                                                                                                                                                                                                                                                                                                                                                                                                                                                                                                                                                                                                                                                                                                                                                                                                                                                                                                                                                                                                                                                                                                                                                                                                                                                                                                                                                                                                                                                                                                                                                                                                                                                                                                                                                                                                                                                                                                                                                                                                                    Unique Values  \n",
              "0   [0, 1, 2, 3, 4, 5, 6, 7, 8, 9, 10, 11, 12, 13, 14, 15, 16, 17, 18, 19, 20, 21, 22, 23, 24, 25, 26, 27, 28, 29, 30, 31, 32, 33, 34, 35, 36, 37, 38, 39, 40, 41, 42, 43, 44, 45, 46, 47, 48, 49, 50, 51, 52, 53, 54, 55, 56, 57, 58, 59, 60, 61, 62, 63, 64, 65, 66, 67, 68, 69, 70, 71, 72, 73, 74, 75, 76, 77, 78, 79, 80, 81, 82, 83, 84, 85, 86, 87, 88, 89, 90, 91, 92, 93, 94, 95, 96, 97, 98, 99, ...]                                                                                                                                                                                                                                                                                                                                                                                                                                                                                                                                                                                                                                                                                                                                                                                                                                                                                                                                                                                                                                                                                                                                                                                                                                                                                                                                                                                                                                                                                                                                                                                                                                                                                                                                                                                                                                                                                                                                                                                                                                                                                                                                                                                                                                                                                                                                                                                                                                                                                                                                                                                                                                                                                                                                                                                                                                                                                                                                                                                                                                                                                                                                                                                                                                                                                                                                                                                                                                                    \n",
              "1   [27934, 27979, 28745, 35780, 941865, 1704776, 48736, 1738669, 1744248, 952677, 55681, 1765918, 55686, 59221, 959254, 62217, 1791481, 66046, 105042, 1793000, 960858, 113744, 965722, 1808600, 118118, 1816517, 969792, 121410, 145343, 973830, 156583, 1823321, 159854, 976690, 978531, 166267, 169285, 978969, 1842066, 169514, 1849029, 1862089, 985743, 988373, 172332, 1016487, 1862331, 1862377, 185364, 1887544, 1888303, 1019241, 241416, 1026451, 1028469, 1028486, 1035589, 1035640, 1897982, 296960, 1898332, 1041976, 313459, 1052180, 1926489, 320014, 1933894, 1057173, 1060320, 384924, 1067748, 1077493, 1943048, 385130, 385278, 385979, 390611, 1947314, 1079039, 1086843, 393066, 397449, 405662, 1088343, 1094136, 1961981, 407381, 1975849, 1133843, 413824, 428360, 428421, 428907, 428950, 430691, 430703, 430706, 432004, 439051, 1138679, ...]                                                                                                                                                                                                                                                                                                                                                                                                                                                                                                                                                                                                                                                                                                                                                                                                                                                                                                                                                                                                                                                                                                                                                                                                                                                                                                                                                                                                                                                                                                                                                                                                                                                                                                                                                                                                                                                                                                                                                                                                                                                                                                                                                                                                                                                                                                                                                                                                                                                                                                                                                                                                                                                                                                                                                                                                                                                                                                                                                                                         \n",
              "2   [Nice room with superb city view, Easy going landlord,easy place, modern-style apartment in Bangkok, Spacious one bedroom at The Kris Condo Bldg. 3, Suite Room 3 at MetroPoint, NEw Pro!!  Bungalow Bkk Centre, Condo with Chaopraya River View, 1 chic bedroom apartment in BKK, Batcave, Pool view, near Chatuchak, Standard Room Decor do Hostel, Sathorn Terrace Apartment(61), 2BR apt in a cozy neighborhood, Comfy bedroom near River pier & BTS  Taksin., budget hotel bangkok near subway, Deluxe Condo, Nana, Pool/GYM/Sauna, Luxury@swimpool/FreeWiFi/nearJJMkt, Nice and Quiet condo near BTS Onnut, 24Flr- 1br Apt near JJ, MRT, BTS, Central Bangkok 3 Bedroom Apartment, The Duplex - Asoke- Luxury 92sqm, New, Stylish & Luxury Studio Condo, River View - Ivy Condo (1 Bedroom), Siamese Gioia on Sukhumvit 31, Contemporary Modern Duplex-Thong Lo, Pan Dao Condo 5 min from BTS On Nut, 1 BR condominium center BKK +NETFLIX+55SQM, 1 penthouse in central Bangkok, MetroPoint Suite Room, Near Airport, Boutique Rooms Near Bangkok Airport, BangLuang House1 @ Bangkok Thailand, Studio near Chula University/Silom walk to MRT/BTS, กรองทองแมนชั่น (ลาดพร้าว 81), Deluxe one Bedroom Condo w.Pool-GYM & Sauna 8-7, Beautiful 1 BR apartment @BTS Ari, Urban Oasis in the heart of Bangkok, 1Bed apt. near Chula University/Silom, Stay at the ROARING RATCHADA!, 60 m2 apartment in Thong Lor, Bangkok, ICONSIAM River view  on 49th floor, 2br apt in Sukhumvit Asoke near BTS, Self catering cozy1-bed near BTS, ❂☀☀☀Perfect Escape☀☀☀Sunny Roof EnSuite☀☀☀☀, Room with city view of BKK, BangLuang House 2@ Bangkok Thailand, Tranquility found in busy Bangkok near new skytran, Private room in Bangkok, ☞✪✪✪✪Roomy Studio 4 Family r friends✪No Stairs✪✪✪✪, ☞Downtown Central Studio-Bangkok MRT, Beautiful Wood Bangkok Resort House, \"Serviced 2 Bed Scenic SkyVillas\", Cozy 1BR rooftop (BTS Ploenchit) heart of bangkok, Chic two bedroom for Monthly rental, Sukhumvit52 near SkyTrain to BkkCBD, ♡Chic Studio, Easy Walk to Pier & BTS Taksin♡, One Bedroom Suite- WIFI- SATHORN, STUDIO RM2 - WIFI- SATHORN, Quiet Double  Bed Apartment, Quiet Double Bed Apartment, Suvarnabhumi free transfer, Luxury&Comfy wthWifi walk-distance to Subwy-Malls, Apr. for rent full fur 1 bedroom, monthly, Long-stay special rate spacious entire floor Siam, One Bed Room at Sukumvit 50 Bangkok, City View, relaxed theme & delicious food around, Ideo Blucove Sukhumvit Bangkok, 2-BR condo near BTS on Sukhumvit Rd, NewlyRenovated! 3Br,SingleHouse, Park/BTS/Airport., IdeoMix, Sukhumvit RD, close to BTS, Mix Dorm  Decor do Hostel, Oasis in the heart of Bangkok, 5 mins by car from Chong Nonsi BTS Station, Inn Saladaeng - Superior hotel room, Best nr Chatujak, MRT, BTS free wifi&fNetflix, ❂Citycenter✔Subway station✔Private Bathroom4Aircon, Nice River View Condominium 30 sq.m, Monthly rent 2Beds/2Baths quiet APT at BTS, Sukhumvit apartment near Nana BTS, A room w/ the view :-) in the city, Spacious 1Bed apartment, Near Bangkok more space than urban!, ✺✺99 feet in the sky✺✺, Cozy Studio Apt near Skytrain.(72/74), Asoke: tasteful, modern 1BR condo, 2 bed 2 bath, BTS, Supermarkets, Monthly, Private, relaxed with amenities, S1 hostel (Dorm) Sathorn Bangkok, 3 minutes walk to Phrom Phong BTS, 1 BDM CONDO SAPHAN KWAI/ARI walk to JJ/BTS/MRT, เฮ้าส์โหมด House Mode, ❂100% Private&Central Light EnSuite, Spacious Studio kitchen/wifi, 2. Bangkok bright Apartment 201, 1.Bangkok great value Studio WIFI, BKK City Fab Luxx Studio free wifi @1194, 5. Bangkok Bright Apartment -WIFI, 6. Bangkok nice, cosy Apartment 201, 7. Bangkok big bright Apartment 402, STUDIO-WIFI-RAIN SHOWER-SATHORN, Luxury Riverview Teakwood Apartment-Great Views :), 1 Bed Pool Access Onnut BTS, ...]  \n",
              "3   [120437, 120541, 123784, 153730, 610315, 2129668, 222005, 7045870, 9181769, 5171292, 263049, 9279712, 284095, 5153476, 302658, 9399478, 323158, 545890, 9407280, 3769704, 578110, 5265861, 9478184, 596463, 8492603, 5297436, 703944, 5325919, 58920, 9545111, 766443, 5344120, 5309669, 806600, 5358785, 9626074, 729617, 9652914, 1927968, 822284, 5594281, 8214044, 889670, 6132593, 9821998, 3323622, 960892, 3346331, 2148220, 4115838, 8362130, 175729, 4837310, 5735895, 1611711, 5793490, 9434109, 843854, 9509219, 5822937, 1667508, 4154759, 5929404, 9906827, 1928343, 1681901, 807406, 10070953, 5935474, 4937984, 1425515, 5981006, 10138065, 1463818, 8480912, 6220137, 2122791, 4877320, 10204823, 2592798, 10222460, 10246374, 7454779, 8664261, 6262801, 6313832, 1513875, 5402740, 2625384, 6586465, 9390848, 2864425, 10581237, 1780407, 6647138, 6648722, 2940438, 3533863, 3687435, 5469059, ...]                                                                                                                                                                                                                                                                                                                                                                                                                                                                                                                                                                                                                                                                                                                                                                                                                                                                                                                                                                                                                                                                                                                                                                                                                                                                                                                                                                                                                                                                                                                                                                                                                                                                                                                                                                                                                                                                                                                                                                                                                                                                                                                                                                                                                                                                                                                                                                                                                                                                                                                                                                                                                                                                                                                                                                                                                                                                                                                                         \n",
              "4   [Nuttee, Emy, Familyroom, Sirilak, Kasem, Wimonpak, Athitaya, Jiraporn, Nol, Somsak, Tor, Jing, Mimi, Natcha, Srisuk, Piyakorn, Sue, Henry, Timo, Pat, Muay, Chuchart, Shine, Dustin, Sudhichai, Anya, Parinya, วสวัตติ์, Gael, Penjit, Gerd, Nattavut, Apiradee, Frances, Danny, Weera, Kanchuya, Jirasak, Evan, Rae And Charlie, Yodying, Evan From Sanctuary House, Narumon, Salvatore, Pichanee, Phoebe, Vajirune, Bee, Marvin, Primrose, Luckana, Mitch & Mam, Veesa, Pariya, Nichapat, Nicky, Sander, Anshera, Piya, Siriwipa, Inn Saladaeng & The Sathon Vimanda, Nokiko, Chanvit, Pornpan, Hollis, Vichit, Tisa, Sugarcane, Peter, Sibyl, S1, Amporn, Chris And Lek, Prapussorn, Maam & Hermann, Nisa, Jahidul, Nokina, Preeda, Arika, Lily Duangdao, Kriengkrai, Andrea, Psirivedin, Suchada, Nattha, Mike, Tayawat, VeeZa, Urcha, Anchana, Feb, NiNew, Taweewat  (Ken), Kinifrog, Sarasinee, Avinash, Andrew, Tam, Egidio, ...]                                                                                                                                                                                                                                                                                                                                                                                                                                                                                                                                                                                                                                                                                                                                                                                                                                                                                                                                                                                                                                                                                                                                                                                                                                                                                                                                                                                                                                                                                                                                                                                                                                                                                                                                                                                                                                                                                                                                                                                                                                                                                                                                                                                                                                                                                                                                                                                                                                                                                                                                                                                                                                                                                                                                                                                                                                                                                                                      \n",
              "5   [Ratchathewi, Bang Na, Bang Kapi, Din Daeng, Bang Kho laen, Rat Burana, Chatu Chak, Khlong San, Bang Rak, Phaya Thai, Sathon, Khlong Toei, Vadhana, Sai Mai, Lat Krabang, Bangkok Yai, Wang Thong Lang, Huai Khwang, Phasi Charoen, Bang Sue, Nong Chok, Phra Khanong, Thawi Watthana, Parthum Wan, Pra Wet, Phra Nakhon, Thon buri, Yan na wa, Suanluang, Don Mueang, Dusit, Lak Si, Samphanthawong, Bueng Kum, Bang Phlat, Saphan Sung, Min Buri, Khan Na Yao, Khlong Sam Wa, Bang Khen, Lat Phrao, Chom Thong, Bangkok Noi, Pom Prap Sattru Phai, Nong Khaem, Thung khru, Bang Khae, Bang Khun thain, Taling Chan, Bang Bon]                                                                                                                                                                                                                                                                                                                                                                                                                                                                                                                                                                                                                                                                                                                                                                                                                                                                                                                                                                                                                                                                                                                                                                                                                                                                                                                                                                                                                                                                                                                                                                                                                                                                                                                                                                                                                                                                                                                                                                                                                                                                                                                                                                                                                                                                                                                                                                                                                                                                                                                                                                                                                                                                                                                                                                                                                                                                                                                                                                                                                                                                                                                                                                                                                                \n",
              "6   [13.75983, 13.66818, 13.75232, 13.78823, 13.76872, 13.69757, 13.68556, 13.82925, 13.81693, 13.7204, 13.71934, 13.77486, 13.71802, 13.77941, 13.71516, 13.79152, 13.70719, 13.82298, 13.73378, 13.74668, 13.9077, 13.68568, 13.74444, 13.72097, 13.70441, 13.75351, 13.7547, 13.76747, 13.721868, 13.73292, 13.7285, 13.78938, 13.74293, 13.77931, 13.72291, 13.72733, 13.78118, 13.73224, 13.72287, 13.74464, 13.7137, 13.72062, 13.71803, 13.73122, 13.83148, 13.82148, 13.72073, 13.72063, 13.779, 13.72096, 13.73782, 13.72687, 13.70169, 13.71192, 13.71602, 13.71798, 13.79274, 13.79315, 13.72141, 13.80926, 13.67805, 13.74814, 13.71513, 13.69947, 13.67998, 13.7281, 13.70004, 13.67991, 13.72214, 13.74902, 13.71498, 13.72825, 13.81694, 13.68426, 13.71905, 13.74052, 13.71012, 13.75224, 13.75135, 13.71782, 13.73816, 13.7104, 13.69949, 13.72157, 13.73675, 13.79128, 13.72646255738608, 13.69673, 13.69935, 13.69977, 13.698, 13.70068, 13.69925, 13.70086, 13.71922, 13.67317, 13.71119, 13.70497, 13.69832, 13.70218, ...]                                                                                                                                                                                                                                                                                                                                                                                                                                                                                                                                                                                                                                                                                                                                                                                                                                                                                                                                                                                                                                                                                                                                                                                                                                                                                                                                                                                                                                                                                                                                                                                                                                                                                                                                                                                                                                                                                                                                                                                                                                                                                                                                                                                                                                                                                                                                                                                                                                                                                                                                                                                                                                                                                                                                                                                                                   \n",
              "7   [100.54134, 100.61674, 100.62402, 100.57256, 100.63338, 100.5288, 100.49535, 100.56737, 100.56433, 100.50757, 100.5176, 100.54272, 100.51539, 100.57383, 100.56806, 100.53982, 100.59936, 100.56484, 100.56303, 100.56137, 100.64473, 100.49231, 100.57003, 100.57823, 100.59968, 100.53308, 100.53268, 100.63287, 100.771713, 100.46413, 100.52313, 100.6134, 100.55603, 100.54262, 100.53759, 100.52555, 100.58349, 100.57803, 100.51678, 100.55784, 100.59637, 100.54707, 100.54654, 100.46228, 100.52102, 100.58326, 100.5469, 100.54694, 100.83671, 100.52911, 100.55179, 100.52725, 100.5977, 100.51535, 100.52663, 100.52841, 100.33377, 100.33356, 100.72946, 100.56892, 100.62451, 100.52016, 100.5683, 100.52726, 100.61074, 100.57318, 100.6787, 100.61055, 100.50752, 100.55652, 100.53312, 100.53774, 100.56451, 100.49841, 100.50414, 100.55237, 100.60281, 100.58979, 100.49447, 100.51622, 100.56495, 100.60171, 100.54509, 100.57191, 100.54935, 100.49129336748284, 100.53202, 100.52723, 100.52652, 100.52886, 100.5228, 100.52624, 100.52276, 100.5255, 100.54406, 100.63334, 100.55134, 100.52434, 100.52254, 100.52806, ...]                                                                                                                                                                                                                                                                                                                                                                                                                                                                                                                                                                                                                                                                                                                                                                                                                                                                                                                                                                                                                                                                                                                                                                                                                                                                                                                                                                                                                                                                                                                                                                                                                                                                                                                                                                                                                                                                                                                                                                                                                                                                                                                                                                                                                                                                                                                                                                                                                                                                                                                                                                                                                                                                                                             \n",
              "8   [Entire home/apt, Private room, Hotel room, Shared room]                                                                                                                                                                                                                                                                                                                                                                                                                                                                                                                                                                                                                                                                                                                                                                                                                                                                                                                                                                                                                                                                                                                                                                                                                                                                                                                                                                                                                                                                                                                                                                                                                                                                                                                                                                                                                                                                                                                                                                                                                                                                                                                                                                                                                                                                                                                                                                                                                                                                                                                                                                                                                                                                                                                                                                                                                                                                                                                                                                                                                                                                                                                                                                                                                                                                                                                                                                                                                                                                                                                                                                                                                                                                                                                                                                                                       \n",
              "9   [1905, 1316, 800, 1286, 1000, 1558, 1461, 700, 1150, 1893, 1862, 910, 1400, 4156, 1577, 122594, 5680, 5034, 1500, 1385, 3775, 2078, 1732, 2000, 3082, 1190, 1329, 1176, 600, 1659, 5429, 1843, 1870, 2500, 1300, 1200, 3500, 1795, 350, 1450, 8658, 3757, 1490, 2701, 2251, 866, 2696, 1736, 1800, 900, 400, 2900, 2226, 890, 3394, 922, 1543, 1589, 1271, 1747, 797, 6926, 1169, 5195, 829, 950, 2355, 980, 330, 3740, 1143, 831, 790, 720, 1211, 970, 929, 670, 1004, 811, 1629, 835, 926, 650, 5887, 1250, 2571, 3847, 1485, 2814, 707, 2061, 750, 693, 1088, 808, 500, 3097, 850, 1212, ...]                                                                                                                                                                                                                                                                                                                                                                                                                                                                                                                                                                                                                                                                                                                                                                                                                                                                                                                                                                                                                                                                                                                                                                                                                                                                                                                                                                                                                                                                                                                                                                                                                                                                                                                                                                                                                                                                                                                                                                                                                                                                                                                                                                                                                                                                                                                                                                                                                                                                                                                                                                                                                                                                                                                                                                                                                                                                                                                                                                                                                                                                                                                                                                                                                                                               \n",
              "10  [3, 1, 60, 7, 250, 2, 15, 30, 28, 21, 27, 4, 180, 90, 5, 358, 1125, 29, 14, 200, 365, 120, 9, 12, 300, 360, 100, 10, 45, 23, 6, 84, 370, 24, 31, 50, 19, 20, 75, 8, 25, 40, 26, 59, 58, 170, 399, 998, 13, 22, 356, 16, 183, 700, 150, 35, 355, 500, 89, 80, 18, 11, 85, 135, 198, 88, 160, 109, 148, 51, 1115, 113, 62, 450, 270, 55, 208, 1000, 17, 999, 400, 99, 1095, 39, 190, 364]                                                                                                                                                                                                                                                                                                                                                                                                                                                                                                                                                                                                                                                                                                                                                                                                                                                                                                                                                                                                                                                                                                                                                                                                                                                                                                                                                                                                                                                                                                                                                                                                                                                                                                                                                                                                                                                                                                                                                                                                                                                                                                                                                                                                                                                                                                                                                                                                                                                                                                                                                                                                                                                                                                                                                                                                                                                                                                                                                                                                                                                                                                                                                                                                                                                                                                                                                                                                                                                                        \n",
              "11  [65, 0, 2, 19, 1, 10, 4, 27, 129, 208, 3, 78, 9, 148, 287, 83, 76, 28, 63, 212, 90, 71, 5, 15, 7, 419, 95, 21, 268, 310, 118, 11, 104, 472, 43, 56, 295, 29, 67, 170, 12, 94, 40, 36, 293, 396, 80, 189, 430, 39, 32, 18, 82, 325, 35, 14, 127, 26, 48, 8, 120, 60, 38, 24, 404, 6, 109, 34, 206, 271, 93, 77, 426, 224, 147, 33, 37, 58, 135, 81, 117, 146, 53, 101, 25, 97, 20, 88, 256, 278, 167, 91, 31, 113, 192, 156, 92, 75, 103, 252, ...]                                                                                                                                                                                                                                                                                                                                                                                                                                                                                                                                                                                                                                                                                                                                                                                                                                                                                                                                                                                                                                                                                                                                                                                                                                                                                                                                                                                                                                                                                                                                                                                                                                                                                                                                                                                                                                                                                                                                                                                                                                                                                                                                                                                                                                                                                                                                                                                                                                                                                                                                                                                                                                                                                                                                                                                                                                                                                                                                                                                                                                                                                                                                                                                                                                                                                                                                                                                                             \n",
              "12  [2020-01-06, nan, 2022-04-01, 2017-08-03, 2014-02-03, 2016-03-29, 2019-12-27, 2019-01-03, 2022-09-30, 2019-12-02, 2018-07-30, 2019-05-31, 2020-03-04, 2020-01-07, 2022-11-22, 2018-12-24, 2018-09-12, 2013-10-09, 2018-04-05, 2022-11-25, 2019-12-31, 2022-12-08, 2022-11-15, 2018-12-18, 2022-11-30, 2019-11-10, 2015-12-08, 2022-12-07, 2022-12-15, 2019-02-20, 2022-12-11, 2018-07-02, 2020-02-20, 2014-11-12, 2022-10-25, 2020-03-03, 2019-08-04, 2021-08-21, 2022-12-18, 2022-09-20, 2022-11-28, 2022-12-05, 2020-02-08, 2022-08-31, 2022-12-09, 2022-09-01, 2022-12-06, 2020-04-30, 2020-01-28, 2019-01-13, 2022-10-01, 2022-10-31, 2020-01-04, 2022-11-26, 2019-12-09, 2022-09-14, 2020-03-14, 2019-03-04, 2018-10-24, 2013-11-01, 2022-12-14, 2016-11-05, 2022-11-13, 2013-06-28, 2017-02-23, 2020-02-28, 2013-07-01, 2022-10-30, 2018-03-31, 2022-12-12, 2018-07-22, 2022-12-16, 2022-10-23, 2019-04-13, 2019-01-01, 2019-01-22, 2021-03-15, 2021-05-17, 2022-12-20, 2013-12-03, 2015-09-02, 2015-09-01, 2016-04-08, 2022-12-13, 2019-01-04, 2012-12-15, 2015-10-18, 2022-12-04, 2020-01-10, 2022-06-17, 2022-06-19, 2020-03-15, 2015-01-01, 2018-12-05, 2018-04-30, 2022-11-18, 2022-11-11, 2022-10-07, 2013-08-18, 2017-06-19, ...]                                                                                                                                                                                                                                                                                                                                                                                                                                                                                                                                                                                                                                                                                                                                                                                                                                                                                                                                                                                                                                                                                                                                                                                                                                                                                                                                                                                                                                                                                                                                                                                                                                                                                                                                                                                                                                                                                                                                                                                                                                                                                                                                                                                                                                                                                                                                                                                                                                                                                                                                                                                                                 \n",
              "13  [0.5, nan, 0.03, 0.17, 0.01, 0.09, 0.19, 1.17, 1.44, 0.02, 0.78, 1.08, 2.59, 0.05, 0.75, 0.7, 0.28, 0.64, 0.47, 1.58, 0.77, 0.54, 0.14, 0.06, 3.77, 0.8, 3.0, 1.07, 0.15, 0.89, 4.02, 0.04, 0.46, 0.39, 0.43, 2.61, 0.27, 0.51, 1.54, 0.12, 0.33, 2.72, 3.02, 0.62, 1.45, 3.39, 0.3, 0.25, 0.18, 0.83, 2.67, 0.31, 0.11, 1.0, 0.23, 0.38, 0.07, 0.93, 0.4, 3.67, 1.15, 0.41, 0.32, 1.83, 2.97, 0.95, 0.1, 1.84, 1.18, 1.03, 0.13, 0.53, 1.79, 1.19, 0.72, 1.02, 1.27, 0.2, 0.92, 0.22, 0.21, 0.08, 2.13, 2.31, 0.26, 0.29, 1.2, 1.78, 0.81, 0.96, 1.22, 2.11, 0.37, 0.71, 0.24, 1.36, 1.98, 1.12, 1.96, 2.12, ...]                                                                                                                                                                                                                                                                                                                                                                                                                                                                                                                                                                                                                                                                                                                                                                                                                                                                                                                                                                                                                                                                                                                                                                                                                                                                                                                                                                                                                                                                                                                                                                                                                                                                                                                                                                                                                                                                                                                                                                                                                                                                                                                                                                                                                                                                                                                                                                                                                                                                                                                                                                                                                                                                                                                                                                                                                                                                                                                                                                                                                                                                                                                                                                                                                                             \n",
              "14  [2, 1, 3, 41, 10, 7, 6, 4, 37, 8, 19, 5, 53, 45, 13, 11, 25, 24, 36, 29, 18, 12, 9, 15, 44, 33, 39, 21, 34, 89, 32, 56, 62, 23, 14, 22, 17, 28, 16, 31, 20, 26, 228, 48, 99, 27, 30, 49, 40, 35]                                                                                                                                                                                                                                                                                                                                                                                                                                                                                                                                                                                                                                                                                                                                                                                                                                                                                                                                                                                                                                                                                                                                                                                                                                                                                                                                                                                                                                                                                                                                                                                                                                                                                                                                                                                                                                                                                                                                                                                                                                                                                                                                                                                                                                                                                                                                                                                                                                                                                                                                                                                                                                                                                                                                                                                                                                                                                                                                                                                                                                                                                                                                                                                                                                                                                                                                                                                                                                                                                                                                                                                                                                                               \n",
              "15  [353, 358, 365, 323, 87, 320, 356, 361, 330, 180, 334, 349, 364, 55, 263, 350, 95, 207, 336, 174, 156, 331, 88, 355, 363, 339, 145, 134, 16, 0, 242, 256, 59, 167, 219, 142, 149, 176, 129, 230, 301, 120, 75, 44, 270, 346, 272, 162, 347, 359, 304, 62, 82, 342, 348, 130, 154, 244, 344, 354, 317, 54, 362, 271, 255, 144, 357, 181, 236, 127, 146, 124, 221, 294, 13, 318, 56, 267, 293, 107, 360, 314, 316, 89, 57, 312, 70, 179, 10, 338, 86, 302, 321, 98, 217, 341, 90, 325, 333, 1, ...]                                                                                                                                                                                                                                                                                                                                                                                                                                                                                                                                                                                                                                                                                                                                                                                                                                                                                                                                                                                                                                                                                                                                                                                                                                                                                                                                                                                                                                                                                                                                                                                                                                                                                                                                                                                                                                                                                                                                                                                                                                                                                                                                                                                                                                                                                                                                                                                                                                                                                                                                                                                                                                                                                                                                                                                                                                                                                                                                                                                                                                                                                                                                                                                                                                                                                                                                                              \n",
              "16  [0, 1, 3, 13, 2, 7, 5, 10, 9, 12, 29, 4, 19, 56, 20, 11, 6, 14, 8, 43, 18, 30, 15, 277, 26, 59, 21, 41, 16, 22, 25, 38, 42, 40, 31, 39, 35, 44, 17, 27, 36, 23, 79, 50, 24, 34, 47, 37, 32, 73, 48, 28, 45, 67, 46, 147, 109, 68, 62, 51, 72, 52, 49, 33, 69, 325, 55, 146, 61, 124, 75, 71, 138, 57, 70, 90, 65, 141, 246, 118, 80, 53, 63, 60, 101]                                                                                                                                                                                                                                                                                                                                                                                                                                                                                                                                                                                                                                                                                                                                                                                                                                                                                                                                                                                                                                                                                                                                                                                                                                                                                                                                                                                                                                                                                                                                                                                                                                                                                                                                                                                                                                                                                                                                                                                                                                                                                                                                                                                                                                                                                                                                                                                                                                                                                                                                                                                                                                                                                                                                                                                                                                                                                                                                                                                                                                                                                                                                                                                                                                                                                                                                                                                                                                                                                                          "
            ]
          },
          "metadata": {},
          "output_type": "display_data"
        },
        {
          "data": {
            "text/plain": [
              "'Data Duplikat = 0'"
            ]
          },
          "metadata": {},
          "output_type": "display_data"
        }
      ],
      "source": [
        "pd.set_option('display.max_colwidth', 0)\n",
        "df_unique=pd.DataFrame(df.nunique()).reset_index().rename(columns={'index':'Column Name',0:'Number of Unique'})\n",
        "df_unique['Unique Values']=[df[i].unique() for i in df]\n",
        "display(df_unique,f'Data Duplikat = {df.duplicated().sum()}')"
      ]
    },
    {
      "cell_type": "code",
      "execution_count": 6235,
      "metadata": {},
      "outputs": [],
      "source": [
        "# Ubah nama kolom id dan name menjadi listing_id dan listing_name\n",
        "df.rename(columns={'id': 'listing_id','name':'listing_name'}, inplace=True)"
      ]
    },
    {
      "cell_type": "code",
      "execution_count": 6236,
      "metadata": {
        "colab": {
          "base_uri": "https://localhost:8080/",
          "height": 1000
        },
        "id": "UyqYpjaID6f2",
        "outputId": "f10db80b-a8e8-4410-976d-b6baa905a2c4"
      },
      "outputs": [
        {
          "data": {
            "text/html": [
              "<div>\n",
              "<style scoped>\n",
              "    .dataframe tbody tr th:only-of-type {\n",
              "        vertical-align: middle;\n",
              "    }\n",
              "\n",
              "    .dataframe tbody tr th {\n",
              "        vertical-align: top;\n",
              "    }\n",
              "\n",
              "    .dataframe thead th {\n",
              "        text-align: right;\n",
              "    }\n",
              "</style>\n",
              "<table border=\"1\" class=\"dataframe\">\n",
              "  <thead>\n",
              "    <tr style=\"text-align: right;\">\n",
              "      <th></th>\n",
              "      <th>Column Name</th>\n",
              "      <th>Number of Unique</th>\n",
              "      <th>Unique Sample</th>\n",
              "    </tr>\n",
              "  </thead>\n",
              "  <tbody>\n",
              "    <tr>\n",
              "      <th>0</th>\n",
              "      <td>Unnamed: 0</td>\n",
              "      <td>15854</td>\n",
              "      <td>[0, 1, 2, 3, 4, 5, 6, 7, 8, 9, 10, 11, 12, 13, 14, 15, 16, 17, 18, 19, 20, 21, 22, 23, 24, 25, 26, 27, 28, 29, 30, 31, 32, 33, 34, 35, 36, 37, 38, 39, 40, 41, 42, 43, 44, 45, 46, 47, 48, 49, 50, 51, 52, 53, 54, 55, 56, 57, 58, 59, 60, 61, 62, 63, 64, 65, 66, 67, 68, 69, 70, 71, 72, 73, 74, 75, 76, 77, 78, 79, 80, 81, 82, 83, 84, 85, 86, 87, 88, 89, 90, 91, 92, 93, 94, 95, 96, 97, 98, 99, ...]</td>\n",
              "    </tr>\n",
              "    <tr>\n",
              "      <th>1</th>\n",
              "      <td>listing_id</td>\n",
              "      <td>15854</td>\n",
              "      <td>[27934, 27979, 28745, 35780, 941865, 1704776, 48736, 1738669, 1744248, 952677, 55681, 1765918, 55686, 59221, 959254, 62217, 1791481, 66046, 105042, 1793000, 960858, 113744, 965722, 1808600, 118118, 1816517, 969792, 121410, 145343, 973830, 156583, 1823321, 159854, 976690, 978531, 166267, 169285, 978969, 1842066, 169514, 1849029, 1862089, 985743, 988373, 172332, 1016487, 1862331, 1862377, 185364, 1887544, 1888303, 1019241, 241416, 1026451, 1028469, 1028486, 1035589, 1035640, 1897982, 296960, 1898332, 1041976, 313459, 1052180, 1926489, 320014, 1933894, 1057173, 1060320, 384924, 1067748, 1077493, 1943048, 385130, 385278, 385979, 390611, 1947314, 1079039, 1086843, 393066, 397449, 405662, 1088343, 1094136, 1961981, 407381, 1975849, 1133843, 413824, 428360, 428421, 428907, 428950, 430691, 430703, 430706, 432004, 439051, 1138679, ...]</td>\n",
              "    </tr>\n",
              "    <tr>\n",
              "      <th>2</th>\n",
              "      <td>listing_name</td>\n",
              "      <td>14794</td>\n",
              "      <td>[Nice room with superb city view, Easy going landlord,easy place, modern-style apartment in Bangkok, Spacious one bedroom at The Kris Condo Bldg. 3, Suite Room 3 at MetroPoint, NEw Pro!!  Bungalow Bkk Centre, Condo with Chaopraya River View, 1 chic bedroom apartment in BKK, Batcave, Pool view, near Chatuchak, Standard Room Decor do Hostel, Sathorn Terrace Apartment(61), 2BR apt in a cozy neighborhood, Comfy bedroom near River pier &amp; BTS  Taksin., budget hotel bangkok near subway, Deluxe Condo, Nana, Pool/GYM/Sauna, Luxury@swimpool/FreeWiFi/nearJJMkt, Nice and Quiet condo near BTS Onnut, 24Flr- 1br Apt near JJ, MRT, BTS, Central Bangkok 3 Bedroom Apartment, The Duplex - Asoke- Luxury 92sqm, New, Stylish &amp; Luxury Studio Condo, River View - Ivy Condo (1 Bedroom), Siamese Gioia on Sukhumvit 31, Contemporary Modern Duplex-Thong Lo, Pan Dao Condo 5 min from BTS On Nut, 1 BR condominium center BKK +NETFLIX+55SQM, 1 penthouse in central Bangkok, MetroPoint Suite Room, Near Airport, Boutique Rooms Near Bangkok Airport, BangLuang House1 @ Bangkok Thailand, Studio near Chula University/Silom walk to MRT/BTS, กรองทองแมนชั่น (ลาดพร้าว 81), Deluxe one Bedroom Condo w.Pool-GYM &amp; Sauna 8-7, Beautiful 1 BR apartment @BTS Ari, Urban Oasis in the heart of Bangkok, 1Bed apt. near Chula University/Silom, Stay at the ROARING RATCHADA!, 60 m2 apartment in Thong Lor, Bangkok, ICONSIAM River view  on 49th floor, 2br apt in Sukhumvit Asoke near BTS, Self catering cozy1-bed near BTS, ❂☀☀☀Perfect Escape☀☀☀Sunny Roof EnSuite☀☀☀☀, Room with city view of BKK, BangLuang House 2@ Bangkok Thailand, Tranquility found in busy Bangkok near new skytran, Private room in Bangkok, ☞✪✪✪✪Roomy Studio 4 Family r friends✪No Stairs✪✪✪✪, ☞Downtown Central Studio-Bangkok MRT, Beautiful Wood Bangkok Resort House, \"Serviced 2 Bed Scenic SkyVillas\", Cozy 1BR rooftop (BTS Ploenchit) heart of bangkok, Chic two bedroom for Monthly rental, Sukhumvit52 near SkyTrain to BkkCBD, ♡Chic Studio, Easy Walk to Pier &amp; BTS Taksin♡, One Bedroom Suite- WIFI- SATHORN, STUDIO RM2 - WIFI- SATHORN, Quiet Double  Bed Apartment, Quiet Double Bed Apartment, Suvarnabhumi free transfer, Luxury&amp;Comfy wthWifi walk-distance to Subwy-Malls, Apr. for rent full fur 1 bedroom, monthly, Long-stay special rate spacious entire floor Siam, One Bed Room at Sukumvit 50 Bangkok, City View, relaxed theme &amp; delicious food around, Ideo Blucove Sukhumvit Bangkok, 2-BR condo near BTS on Sukhumvit Rd, NewlyRenovated! 3Br,SingleHouse, Park/BTS/Airport., IdeoMix, Sukhumvit RD, close to BTS, Mix Dorm  Decor do Hostel, Oasis in the heart of Bangkok, 5 mins by car from Chong Nonsi BTS Station, Inn Saladaeng - Superior hotel room, Best nr Chatujak, MRT, BTS free wifi&amp;fNetflix, ❂Citycenter✔Subway station✔Private Bathroom4Aircon, Nice River View Condominium 30 sq.m, Monthly rent 2Beds/2Baths quiet APT at BTS, Sukhumvit apartment near Nana BTS, A room w/ the view :-) in the city, Spacious 1Bed apartment, Near Bangkok more space than urban!, ✺✺99 feet in the sky✺✺, Cozy Studio Apt near Skytrain.(72/74), Asoke: tasteful, modern 1BR condo, 2 bed 2 bath, BTS, Supermarkets, Monthly, Private, relaxed with amenities, S1 hostel (Dorm) Sathorn Bangkok, 3 minutes walk to Phrom Phong BTS, 1 BDM CONDO SAPHAN KWAI/ARI walk to JJ/BTS/MRT, เฮ้าส์โหมด House Mode, ❂100% Private&amp;Central Light EnSuite, Spacious Studio kitchen/wifi, 2. Bangkok bright Apartment 201, 1.Bangkok great value Studio WIFI, BKK City Fab Luxx Studio free wifi @1194, 5. Bangkok Bright Apartment -WIFI, 6. Bangkok nice, cosy Apartment 201, 7. Bangkok big bright Apartment 402, STUDIO-WIFI-RAIN SHOWER-SATHORN, Luxury Riverview Teakwood Apartment-Great Views :), 1 Bed Pool Access Onnut BTS, ...]</td>\n",
              "    </tr>\n",
              "    <tr>\n",
              "      <th>3</th>\n",
              "      <td>host_id</td>\n",
              "      <td>6659</td>\n",
              "      <td>[120437, 120541, 123784, 153730, 610315, 2129668, 222005, 7045870, 9181769, 5171292, 263049, 9279712, 284095, 5153476, 302658, 9399478, 323158, 545890, 9407280, 3769704, 578110, 5265861, 9478184, 596463, 8492603, 5297436, 703944, 5325919, 58920, 9545111, 766443, 5344120, 5309669, 806600, 5358785, 9626074, 729617, 9652914, 1927968, 822284, 5594281, 8214044, 889670, 6132593, 9821998, 3323622, 960892, 3346331, 2148220, 4115838, 8362130, 175729, 4837310, 5735895, 1611711, 5793490, 9434109, 843854, 9509219, 5822937, 1667508, 4154759, 5929404, 9906827, 1928343, 1681901, 807406, 10070953, 5935474, 4937984, 1425515, 5981006, 10138065, 1463818, 8480912, 6220137, 2122791, 4877320, 10204823, 2592798, 10222460, 10246374, 7454779, 8664261, 6262801, 6313832, 1513875, 5402740, 2625384, 6586465, 9390848, 2864425, 10581237, 1780407, 6647138, 6648722, 2940438, 3533863, 3687435, 5469059, ...]</td>\n",
              "    </tr>\n",
              "    <tr>\n",
              "      <th>4</th>\n",
              "      <td>host_name</td>\n",
              "      <td>5312</td>\n",
              "      <td>[Nuttee, Emy, Familyroom, Sirilak, Kasem, Wimonpak, Athitaya, Jiraporn, Nol, Somsak, Tor, Jing, Mimi, Natcha, Srisuk, Piyakorn, Sue, Henry, Timo, Pat, Muay, Chuchart, Shine, Dustin, Sudhichai, Anya, Parinya, วสวัตติ์, Gael, Penjit, Gerd, Nattavut, Apiradee, Frances, Danny, Weera, Kanchuya, Jirasak, Evan, Rae And Charlie, Yodying, Evan From Sanctuary House, Narumon, Salvatore, Pichanee, Phoebe, Vajirune, Bee, Marvin, Primrose, Luckana, Mitch &amp; Mam, Veesa, Pariya, Nichapat, Nicky, Sander, Anshera, Piya, Siriwipa, Inn Saladaeng &amp; The Sathon Vimanda, Nokiko, Chanvit, Pornpan, Hollis, Vichit, Tisa, Sugarcane, Peter, Sibyl, S1, Amporn, Chris And Lek, Prapussorn, Maam &amp; Hermann, Nisa, Jahidul, Nokina, Preeda, Arika, Lily Duangdao, Kriengkrai, Andrea, Psirivedin, Suchada, Nattha, Mike, Tayawat, VeeZa, Urcha, Anchana, Feb, NiNew, Taweewat  (Ken), Kinifrog, Sarasinee, Avinash, Andrew, Tam, Egidio, ...]</td>\n",
              "    </tr>\n",
              "    <tr>\n",
              "      <th>5</th>\n",
              "      <td>neighbourhood</td>\n",
              "      <td>50</td>\n",
              "      <td>[Ratchathewi, Bang Na, Bang Kapi, Din Daeng, Bang Kho laen, Rat Burana, Chatu Chak, Khlong San, Bang Rak, Phaya Thai, Sathon, Khlong Toei, Vadhana, Sai Mai, Lat Krabang, Bangkok Yai, Wang Thong Lang, Huai Khwang, Phasi Charoen, Bang Sue, Nong Chok, Phra Khanong, Thawi Watthana, Parthum Wan, Pra Wet, Phra Nakhon, Thon buri, Yan na wa, Suanluang, Don Mueang, Dusit, Lak Si, Samphanthawong, Bueng Kum, Bang Phlat, Saphan Sung, Min Buri, Khan Na Yao, Khlong Sam Wa, Bang Khen, Lat Phrao, Chom Thong, Bangkok Noi, Pom Prap Sattru Phai, Nong Khaem, Thung khru, Bang Khae, Bang Khun thain, Taling Chan, Bang Bon]</td>\n",
              "    </tr>\n",
              "    <tr>\n",
              "      <th>6</th>\n",
              "      <td>latitude</td>\n",
              "      <td>9606</td>\n",
              "      <td>[13.75983, 13.66818, 13.75232, 13.78823, 13.76872, 13.69757, 13.68556, 13.82925, 13.81693, 13.7204, 13.71934, 13.77486, 13.71802, 13.77941, 13.71516, 13.79152, 13.70719, 13.82298, 13.73378, 13.74668, 13.9077, 13.68568, 13.74444, 13.72097, 13.70441, 13.75351, 13.7547, 13.76747, 13.721868, 13.73292, 13.7285, 13.78938, 13.74293, 13.77931, 13.72291, 13.72733, 13.78118, 13.73224, 13.72287, 13.74464, 13.7137, 13.72062, 13.71803, 13.73122, 13.83148, 13.82148, 13.72073, 13.72063, 13.779, 13.72096, 13.73782, 13.72687, 13.70169, 13.71192, 13.71602, 13.71798, 13.79274, 13.79315, 13.72141, 13.80926, 13.67805, 13.74814, 13.71513, 13.69947, 13.67998, 13.7281, 13.70004, 13.67991, 13.72214, 13.74902, 13.71498, 13.72825, 13.81694, 13.68426, 13.71905, 13.74052, 13.71012, 13.75224, 13.75135, 13.71782, 13.73816, 13.7104, 13.69949, 13.72157, 13.73675, 13.79128, 13.72646255738608, 13.69673, 13.69935, 13.69977, 13.698, 13.70068, 13.69925, 13.70086, 13.71922, 13.67317, 13.71119, 13.70497, 13.69832, 13.70218, ...]</td>\n",
              "    </tr>\n",
              "    <tr>\n",
              "      <th>7</th>\n",
              "      <td>longitude</td>\n",
              "      <td>10224</td>\n",
              "      <td>[100.54134, 100.61674, 100.62402, 100.57256, 100.63338, 100.5288, 100.49535, 100.56737, 100.56433, 100.50757, 100.5176, 100.54272, 100.51539, 100.57383, 100.56806, 100.53982, 100.59936, 100.56484, 100.56303, 100.56137, 100.64473, 100.49231, 100.57003, 100.57823, 100.59968, 100.53308, 100.53268, 100.63287, 100.771713, 100.46413, 100.52313, 100.6134, 100.55603, 100.54262, 100.53759, 100.52555, 100.58349, 100.57803, 100.51678, 100.55784, 100.59637, 100.54707, 100.54654, 100.46228, 100.52102, 100.58326, 100.5469, 100.54694, 100.83671, 100.52911, 100.55179, 100.52725, 100.5977, 100.51535, 100.52663, 100.52841, 100.33377, 100.33356, 100.72946, 100.56892, 100.62451, 100.52016, 100.5683, 100.52726, 100.61074, 100.57318, 100.6787, 100.61055, 100.50752, 100.55652, 100.53312, 100.53774, 100.56451, 100.49841, 100.50414, 100.55237, 100.60281, 100.58979, 100.49447, 100.51622, 100.56495, 100.60171, 100.54509, 100.57191, 100.54935, 100.49129336748284, 100.53202, 100.52723, 100.52652, 100.52886, 100.5228, 100.52624, 100.52276, 100.5255, 100.54406, 100.63334, 100.55134, 100.52434, 100.52254, 100.52806, ...]</td>\n",
              "    </tr>\n",
              "    <tr>\n",
              "      <th>8</th>\n",
              "      <td>room_type</td>\n",
              "      <td>4</td>\n",
              "      <td>[Entire home/apt, Private room, Hotel room, Shared room]</td>\n",
              "    </tr>\n",
              "    <tr>\n",
              "      <th>9</th>\n",
              "      <td>price</td>\n",
              "      <td>3040</td>\n",
              "      <td>[1905, 1316, 800, 1286, 1000, 1558, 1461, 700, 1150, 1893, 1862, 910, 1400, 4156, 1577, 122594, 5680, 5034, 1500, 1385, 3775, 2078, 1732, 2000, 3082, 1190, 1329, 1176, 600, 1659, 5429, 1843, 1870, 2500, 1300, 1200, 3500, 1795, 350, 1450, 8658, 3757, 1490, 2701, 2251, 866, 2696, 1736, 1800, 900, 400, 2900, 2226, 890, 3394, 922, 1543, 1589, 1271, 1747, 797, 6926, 1169, 5195, 829, 950, 2355, 980, 330, 3740, 1143, 831, 790, 720, 1211, 970, 929, 670, 1004, 811, 1629, 835, 926, 650, 5887, 1250, 2571, 3847, 1485, 2814, 707, 2061, 750, 693, 1088, 808, 500, 3097, 850, 1212, ...]</td>\n",
              "    </tr>\n",
              "    <tr>\n",
              "      <th>10</th>\n",
              "      <td>minimum_nights</td>\n",
              "      <td>86</td>\n",
              "      <td>[3, 1, 60, 7, 250, 2, 15, 30, 28, 21, 27, 4, 180, 90, 5, 358, 1125, 29, 14, 200, 365, 120, 9, 12, 300, 360, 100, 10, 45, 23, 6, 84, 370, 24, 31, 50, 19, 20, 75, 8, 25, 40, 26, 59, 58, 170, 399, 998, 13, 22, 356, 16, 183, 700, 150, 35, 355, 500, 89, 80, 18, 11, 85, 135, 198, 88, 160, 109, 148, 51, 1115, 113, 62, 450, 270, 55, 208, 1000, 17, 999, 400, 99, 1095, 39, 190, 364]</td>\n",
              "    </tr>\n",
              "    <tr>\n",
              "      <th>11</th>\n",
              "      <td>number_of_reviews</td>\n",
              "      <td>298</td>\n",
              "      <td>[65, 0, 2, 19, 1, 10, 4, 27, 129, 208, 3, 78, 9, 148, 287, 83, 76, 28, 63, 212, 90, 71, 5, 15, 7, 419, 95, 21, 268, 310, 118, 11, 104, 472, 43, 56, 295, 29, 67, 170, 12, 94, 40, 36, 293, 396, 80, 189, 430, 39, 32, 18, 82, 325, 35, 14, 127, 26, 48, 8, 120, 60, 38, 24, 404, 6, 109, 34, 206, 271, 93, 77, 426, 224, 147, 33, 37, 58, 135, 81, 117, 146, 53, 101, 25, 97, 20, 88, 256, 278, 167, 91, 31, 113, 192, 156, 92, 75, 103, 252, ...]</td>\n",
              "    </tr>\n",
              "    <tr>\n",
              "      <th>12</th>\n",
              "      <td>last_review</td>\n",
              "      <td>1669</td>\n",
              "      <td>[2020-01-06, nan, 2022-04-01, 2017-08-03, 2014-02-03, 2016-03-29, 2019-12-27, 2019-01-03, 2022-09-30, 2019-12-02, 2018-07-30, 2019-05-31, 2020-03-04, 2020-01-07, 2022-11-22, 2018-12-24, 2018-09-12, 2013-10-09, 2018-04-05, 2022-11-25, 2019-12-31, 2022-12-08, 2022-11-15, 2018-12-18, 2022-11-30, 2019-11-10, 2015-12-08, 2022-12-07, 2022-12-15, 2019-02-20, 2022-12-11, 2018-07-02, 2020-02-20, 2014-11-12, 2022-10-25, 2020-03-03, 2019-08-04, 2021-08-21, 2022-12-18, 2022-09-20, 2022-11-28, 2022-12-05, 2020-02-08, 2022-08-31, 2022-12-09, 2022-09-01, 2022-12-06, 2020-04-30, 2020-01-28, 2019-01-13, 2022-10-01, 2022-10-31, 2020-01-04, 2022-11-26, 2019-12-09, 2022-09-14, 2020-03-14, 2019-03-04, 2018-10-24, 2013-11-01, 2022-12-14, 2016-11-05, 2022-11-13, 2013-06-28, 2017-02-23, 2020-02-28, 2013-07-01, 2022-10-30, 2018-03-31, 2022-12-12, 2018-07-22, 2022-12-16, 2022-10-23, 2019-04-13, 2019-01-01, 2019-01-22, 2021-03-15, 2021-05-17, 2022-12-20, 2013-12-03, 2015-09-02, 2015-09-01, 2016-04-08, 2022-12-13, 2019-01-04, 2012-12-15, 2015-10-18, 2022-12-04, 2020-01-10, 2022-06-17, 2022-06-19, 2020-03-15, 2015-01-01, 2018-12-05, 2018-04-30, 2022-11-18, 2022-11-11, 2022-10-07, 2013-08-18, 2017-06-19, ...]</td>\n",
              "    </tr>\n",
              "    <tr>\n",
              "      <th>13</th>\n",
              "      <td>reviews_per_month</td>\n",
              "      <td>513</td>\n",
              "      <td>[0.5, nan, 0.03, 0.17, 0.01, 0.09, 0.19, 1.17, 1.44, 0.02, 0.78, 1.08, 2.59, 0.05, 0.75, 0.7, 0.28, 0.64, 0.47, 1.58, 0.77, 0.54, 0.14, 0.06, 3.77, 0.8, 3.0, 1.07, 0.15, 0.89, 4.02, 0.04, 0.46, 0.39, 0.43, 2.61, 0.27, 0.51, 1.54, 0.12, 0.33, 2.72, 3.02, 0.62, 1.45, 3.39, 0.3, 0.25, 0.18, 0.83, 2.67, 0.31, 0.11, 1.0, 0.23, 0.38, 0.07, 0.93, 0.4, 3.67, 1.15, 0.41, 0.32, 1.83, 2.97, 0.95, 0.1, 1.84, 1.18, 1.03, 0.13, 0.53, 1.79, 1.19, 0.72, 1.02, 1.27, 0.2, 0.92, 0.22, 0.21, 0.08, 2.13, 2.31, 0.26, 0.29, 1.2, 1.78, 0.81, 0.96, 1.22, 2.11, 0.37, 0.71, 0.24, 1.36, 1.98, 1.12, 1.96, 2.12, ...]</td>\n",
              "    </tr>\n",
              "    <tr>\n",
              "      <th>14</th>\n",
              "      <td>calculated_host_listings_count</td>\n",
              "      <td>50</td>\n",
              "      <td>[2, 1, 3, 41, 10, 7, 6, 4, 37, 8, 19, 5, 53, 45, 13, 11, 25, 24, 36, 29, 18, 12, 9, 15, 44, 33, 39, 21, 34, 89, 32, 56, 62, 23, 14, 22, 17, 28, 16, 31, 20, 26, 228, 48, 99, 27, 30, 49, 40, 35]</td>\n",
              "    </tr>\n",
              "    <tr>\n",
              "      <th>15</th>\n",
              "      <td>availability_365</td>\n",
              "      <td>366</td>\n",
              "      <td>[353, 358, 365, 323, 87, 320, 356, 361, 330, 180, 334, 349, 364, 55, 263, 350, 95, 207, 336, 174, 156, 331, 88, 355, 363, 339, 145, 134, 16, 0, 242, 256, 59, 167, 219, 142, 149, 176, 129, 230, 301, 120, 75, 44, 270, 346, 272, 162, 347, 359, 304, 62, 82, 342, 348, 130, 154, 244, 344, 354, 317, 54, 362, 271, 255, 144, 357, 181, 236, 127, 146, 124, 221, 294, 13, 318, 56, 267, 293, 107, 360, 314, 316, 89, 57, 312, 70, 179, 10, 338, 86, 302, 321, 98, 217, 341, 90, 325, 333, 1, ...]</td>\n",
              "    </tr>\n",
              "    <tr>\n",
              "      <th>16</th>\n",
              "      <td>number_of_reviews_ltm</td>\n",
              "      <td>85</td>\n",
              "      <td>[0, 1, 3, 13, 2, 7, 5, 10, 9, 12, 29, 4, 19, 56, 20, 11, 6, 14, 8, 43, 18, 30, 15, 277, 26, 59, 21, 41, 16, 22, 25, 38, 42, 40, 31, 39, 35, 44, 17, 27, 36, 23, 79, 50, 24, 34, 47, 37, 32, 73, 48, 28, 45, 67, 46, 147, 109, 68, 62, 51, 72, 52, 49, 33, 69, 325, 55, 146, 61, 124, 75, 71, 138, 57, 70, 90, 65, 141, 246, 118, 80, 53, 63, 60, 101]</td>\n",
              "    </tr>\n",
              "  </tbody>\n",
              "</table>\n",
              "</div>"
            ],
            "text/plain": [
              "                       Column Name  Number of Unique  \\\n",
              "0   Unnamed: 0                      15854              \n",
              "1   listing_id                      15854              \n",
              "2   listing_name                    14794              \n",
              "3   host_id                         6659               \n",
              "4   host_name                       5312               \n",
              "5   neighbourhood                   50                 \n",
              "6   latitude                        9606               \n",
              "7   longitude                       10224              \n",
              "8   room_type                       4                  \n",
              "9   price                           3040               \n",
              "10  minimum_nights                  86                 \n",
              "11  number_of_reviews               298                \n",
              "12  last_review                     1669               \n",
              "13  reviews_per_month               513                \n",
              "14  calculated_host_listings_count  50                 \n",
              "15  availability_365                366                \n",
              "16  number_of_reviews_ltm           85                 \n",
              "\n",
              "                                                                                                                                                                                                                                                                                                                                                                                                                                                                                                                                                                                                                                                                                                                                                                                                                                                                                                                                                                                                                                                                                                                                                                                                                                                                                                                                                                                                                                                                                                                                                                                                                                                                                                                                                                                                                                                                                                                                                                                                                                                                                                                                                                                                                                                                                                                                                                                                                                                                                                                                                                                                                                                                                                                                                                                                                                                                                                                                                                                                                                                                                                                                                                                                                                                                                                                                                                                                                                                                                                                                                                                                                                                                                                                                                                                                                                                    Unique Sample  \n",
              "0   [0, 1, 2, 3, 4, 5, 6, 7, 8, 9, 10, 11, 12, 13, 14, 15, 16, 17, 18, 19, 20, 21, 22, 23, 24, 25, 26, 27, 28, 29, 30, 31, 32, 33, 34, 35, 36, 37, 38, 39, 40, 41, 42, 43, 44, 45, 46, 47, 48, 49, 50, 51, 52, 53, 54, 55, 56, 57, 58, 59, 60, 61, 62, 63, 64, 65, 66, 67, 68, 69, 70, 71, 72, 73, 74, 75, 76, 77, 78, 79, 80, 81, 82, 83, 84, 85, 86, 87, 88, 89, 90, 91, 92, 93, 94, 95, 96, 97, 98, 99, ...]                                                                                                                                                                                                                                                                                                                                                                                                                                                                                                                                                                                                                                                                                                                                                                                                                                                                                                                                                                                                                                                                                                                                                                                                                                                                                                                                                                                                                                                                                                                                                                                                                                                                                                                                                                                                                                                                                                                                                                                                                                                                                                                                                                                                                                                                                                                                                                                                                                                                                                                                                                                                                                                                                                                                                                                                                                                                                                                                                                                                                                                                                                                                                                                                                                                                                                                                                                                                                                                    \n",
              "1   [27934, 27979, 28745, 35780, 941865, 1704776, 48736, 1738669, 1744248, 952677, 55681, 1765918, 55686, 59221, 959254, 62217, 1791481, 66046, 105042, 1793000, 960858, 113744, 965722, 1808600, 118118, 1816517, 969792, 121410, 145343, 973830, 156583, 1823321, 159854, 976690, 978531, 166267, 169285, 978969, 1842066, 169514, 1849029, 1862089, 985743, 988373, 172332, 1016487, 1862331, 1862377, 185364, 1887544, 1888303, 1019241, 241416, 1026451, 1028469, 1028486, 1035589, 1035640, 1897982, 296960, 1898332, 1041976, 313459, 1052180, 1926489, 320014, 1933894, 1057173, 1060320, 384924, 1067748, 1077493, 1943048, 385130, 385278, 385979, 390611, 1947314, 1079039, 1086843, 393066, 397449, 405662, 1088343, 1094136, 1961981, 407381, 1975849, 1133843, 413824, 428360, 428421, 428907, 428950, 430691, 430703, 430706, 432004, 439051, 1138679, ...]                                                                                                                                                                                                                                                                                                                                                                                                                                                                                                                                                                                                                                                                                                                                                                                                                                                                                                                                                                                                                                                                                                                                                                                                                                                                                                                                                                                                                                                                                                                                                                                                                                                                                                                                                                                                                                                                                                                                                                                                                                                                                                                                                                                                                                                                                                                                                                                                                                                                                                                                                                                                                                                                                                                                                                                                                                                                                                                                                                                         \n",
              "2   [Nice room with superb city view, Easy going landlord,easy place, modern-style apartment in Bangkok, Spacious one bedroom at The Kris Condo Bldg. 3, Suite Room 3 at MetroPoint, NEw Pro!!  Bungalow Bkk Centre, Condo with Chaopraya River View, 1 chic bedroom apartment in BKK, Batcave, Pool view, near Chatuchak, Standard Room Decor do Hostel, Sathorn Terrace Apartment(61), 2BR apt in a cozy neighborhood, Comfy bedroom near River pier & BTS  Taksin., budget hotel bangkok near subway, Deluxe Condo, Nana, Pool/GYM/Sauna, Luxury@swimpool/FreeWiFi/nearJJMkt, Nice and Quiet condo near BTS Onnut, 24Flr- 1br Apt near JJ, MRT, BTS, Central Bangkok 3 Bedroom Apartment, The Duplex - Asoke- Luxury 92sqm, New, Stylish & Luxury Studio Condo, River View - Ivy Condo (1 Bedroom), Siamese Gioia on Sukhumvit 31, Contemporary Modern Duplex-Thong Lo, Pan Dao Condo 5 min from BTS On Nut, 1 BR condominium center BKK +NETFLIX+55SQM, 1 penthouse in central Bangkok, MetroPoint Suite Room, Near Airport, Boutique Rooms Near Bangkok Airport, BangLuang House1 @ Bangkok Thailand, Studio near Chula University/Silom walk to MRT/BTS, กรองทองแมนชั่น (ลาดพร้าว 81), Deluxe one Bedroom Condo w.Pool-GYM & Sauna 8-7, Beautiful 1 BR apartment @BTS Ari, Urban Oasis in the heart of Bangkok, 1Bed apt. near Chula University/Silom, Stay at the ROARING RATCHADA!, 60 m2 apartment in Thong Lor, Bangkok, ICONSIAM River view  on 49th floor, 2br apt in Sukhumvit Asoke near BTS, Self catering cozy1-bed near BTS, ❂☀☀☀Perfect Escape☀☀☀Sunny Roof EnSuite☀☀☀☀, Room with city view of BKK, BangLuang House 2@ Bangkok Thailand, Tranquility found in busy Bangkok near new skytran, Private room in Bangkok, ☞✪✪✪✪Roomy Studio 4 Family r friends✪No Stairs✪✪✪✪, ☞Downtown Central Studio-Bangkok MRT, Beautiful Wood Bangkok Resort House, \"Serviced 2 Bed Scenic SkyVillas\", Cozy 1BR rooftop (BTS Ploenchit) heart of bangkok, Chic two bedroom for Monthly rental, Sukhumvit52 near SkyTrain to BkkCBD, ♡Chic Studio, Easy Walk to Pier & BTS Taksin♡, One Bedroom Suite- WIFI- SATHORN, STUDIO RM2 - WIFI- SATHORN, Quiet Double  Bed Apartment, Quiet Double Bed Apartment, Suvarnabhumi free transfer, Luxury&Comfy wthWifi walk-distance to Subwy-Malls, Apr. for rent full fur 1 bedroom, monthly, Long-stay special rate spacious entire floor Siam, One Bed Room at Sukumvit 50 Bangkok, City View, relaxed theme & delicious food around, Ideo Blucove Sukhumvit Bangkok, 2-BR condo near BTS on Sukhumvit Rd, NewlyRenovated! 3Br,SingleHouse, Park/BTS/Airport., IdeoMix, Sukhumvit RD, close to BTS, Mix Dorm  Decor do Hostel, Oasis in the heart of Bangkok, 5 mins by car from Chong Nonsi BTS Station, Inn Saladaeng - Superior hotel room, Best nr Chatujak, MRT, BTS free wifi&fNetflix, ❂Citycenter✔Subway station✔Private Bathroom4Aircon, Nice River View Condominium 30 sq.m, Monthly rent 2Beds/2Baths quiet APT at BTS, Sukhumvit apartment near Nana BTS, A room w/ the view :-) in the city, Spacious 1Bed apartment, Near Bangkok more space than urban!, ✺✺99 feet in the sky✺✺, Cozy Studio Apt near Skytrain.(72/74), Asoke: tasteful, modern 1BR condo, 2 bed 2 bath, BTS, Supermarkets, Monthly, Private, relaxed with amenities, S1 hostel (Dorm) Sathorn Bangkok, 3 minutes walk to Phrom Phong BTS, 1 BDM CONDO SAPHAN KWAI/ARI walk to JJ/BTS/MRT, เฮ้าส์โหมด House Mode, ❂100% Private&Central Light EnSuite, Spacious Studio kitchen/wifi, 2. Bangkok bright Apartment 201, 1.Bangkok great value Studio WIFI, BKK City Fab Luxx Studio free wifi @1194, 5. Bangkok Bright Apartment -WIFI, 6. Bangkok nice, cosy Apartment 201, 7. Bangkok big bright Apartment 402, STUDIO-WIFI-RAIN SHOWER-SATHORN, Luxury Riverview Teakwood Apartment-Great Views :), 1 Bed Pool Access Onnut BTS, ...]  \n",
              "3   [120437, 120541, 123784, 153730, 610315, 2129668, 222005, 7045870, 9181769, 5171292, 263049, 9279712, 284095, 5153476, 302658, 9399478, 323158, 545890, 9407280, 3769704, 578110, 5265861, 9478184, 596463, 8492603, 5297436, 703944, 5325919, 58920, 9545111, 766443, 5344120, 5309669, 806600, 5358785, 9626074, 729617, 9652914, 1927968, 822284, 5594281, 8214044, 889670, 6132593, 9821998, 3323622, 960892, 3346331, 2148220, 4115838, 8362130, 175729, 4837310, 5735895, 1611711, 5793490, 9434109, 843854, 9509219, 5822937, 1667508, 4154759, 5929404, 9906827, 1928343, 1681901, 807406, 10070953, 5935474, 4937984, 1425515, 5981006, 10138065, 1463818, 8480912, 6220137, 2122791, 4877320, 10204823, 2592798, 10222460, 10246374, 7454779, 8664261, 6262801, 6313832, 1513875, 5402740, 2625384, 6586465, 9390848, 2864425, 10581237, 1780407, 6647138, 6648722, 2940438, 3533863, 3687435, 5469059, ...]                                                                                                                                                                                                                                                                                                                                                                                                                                                                                                                                                                                                                                                                                                                                                                                                                                                                                                                                                                                                                                                                                                                                                                                                                                                                                                                                                                                                                                                                                                                                                                                                                                                                                                                                                                                                                                                                                                                                                                                                                                                                                                                                                                                                                                                                                                                                                                                                                                                                                                                                                                                                                                                                                                                                                                                                                                                                                                                                         \n",
              "4   [Nuttee, Emy, Familyroom, Sirilak, Kasem, Wimonpak, Athitaya, Jiraporn, Nol, Somsak, Tor, Jing, Mimi, Natcha, Srisuk, Piyakorn, Sue, Henry, Timo, Pat, Muay, Chuchart, Shine, Dustin, Sudhichai, Anya, Parinya, วสวัตติ์, Gael, Penjit, Gerd, Nattavut, Apiradee, Frances, Danny, Weera, Kanchuya, Jirasak, Evan, Rae And Charlie, Yodying, Evan From Sanctuary House, Narumon, Salvatore, Pichanee, Phoebe, Vajirune, Bee, Marvin, Primrose, Luckana, Mitch & Mam, Veesa, Pariya, Nichapat, Nicky, Sander, Anshera, Piya, Siriwipa, Inn Saladaeng & The Sathon Vimanda, Nokiko, Chanvit, Pornpan, Hollis, Vichit, Tisa, Sugarcane, Peter, Sibyl, S1, Amporn, Chris And Lek, Prapussorn, Maam & Hermann, Nisa, Jahidul, Nokina, Preeda, Arika, Lily Duangdao, Kriengkrai, Andrea, Psirivedin, Suchada, Nattha, Mike, Tayawat, VeeZa, Urcha, Anchana, Feb, NiNew, Taweewat  (Ken), Kinifrog, Sarasinee, Avinash, Andrew, Tam, Egidio, ...]                                                                                                                                                                                                                                                                                                                                                                                                                                                                                                                                                                                                                                                                                                                                                                                                                                                                                                                                                                                                                                                                                                                                                                                                                                                                                                                                                                                                                                                                                                                                                                                                                                                                                                                                                                                                                                                                                                                                                                                                                                                                                                                                                                                                                                                                                                                                                                                                                                                                                                                                                                                                                                                                                                                                                                                                                                                                                                                      \n",
              "5   [Ratchathewi, Bang Na, Bang Kapi, Din Daeng, Bang Kho laen, Rat Burana, Chatu Chak, Khlong San, Bang Rak, Phaya Thai, Sathon, Khlong Toei, Vadhana, Sai Mai, Lat Krabang, Bangkok Yai, Wang Thong Lang, Huai Khwang, Phasi Charoen, Bang Sue, Nong Chok, Phra Khanong, Thawi Watthana, Parthum Wan, Pra Wet, Phra Nakhon, Thon buri, Yan na wa, Suanluang, Don Mueang, Dusit, Lak Si, Samphanthawong, Bueng Kum, Bang Phlat, Saphan Sung, Min Buri, Khan Na Yao, Khlong Sam Wa, Bang Khen, Lat Phrao, Chom Thong, Bangkok Noi, Pom Prap Sattru Phai, Nong Khaem, Thung khru, Bang Khae, Bang Khun thain, Taling Chan, Bang Bon]                                                                                                                                                                                                                                                                                                                                                                                                                                                                                                                                                                                                                                                                                                                                                                                                                                                                                                                                                                                                                                                                                                                                                                                                                                                                                                                                                                                                                                                                                                                                                                                                                                                                                                                                                                                                                                                                                                                                                                                                                                                                                                                                                                                                                                                                                                                                                                                                                                                                                                                                                                                                                                                                                                                                                                                                                                                                                                                                                                                                                                                                                                                                                                                                                                \n",
              "6   [13.75983, 13.66818, 13.75232, 13.78823, 13.76872, 13.69757, 13.68556, 13.82925, 13.81693, 13.7204, 13.71934, 13.77486, 13.71802, 13.77941, 13.71516, 13.79152, 13.70719, 13.82298, 13.73378, 13.74668, 13.9077, 13.68568, 13.74444, 13.72097, 13.70441, 13.75351, 13.7547, 13.76747, 13.721868, 13.73292, 13.7285, 13.78938, 13.74293, 13.77931, 13.72291, 13.72733, 13.78118, 13.73224, 13.72287, 13.74464, 13.7137, 13.72062, 13.71803, 13.73122, 13.83148, 13.82148, 13.72073, 13.72063, 13.779, 13.72096, 13.73782, 13.72687, 13.70169, 13.71192, 13.71602, 13.71798, 13.79274, 13.79315, 13.72141, 13.80926, 13.67805, 13.74814, 13.71513, 13.69947, 13.67998, 13.7281, 13.70004, 13.67991, 13.72214, 13.74902, 13.71498, 13.72825, 13.81694, 13.68426, 13.71905, 13.74052, 13.71012, 13.75224, 13.75135, 13.71782, 13.73816, 13.7104, 13.69949, 13.72157, 13.73675, 13.79128, 13.72646255738608, 13.69673, 13.69935, 13.69977, 13.698, 13.70068, 13.69925, 13.70086, 13.71922, 13.67317, 13.71119, 13.70497, 13.69832, 13.70218, ...]                                                                                                                                                                                                                                                                                                                                                                                                                                                                                                                                                                                                                                                                                                                                                                                                                                                                                                                                                                                                                                                                                                                                                                                                                                                                                                                                                                                                                                                                                                                                                                                                                                                                                                                                                                                                                                                                                                                                                                                                                                                                                                                                                                                                                                                                                                                                                                                                                                                                                                                                                                                                                                                                                                                                                                                                                   \n",
              "7   [100.54134, 100.61674, 100.62402, 100.57256, 100.63338, 100.5288, 100.49535, 100.56737, 100.56433, 100.50757, 100.5176, 100.54272, 100.51539, 100.57383, 100.56806, 100.53982, 100.59936, 100.56484, 100.56303, 100.56137, 100.64473, 100.49231, 100.57003, 100.57823, 100.59968, 100.53308, 100.53268, 100.63287, 100.771713, 100.46413, 100.52313, 100.6134, 100.55603, 100.54262, 100.53759, 100.52555, 100.58349, 100.57803, 100.51678, 100.55784, 100.59637, 100.54707, 100.54654, 100.46228, 100.52102, 100.58326, 100.5469, 100.54694, 100.83671, 100.52911, 100.55179, 100.52725, 100.5977, 100.51535, 100.52663, 100.52841, 100.33377, 100.33356, 100.72946, 100.56892, 100.62451, 100.52016, 100.5683, 100.52726, 100.61074, 100.57318, 100.6787, 100.61055, 100.50752, 100.55652, 100.53312, 100.53774, 100.56451, 100.49841, 100.50414, 100.55237, 100.60281, 100.58979, 100.49447, 100.51622, 100.56495, 100.60171, 100.54509, 100.57191, 100.54935, 100.49129336748284, 100.53202, 100.52723, 100.52652, 100.52886, 100.5228, 100.52624, 100.52276, 100.5255, 100.54406, 100.63334, 100.55134, 100.52434, 100.52254, 100.52806, ...]                                                                                                                                                                                                                                                                                                                                                                                                                                                                                                                                                                                                                                                                                                                                                                                                                                                                                                                                                                                                                                                                                                                                                                                                                                                                                                                                                                                                                                                                                                                                                                                                                                                                                                                                                                                                                                                                                                                                                                                                                                                                                                                                                                                                                                                                                                                                                                                                                                                                                                                                                                                                                                                                                                             \n",
              "8   [Entire home/apt, Private room, Hotel room, Shared room]                                                                                                                                                                                                                                                                                                                                                                                                                                                                                                                                                                                                                                                                                                                                                                                                                                                                                                                                                                                                                                                                                                                                                                                                                                                                                                                                                                                                                                                                                                                                                                                                                                                                                                                                                                                                                                                                                                                                                                                                                                                                                                                                                                                                                                                                                                                                                                                                                                                                                                                                                                                                                                                                                                                                                                                                                                                                                                                                                                                                                                                                                                                                                                                                                                                                                                                                                                                                                                                                                                                                                                                                                                                                                                                                                                                                       \n",
              "9   [1905, 1316, 800, 1286, 1000, 1558, 1461, 700, 1150, 1893, 1862, 910, 1400, 4156, 1577, 122594, 5680, 5034, 1500, 1385, 3775, 2078, 1732, 2000, 3082, 1190, 1329, 1176, 600, 1659, 5429, 1843, 1870, 2500, 1300, 1200, 3500, 1795, 350, 1450, 8658, 3757, 1490, 2701, 2251, 866, 2696, 1736, 1800, 900, 400, 2900, 2226, 890, 3394, 922, 1543, 1589, 1271, 1747, 797, 6926, 1169, 5195, 829, 950, 2355, 980, 330, 3740, 1143, 831, 790, 720, 1211, 970, 929, 670, 1004, 811, 1629, 835, 926, 650, 5887, 1250, 2571, 3847, 1485, 2814, 707, 2061, 750, 693, 1088, 808, 500, 3097, 850, 1212, ...]                                                                                                                                                                                                                                                                                                                                                                                                                                                                                                                                                                                                                                                                                                                                                                                                                                                                                                                                                                                                                                                                                                                                                                                                                                                                                                                                                                                                                                                                                                                                                                                                                                                                                                                                                                                                                                                                                                                                                                                                                                                                                                                                                                                                                                                                                                                                                                                                                                                                                                                                                                                                                                                                                                                                                                                                                                                                                                                                                                                                                                                                                                                                                                                                                                                               \n",
              "10  [3, 1, 60, 7, 250, 2, 15, 30, 28, 21, 27, 4, 180, 90, 5, 358, 1125, 29, 14, 200, 365, 120, 9, 12, 300, 360, 100, 10, 45, 23, 6, 84, 370, 24, 31, 50, 19, 20, 75, 8, 25, 40, 26, 59, 58, 170, 399, 998, 13, 22, 356, 16, 183, 700, 150, 35, 355, 500, 89, 80, 18, 11, 85, 135, 198, 88, 160, 109, 148, 51, 1115, 113, 62, 450, 270, 55, 208, 1000, 17, 999, 400, 99, 1095, 39, 190, 364]                                                                                                                                                                                                                                                                                                                                                                                                                                                                                                                                                                                                                                                                                                                                                                                                                                                                                                                                                                                                                                                                                                                                                                                                                                                                                                                                                                                                                                                                                                                                                                                                                                                                                                                                                                                                                                                                                                                                                                                                                                                                                                                                                                                                                                                                                                                                                                                                                                                                                                                                                                                                                                                                                                                                                                                                                                                                                                                                                                                                                                                                                                                                                                                                                                                                                                                                                                                                                                                                        \n",
              "11  [65, 0, 2, 19, 1, 10, 4, 27, 129, 208, 3, 78, 9, 148, 287, 83, 76, 28, 63, 212, 90, 71, 5, 15, 7, 419, 95, 21, 268, 310, 118, 11, 104, 472, 43, 56, 295, 29, 67, 170, 12, 94, 40, 36, 293, 396, 80, 189, 430, 39, 32, 18, 82, 325, 35, 14, 127, 26, 48, 8, 120, 60, 38, 24, 404, 6, 109, 34, 206, 271, 93, 77, 426, 224, 147, 33, 37, 58, 135, 81, 117, 146, 53, 101, 25, 97, 20, 88, 256, 278, 167, 91, 31, 113, 192, 156, 92, 75, 103, 252, ...]                                                                                                                                                                                                                                                                                                                                                                                                                                                                                                                                                                                                                                                                                                                                                                                                                                                                                                                                                                                                                                                                                                                                                                                                                                                                                                                                                                                                                                                                                                                                                                                                                                                                                                                                                                                                                                                                                                                                                                                                                                                                                                                                                                                                                                                                                                                                                                                                                                                                                                                                                                                                                                                                                                                                                                                                                                                                                                                                                                                                                                                                                                                                                                                                                                                                                                                                                                                                             \n",
              "12  [2020-01-06, nan, 2022-04-01, 2017-08-03, 2014-02-03, 2016-03-29, 2019-12-27, 2019-01-03, 2022-09-30, 2019-12-02, 2018-07-30, 2019-05-31, 2020-03-04, 2020-01-07, 2022-11-22, 2018-12-24, 2018-09-12, 2013-10-09, 2018-04-05, 2022-11-25, 2019-12-31, 2022-12-08, 2022-11-15, 2018-12-18, 2022-11-30, 2019-11-10, 2015-12-08, 2022-12-07, 2022-12-15, 2019-02-20, 2022-12-11, 2018-07-02, 2020-02-20, 2014-11-12, 2022-10-25, 2020-03-03, 2019-08-04, 2021-08-21, 2022-12-18, 2022-09-20, 2022-11-28, 2022-12-05, 2020-02-08, 2022-08-31, 2022-12-09, 2022-09-01, 2022-12-06, 2020-04-30, 2020-01-28, 2019-01-13, 2022-10-01, 2022-10-31, 2020-01-04, 2022-11-26, 2019-12-09, 2022-09-14, 2020-03-14, 2019-03-04, 2018-10-24, 2013-11-01, 2022-12-14, 2016-11-05, 2022-11-13, 2013-06-28, 2017-02-23, 2020-02-28, 2013-07-01, 2022-10-30, 2018-03-31, 2022-12-12, 2018-07-22, 2022-12-16, 2022-10-23, 2019-04-13, 2019-01-01, 2019-01-22, 2021-03-15, 2021-05-17, 2022-12-20, 2013-12-03, 2015-09-02, 2015-09-01, 2016-04-08, 2022-12-13, 2019-01-04, 2012-12-15, 2015-10-18, 2022-12-04, 2020-01-10, 2022-06-17, 2022-06-19, 2020-03-15, 2015-01-01, 2018-12-05, 2018-04-30, 2022-11-18, 2022-11-11, 2022-10-07, 2013-08-18, 2017-06-19, ...]                                                                                                                                                                                                                                                                                                                                                                                                                                                                                                                                                                                                                                                                                                                                                                                                                                                                                                                                                                                                                                                                                                                                                                                                                                                                                                                                                                                                                                                                                                                                                                                                                                                                                                                                                                                                                                                                                                                                                                                                                                                                                                                                                                                                                                                                                                                                                                                                                                                                                                                                                                                                                 \n",
              "13  [0.5, nan, 0.03, 0.17, 0.01, 0.09, 0.19, 1.17, 1.44, 0.02, 0.78, 1.08, 2.59, 0.05, 0.75, 0.7, 0.28, 0.64, 0.47, 1.58, 0.77, 0.54, 0.14, 0.06, 3.77, 0.8, 3.0, 1.07, 0.15, 0.89, 4.02, 0.04, 0.46, 0.39, 0.43, 2.61, 0.27, 0.51, 1.54, 0.12, 0.33, 2.72, 3.02, 0.62, 1.45, 3.39, 0.3, 0.25, 0.18, 0.83, 2.67, 0.31, 0.11, 1.0, 0.23, 0.38, 0.07, 0.93, 0.4, 3.67, 1.15, 0.41, 0.32, 1.83, 2.97, 0.95, 0.1, 1.84, 1.18, 1.03, 0.13, 0.53, 1.79, 1.19, 0.72, 1.02, 1.27, 0.2, 0.92, 0.22, 0.21, 0.08, 2.13, 2.31, 0.26, 0.29, 1.2, 1.78, 0.81, 0.96, 1.22, 2.11, 0.37, 0.71, 0.24, 1.36, 1.98, 1.12, 1.96, 2.12, ...]                                                                                                                                                                                                                                                                                                                                                                                                                                                                                                                                                                                                                                                                                                                                                                                                                                                                                                                                                                                                                                                                                                                                                                                                                                                                                                                                                                                                                                                                                                                                                                                                                                                                                                                                                                                                                                                                                                                                                                                                                                                                                                                                                                                                                                                                                                                                                                                                                                                                                                                                                                                                                                                                                                                                                                                                                                                                                                                                                                                                                                                                                                                                                                                                                                             \n",
              "14  [2, 1, 3, 41, 10, 7, 6, 4, 37, 8, 19, 5, 53, 45, 13, 11, 25, 24, 36, 29, 18, 12, 9, 15, 44, 33, 39, 21, 34, 89, 32, 56, 62, 23, 14, 22, 17, 28, 16, 31, 20, 26, 228, 48, 99, 27, 30, 49, 40, 35]                                                                                                                                                                                                                                                                                                                                                                                                                                                                                                                                                                                                                                                                                                                                                                                                                                                                                                                                                                                                                                                                                                                                                                                                                                                                                                                                                                                                                                                                                                                                                                                                                                                                                                                                                                                                                                                                                                                                                                                                                                                                                                                                                                                                                                                                                                                                                                                                                                                                                                                                                                                                                                                                                                                                                                                                                                                                                                                                                                                                                                                                                                                                                                                                                                                                                                                                                                                                                                                                                                                                                                                                                                                               \n",
              "15  [353, 358, 365, 323, 87, 320, 356, 361, 330, 180, 334, 349, 364, 55, 263, 350, 95, 207, 336, 174, 156, 331, 88, 355, 363, 339, 145, 134, 16, 0, 242, 256, 59, 167, 219, 142, 149, 176, 129, 230, 301, 120, 75, 44, 270, 346, 272, 162, 347, 359, 304, 62, 82, 342, 348, 130, 154, 244, 344, 354, 317, 54, 362, 271, 255, 144, 357, 181, 236, 127, 146, 124, 221, 294, 13, 318, 56, 267, 293, 107, 360, 314, 316, 89, 57, 312, 70, 179, 10, 338, 86, 302, 321, 98, 217, 341, 90, 325, 333, 1, ...]                                                                                                                                                                                                                                                                                                                                                                                                                                                                                                                                                                                                                                                                                                                                                                                                                                                                                                                                                                                                                                                                                                                                                                                                                                                                                                                                                                                                                                                                                                                                                                                                                                                                                                                                                                                                                                                                                                                                                                                                                                                                                                                                                                                                                                                                                                                                                                                                                                                                                                                                                                                                                                                                                                                                                                                                                                                                                                                                                                                                                                                                                                                                                                                                                                                                                                                                                              \n",
              "16  [0, 1, 3, 13, 2, 7, 5, 10, 9, 12, 29, 4, 19, 56, 20, 11, 6, 14, 8, 43, 18, 30, 15, 277, 26, 59, 21, 41, 16, 22, 25, 38, 42, 40, 31, 39, 35, 44, 17, 27, 36, 23, 79, 50, 24, 34, 47, 37, 32, 73, 48, 28, 45, 67, 46, 147, 109, 68, 62, 51, 72, 52, 49, 33, 69, 325, 55, 146, 61, 124, 75, 71, 138, 57, 70, 90, 65, 141, 246, 118, 80, 53, 63, 60, 101]                                                                                                                                                                                                                                                                                                                                                                                                                                                                                                                                                                                                                                                                                                                                                                                                                                                                                                                                                                                                                                                                                                                                                                                                                                                                                                                                                                                                                                                                                                                                                                                                                                                                                                                                                                                                                                                                                                                                                                                                                                                                                                                                                                                                                                                                                                                                                                                                                                                                                                                                                                                                                                                                                                                                                                                                                                                                                                                                                                                                                                                                                                                                                                                                                                                                                                                                                                                                                                                                                                          "
            ]
          },
          "execution_count": 6236,
          "metadata": {},
          "output_type": "execute_result"
        }
      ],
      "source": [
        "pd.set_option('display.max_colwidth', 1)\n",
        "# data uni di tiap kolom\n",
        "list1 = []\n",
        "for col in df.columns :\n",
        "    list1.append( [col, df[col].nunique(), df[col].unique()])\n",
        "\n",
        "tabel1 = pd.DataFrame(columns=['Column Name', 'Number of Unique', 'Unique Sample'],\n",
        "                     data=list1)\n",
        "tabel1"
      ]
    },
    {
      "cell_type": "markdown",
      "metadata": {
        "id": "5YBODGmAMjVe"
      },
      "source": [
        "Secara umum, kita bisa melihat bahwa:\n",
        "* dataset AirBnB listings Bangkok memiliki 16 kolom dan 15.854 baris\n",
        "* beberapa kolom, yaitu, `listing_name`, `last_review`,dan `reviews_per_month` memiliki data kosong.  Data di `last_review`,dan `reviews_per_month` memiliki NaN.\n",
        "* kolom `latitude` dan `longtitude` berisikan untuk menentukan titik lokasi \n",
        "* kolom  `host_id` berisikan id unik untuk tiap host, sehingga tidak relevan dalam analisis dan bisa dihapus saja. Sedangkan `host_name` juga dihapus dikarenakan tidak ada hubungan dengan penelitian ini.\n",
        "* kolom `name` memiliki data tipe object serta memiliki karakter yang unik sehingga perlu diganti.\n",
        "* kolom `availability_365` memiliki data 0 yang artinya tempat tersebut sering penuh."
      ]
    },
    {
      "cell_type": "markdown",
      "metadata": {
        "id": "vkxDAv34YVlz"
      },
      "source": [
        "## Missing Value"
      ]
    },
    {
      "cell_type": "code",
      "execution_count": 6237,
      "metadata": {},
      "outputs": [
        {
          "data": {
            "text/plain": [
              "Unnamed: 0                        0   \n",
              "listing_id                        0   \n",
              "listing_name                      8   \n",
              "host_id                           0   \n",
              "host_name                         1   \n",
              "neighbourhood                     0   \n",
              "latitude                          0   \n",
              "longitude                         0   \n",
              "room_type                         0   \n",
              "price                             0   \n",
              "minimum_nights                    0   \n",
              "number_of_reviews                 0   \n",
              "last_review                       5790\n",
              "reviews_per_month                 5790\n",
              "calculated_host_listings_count    0   \n",
              "availability_365                  0   \n",
              "number_of_reviews_ltm             0   \n",
              "dtype: int64"
            ]
          },
          "execution_count": 6237,
          "metadata": {},
          "output_type": "execute_result"
        }
      ],
      "source": [
        "# Jumlah missing value di tiap kolom\n",
        "df.isna().sum()"
      ]
    },
    {
      "cell_type": "code",
      "execution_count": 6238,
      "metadata": {
        "colab": {
          "base_uri": "https://localhost:8080/"
        },
        "id": "DB0tFBZqYa55",
        "outputId": "817a4858-98b5-4562-9548-651e4d31f92d"
      },
      "outputs": [
        {
          "data": {
            "text/plain": [
              "Unnamed: 0                        0.000000 \n",
              "listing_id                        0.000000 \n",
              "listing_name                      0.050460 \n",
              "host_id                           0.000000 \n",
              "host_name                         0.006308 \n",
              "neighbourhood                     0.000000 \n",
              "latitude                          0.000000 \n",
              "longitude                         0.000000 \n",
              "room_type                         0.000000 \n",
              "price                             0.000000 \n",
              "minimum_nights                    0.000000 \n",
              "number_of_reviews                 0.000000 \n",
              "last_review                       36.520752\n",
              "reviews_per_month                 36.520752\n",
              "calculated_host_listings_count    0.000000 \n",
              "availability_365                  0.000000 \n",
              "number_of_reviews_ltm             0.000000 \n",
              "dtype: float64"
            ]
          },
          "execution_count": 6238,
          "metadata": {},
          "output_type": "execute_result"
        }
      ],
      "source": [
        "# persentase missing value di tiap kolom\n",
        "df.isna().sum()/df.shape[0]*100"
      ]
    },
    {
      "cell_type": "code",
      "execution_count": 6239,
      "metadata": {},
      "outputs": [
        {
          "name": "stdout",
          "output_type": "stream",
          "text": [
            "5793\n"
          ]
        },
        {
          "data": {
            "text/html": [
              "<div>\n",
              "<style scoped>\n",
              "    .dataframe tbody tr th:only-of-type {\n",
              "        vertical-align: middle;\n",
              "    }\n",
              "\n",
              "    .dataframe tbody tr th {\n",
              "        vertical-align: top;\n",
              "    }\n",
              "\n",
              "    .dataframe thead th {\n",
              "        text-align: right;\n",
              "    }\n",
              "</style>\n",
              "<table border=\"1\" class=\"dataframe\">\n",
              "  <thead>\n",
              "    <tr style=\"text-align: right;\">\n",
              "      <th></th>\n",
              "      <th>Unnamed: 0</th>\n",
              "      <th>listing_id</th>\n",
              "      <th>listing_name</th>\n",
              "      <th>host_id</th>\n",
              "      <th>host_name</th>\n",
              "      <th>neighbourhood</th>\n",
              "      <th>latitude</th>\n",
              "      <th>longitude</th>\n",
              "      <th>room_type</th>\n",
              "      <th>price</th>\n",
              "      <th>minimum_nights</th>\n",
              "      <th>number_of_reviews</th>\n",
              "      <th>last_review</th>\n",
              "      <th>reviews_per_month</th>\n",
              "      <th>calculated_host_listings_count</th>\n",
              "      <th>availability_365</th>\n",
              "      <th>number_of_reviews_ltm</th>\n",
              "    </tr>\n",
              "  </thead>\n",
              "  <tbody>\n",
              "    <tr>\n",
              "      <th>1</th>\n",
              "      <td>1</td>\n",
              "      <td>27979</td>\n",
              "      <td>Easy going landlord,easy place</td>\n",
              "      <td>120541</td>\n",
              "      <td>Emy</td>\n",
              "      <td>Bang Na</td>\n",
              "      <td>13.668180</td>\n",
              "      <td>100.616740</td>\n",
              "      <td>Private room</td>\n",
              "      <td>1316</td>\n",
              "      <td>1</td>\n",
              "      <td>0</td>\n",
              "      <td>NaN</td>\n",
              "      <td>NaN</td>\n",
              "      <td>2</td>\n",
              "      <td>358</td>\n",
              "      <td>0</td>\n",
              "    </tr>\n",
              "    <tr>\n",
              "      <th>2</th>\n",
              "      <td>2</td>\n",
              "      <td>28745</td>\n",
              "      <td>modern-style apartment in Bangkok</td>\n",
              "      <td>123784</td>\n",
              "      <td>Familyroom</td>\n",
              "      <td>Bang Kapi</td>\n",
              "      <td>13.752320</td>\n",
              "      <td>100.624020</td>\n",
              "      <td>Private room</td>\n",
              "      <td>800</td>\n",
              "      <td>60</td>\n",
              "      <td>0</td>\n",
              "      <td>NaN</td>\n",
              "      <td>NaN</td>\n",
              "      <td>1</td>\n",
              "      <td>365</td>\n",
              "      <td>0</td>\n",
              "    </tr>\n",
              "    <tr>\n",
              "      <th>4</th>\n",
              "      <td>4</td>\n",
              "      <td>941865</td>\n",
              "      <td>Suite Room 3 at MetroPoint</td>\n",
              "      <td>610315</td>\n",
              "      <td>Kasem</td>\n",
              "      <td>Bang Kapi</td>\n",
              "      <td>13.768720</td>\n",
              "      <td>100.633380</td>\n",
              "      <td>Private room</td>\n",
              "      <td>1905</td>\n",
              "      <td>1</td>\n",
              "      <td>0</td>\n",
              "      <td>NaN</td>\n",
              "      <td>NaN</td>\n",
              "      <td>3</td>\n",
              "      <td>365</td>\n",
              "      <td>0</td>\n",
              "    </tr>\n",
              "    <tr>\n",
              "      <th>7</th>\n",
              "      <td>7</td>\n",
              "      <td>1738669</td>\n",
              "      <td>1 chic bedroom apartment in BKK</td>\n",
              "      <td>7045870</td>\n",
              "      <td>Jiraporn</td>\n",
              "      <td>Chatu Chak</td>\n",
              "      <td>13.829250</td>\n",
              "      <td>100.567370</td>\n",
              "      <td>Entire home/apt</td>\n",
              "      <td>1461</td>\n",
              "      <td>1</td>\n",
              "      <td>0</td>\n",
              "      <td>NaN</td>\n",
              "      <td>NaN</td>\n",
              "      <td>1</td>\n",
              "      <td>365</td>\n",
              "      <td>0</td>\n",
              "    </tr>\n",
              "    <tr>\n",
              "      <th>14</th>\n",
              "      <td>14</td>\n",
              "      <td>959254</td>\n",
              "      <td>Deluxe Condo, Nana, Pool/GYM/Sauna</td>\n",
              "      <td>5153476</td>\n",
              "      <td>Natcha</td>\n",
              "      <td>Khlong Toei</td>\n",
              "      <td>13.715160</td>\n",
              "      <td>100.568060</td>\n",
              "      <td>Entire home/apt</td>\n",
              "      <td>1400</td>\n",
              "      <td>30</td>\n",
              "      <td>0</td>\n",
              "      <td>NaN</td>\n",
              "      <td>NaN</td>\n",
              "      <td>1</td>\n",
              "      <td>365</td>\n",
              "      <td>0</td>\n",
              "    </tr>\n",
              "    <tr>\n",
              "      <th>...</th>\n",
              "      <td>...</td>\n",
              "      <td>...</td>\n",
              "      <td>...</td>\n",
              "      <td>...</td>\n",
              "      <td>...</td>\n",
              "      <td>...</td>\n",
              "      <td>...</td>\n",
              "      <td>...</td>\n",
              "      <td>...</td>\n",
              "      <td>...</td>\n",
              "      <td>...</td>\n",
              "      <td>...</td>\n",
              "      <td>...</td>\n",
              "      <td>...</td>\n",
              "      <td>...</td>\n",
              "      <td>...</td>\n",
              "      <td>...</td>\n",
              "    </tr>\n",
              "    <tr>\n",
              "      <th>15849</th>\n",
              "      <td>15849</td>\n",
              "      <td>790465040741092826</td>\n",
              "      <td>素坤逸核心两房公寓42楼，靠近BTSon nut/无边天际泳池观赏曼谷夜景/出门当地美食街</td>\n",
              "      <td>94899359</td>\n",
              "      <td>Renee</td>\n",
              "      <td>Pra Wet</td>\n",
              "      <td>13.715132</td>\n",
              "      <td>100.653458</td>\n",
              "      <td>Private room</td>\n",
              "      <td>2298</td>\n",
              "      <td>28</td>\n",
              "      <td>0</td>\n",
              "      <td>NaN</td>\n",
              "      <td>NaN</td>\n",
              "      <td>1</td>\n",
              "      <td>362</td>\n",
              "      <td>0</td>\n",
              "    </tr>\n",
              "    <tr>\n",
              "      <th>15850</th>\n",
              "      <td>15850</td>\n",
              "      <td>790474503157243541</td>\n",
              "      <td>Euro LuxuryHotel PratunamMKt TripleBdNrShopingArea</td>\n",
              "      <td>491526222</td>\n",
              "      <td>Phakhamon</td>\n",
              "      <td>Ratchathewi</td>\n",
              "      <td>13.753052</td>\n",
              "      <td>100.538738</td>\n",
              "      <td>Private room</td>\n",
              "      <td>1429</td>\n",
              "      <td>1</td>\n",
              "      <td>0</td>\n",
              "      <td>NaN</td>\n",
              "      <td>NaN</td>\n",
              "      <td>14</td>\n",
              "      <td>365</td>\n",
              "      <td>0</td>\n",
              "    </tr>\n",
              "    <tr>\n",
              "      <th>15851</th>\n",
              "      <td>15851</td>\n",
              "      <td>790475335086864240</td>\n",
              "      <td>Euro LuxuryHotel PratunamMKt TwinBedNrShopingArea</td>\n",
              "      <td>491526222</td>\n",
              "      <td>Phakhamon</td>\n",
              "      <td>Ratchathewi</td>\n",
              "      <td>13.753169</td>\n",
              "      <td>100.538700</td>\n",
              "      <td>Private room</td>\n",
              "      <td>1214</td>\n",
              "      <td>1</td>\n",
              "      <td>0</td>\n",
              "      <td>NaN</td>\n",
              "      <td>NaN</td>\n",
              "      <td>14</td>\n",
              "      <td>365</td>\n",
              "      <td>0</td>\n",
              "    </tr>\n",
              "    <tr>\n",
              "      <th>15852</th>\n",
              "      <td>15852</td>\n",
              "      <td>790475546213717328</td>\n",
              "      <td>Euro LuxuryHotel PratunamMKt TwinBedNrShopingArea</td>\n",
              "      <td>491526222</td>\n",
              "      <td>Phakhamon</td>\n",
              "      <td>Ratchathewi</td>\n",
              "      <td>13.754789</td>\n",
              "      <td>100.538757</td>\n",
              "      <td>Private room</td>\n",
              "      <td>1214</td>\n",
              "      <td>1</td>\n",
              "      <td>0</td>\n",
              "      <td>NaN</td>\n",
              "      <td>NaN</td>\n",
              "      <td>14</td>\n",
              "      <td>365</td>\n",
              "      <td>0</td>\n",
              "    </tr>\n",
              "    <tr>\n",
              "      <th>15853</th>\n",
              "      <td>15853</td>\n",
              "      <td>790476492384199044</td>\n",
              "      <td>Euro LuxuryHotel PratunamMKt TwinBedNrShopingArea</td>\n",
              "      <td>491526222</td>\n",
              "      <td>Phakhamon</td>\n",
              "      <td>Ratchathewi</td>\n",
              "      <td>13.752960</td>\n",
              "      <td>100.540820</td>\n",
              "      <td>Private room</td>\n",
              "      <td>1214</td>\n",
              "      <td>1</td>\n",
              "      <td>0</td>\n",
              "      <td>NaN</td>\n",
              "      <td>NaN</td>\n",
              "      <td>14</td>\n",
              "      <td>365</td>\n",
              "      <td>0</td>\n",
              "    </tr>\n",
              "  </tbody>\n",
              "</table>\n",
              "<p>5793 rows × 17 columns</p>\n",
              "</div>"
            ],
            "text/plain": [
              "       Unnamed: 0          listing_id  \\\n",
              "1      1           27979                \n",
              "2      2           28745                \n",
              "4      4           941865               \n",
              "7      7           1738669              \n",
              "14     14          959254               \n",
              "...    ..             ...               \n",
              "15849  15849       790465040741092826   \n",
              "15850  15850       790474503157243541   \n",
              "15851  15851       790475335086864240   \n",
              "15852  15852       790475546213717328   \n",
              "15853  15853       790476492384199044   \n",
              "\n",
              "                                             listing_name    host_id  \\\n",
              "1      Easy going landlord,easy place                      120541      \n",
              "2      modern-style apartment in Bangkok                   123784      \n",
              "4      Suite Room 3 at MetroPoint                          610315      \n",
              "7      1 chic bedroom apartment in BKK                     7045870     \n",
              "14     Deluxe Condo, Nana, Pool/GYM/Sauna                  5153476     \n",
              "...                                   ...                      ...     \n",
              "15849  素坤逸核心两房公寓42楼，靠近BTSon nut/无边天际泳池观赏曼谷夜景/出门当地美食街       94899359    \n",
              "15850  Euro LuxuryHotel PratunamMKt TripleBdNrShopingArea  491526222   \n",
              "15851  Euro LuxuryHotel PratunamMKt TwinBedNrShopingArea   491526222   \n",
              "15852  Euro LuxuryHotel PratunamMKt TwinBedNrShopingArea   491526222   \n",
              "15853  Euro LuxuryHotel PratunamMKt TwinBedNrShopingArea   491526222   \n",
              "\n",
              "        host_name neighbourhood   latitude   longitude        room_type  \\\n",
              "1      Emy         Bang Na       13.668180  100.616740  Private room      \n",
              "2      Familyroom  Bang Kapi     13.752320  100.624020  Private room      \n",
              "4      Kasem       Bang Kapi     13.768720  100.633380  Private room      \n",
              "7      Jiraporn    Chatu Chak    13.829250  100.567370  Entire home/apt   \n",
              "14     Natcha      Khlong Toei   13.715160  100.568060  Entire home/apt   \n",
              "...       ...              ...         ...         ...              ...   \n",
              "15849  Renee       Pra Wet       13.715132  100.653458  Private room      \n",
              "15850  Phakhamon   Ratchathewi   13.753052  100.538738  Private room      \n",
              "15851  Phakhamon   Ratchathewi   13.753169  100.538700  Private room      \n",
              "15852  Phakhamon   Ratchathewi   13.754789  100.538757  Private room      \n",
              "15853  Phakhamon   Ratchathewi   13.752960  100.540820  Private room      \n",
              "\n",
              "       price  minimum_nights  number_of_reviews last_review  \\\n",
              "1      1316   1               0                  NaN          \n",
              "2      800    60              0                  NaN          \n",
              "4      1905   1               0                  NaN          \n",
              "7      1461   1               0                  NaN          \n",
              "14     1400   30              0                  NaN          \n",
              "...     ...   ..             ..                  ...          \n",
              "15849  2298   28              0                  NaN          \n",
              "15850  1429   1               0                  NaN          \n",
              "15851  1214   1               0                  NaN          \n",
              "15852  1214   1               0                  NaN          \n",
              "15853  1214   1               0                  NaN          \n",
              "\n",
              "       reviews_per_month  calculated_host_listings_count  availability_365  \\\n",
              "1     NaN                 2                               358                \n",
              "2     NaN                 1                               365                \n",
              "4     NaN                 3                               365                \n",
              "7     NaN                 1                               365                \n",
              "14    NaN                 1                               365                \n",
              "...    ..                ..                               ...                \n",
              "15849 NaN                 1                               362                \n",
              "15850 NaN                 14                              365                \n",
              "15851 NaN                 14                              365                \n",
              "15852 NaN                 14                              365                \n",
              "15853 NaN                 14                              365                \n",
              "\n",
              "       number_of_reviews_ltm  \n",
              "1      0                      \n",
              "2      0                      \n",
              "4      0                      \n",
              "7      0                      \n",
              "14     0                      \n",
              "...   ..                      \n",
              "15849  0                      \n",
              "15850  0                      \n",
              "15851  0                      \n",
              "15852  0                      \n",
              "15853  0                      \n",
              "\n",
              "[5793 rows x 17 columns]"
            ]
          },
          "execution_count": 6239,
          "metadata": {},
          "output_type": "execute_result"
        }
      ],
      "source": [
        "#Pengecekan Data Kosong, dan ditemukan sebanyak 5973 row kosong dikolom name, host_name, last_review dan reviews_month\n",
        "\n",
        "print(len(df[df.isna().any(axis=1)]))\n",
        "df[df.isna().any(axis=1)]"
      ]
    },
    {
      "cell_type": "code",
      "execution_count": 6240,
      "metadata": {
        "colab": {
          "base_uri": "https://localhost:8080/",
          "height": 855
        },
        "id": "GRf3kyjsht6Y",
        "outputId": "d74cbd71-f800-477f-b45d-70abe27498ac"
      },
      "outputs": [
        {
          "data": {
            "text/plain": [
              "<Axes: >"
            ]
          },
          "execution_count": 6240,
          "metadata": {},
          "output_type": "execute_result"
        },
        {
          "data": {
            "image/png": "[encoded data removed]",
            "text/plain": [
              "<Figure size 1000x800 with 2 Axes>"
            ]
          },
          "metadata": {},
          "output_type": "display_data"
        }
      ],
      "source": [
        "plt.figure(figsize=(10, 8))\n",
        "sns.heatmap(df[['listing_name', 'last_review', 'reviews_per_month']].isna())"
      ]
    },
    {
      "cell_type": "code",
      "execution_count": 6241,
      "metadata": {
        "colab": {
          "base_uri": "https://localhost:8080/",
          "height": 699
        },
        "id": "mC9L71KswxBe",
        "outputId": "75b9ac5a-91eb-420f-f17c-40efe1a527d4"
      },
      "outputs": [
        {
          "data": {
            "image/png": "[encoded data removed]",
            "text/plain": [
              "<Figure size 1000x800 with 2 Axes>"
            ]
          },
          "metadata": {},
          "output_type": "display_data"
        }
      ],
      "source": [
        "correlation_matrix1 = df[['listing_name', 'last_review', 'reviews_per_month']].isna().corr()\n",
        "plt.figure(figsize=(10, 8))\n",
        "sns.heatmap(correlation_matrix1, annot=True)\n",
        "plt.title('Correlation Matrix for Missing Value')\n",
        "plt.show()"
      ]
    },
    {
      "cell_type": "markdown",
      "metadata": {
        "id": "jzvNI7nDj9T1"
      },
      "source": [
        "Secara garis besar:  \n",
        "* *missing value* di kolom `last_review`,dan `reviews_per_month` memiliki proporsi yang cukup tinggi mencapai 36.52%.\n",
        "* *missing value* di kolom `name` memiliki porsi sedikit yaitu sekitar 0.05 %\n",
        "* *missing value* di kolom `last_review`,dan `reviews_per_month` memiliki korelasi data.\n",
        "\n",
        "\n",
        "Ada 2 cara untuk menangani *missing value*:\n",
        "* pertama, menghapus baris yang berisi *missing value*. Cara ini tidak disarankan dalam kasus kita, karena jumlah missing value yang tergolong cukup tinggi (sampai 36%).\n",
        "* kedua, mengisi data yang hilang. Cara ini lebih disarankan. Ada beberapa metode yang bisa digunakan untuk mengisi missing value, cara yang paling baik adalah dengan mengisi data yang hilang dengan nilai sebenarnya, atau sedekat mungkin dengan nilai asli. Dalam kasus ini, kita akan mencoba mengisi *missing value* berdasarkan kolom lain yang secara domain knowledge atau secara statistik berkaitan dengan kolom yang memiliki *missing value*. Jika masih ada kolom yang tidak bisa diisi, barulah kita mengisi dengan angka *mean, median* atau *modus*. Menghapus data akan menjadi opsi terakhir."
      ]
    },
    {
      "cell_type": "markdown",
      "metadata": {
        "id": "rVh6mhezGlxr"
      },
      "source": [
        "Ketika sudah mendapat gambaran anomali dari data diatas, untuk tahap selanjutnya, saya ingin melihat dan menganalisa setiap anomali secara lebih jauh."
      ]
    },
    {
      "cell_type": "markdown",
      "metadata": {},
      "source": [
        "Karena jumlah missing value pada kolom name hanya berjumlah 0.05% dari total seluruh data dan tidak ada referensi untuk hal tersebut maka tidak ada masalah untuk menghapus baris yang terdapat missing value pada kolom name"
      ]
    },
    {
      "cell_type": "code",
      "execution_count": 6242,
      "metadata": {},
      "outputs": [
        {
          "data": {
            "text/plain": [
              "8"
            ]
          },
          "execution_count": 6242,
          "metadata": {},
          "output_type": "execute_result"
        }
      ],
      "source": [
        "# Mengecek missing value yang terdapat pada kolom name\n",
        "df['listing_name'].isna().sum()"
      ]
    },
    {
      "cell_type": "markdown",
      "metadata": {
        "id": "8ySQvEECwR83"
      },
      "source": [
        "Dikarenakan adanya NaN value di 'name' kolom menyebabkan error ketika menggunakan metode dropna(). oleh karena itu, saya menggunakn notna() metode untuk membuat topeng boolean supaya filter kolom yang tidak missing value di 'name' kolom."
      ]
    },
    {
      "cell_type": "code",
      "execution_count": 6243,
      "metadata": {
        "colab": {
          "base_uri": "https://localhost:8080/"
        },
        "id": "sxmLUHWzqIzx",
        "outputId": "bca04dae-8ddc-43e7-b6f3-9aeb0451b024"
      },
      "outputs": [
        {
          "data": {
            "text/plain": [
              "reviews_per_month\n",
              "0.02     498\n",
              "0.03     467\n",
              "1.00     304\n",
              "0.05     248\n",
              "0.04     223\n",
              "        ... \n",
              "6.70     1  \n",
              "4.26     1  \n",
              "6.12     1  \n",
              "4.57     1  \n",
              "16.00    1  \n",
              "Name: count, Length: 513, dtype: int64"
            ]
          },
          "execution_count": 6243,
          "metadata": {},
          "output_type": "execute_result"
        }
      ],
      "source": [
        "# Melihat jumlah review per month \n",
        "df['reviews_per_month'].value_counts()"
      ]
    },
    {
      "cell_type": "code",
      "execution_count": 6244,
      "metadata": {
        "colab": {
          "base_uri": "https://localhost:8080/"
        },
        "id": "61w8PLofvMI3",
        "outputId": "4f9b7ee7-a785-42da-8a95-5ba5a3ac710f"
      },
      "outputs": [
        {
          "data": {
            "text/plain": [
              "reviews_per_month\n",
              "2.0       498\n",
              "3.0       467\n",
              "100.0     304\n",
              "5.0       248\n",
              "4.0       223\n",
              "         ... \n",
              "670.0     1  \n",
              "426.0     1  \n",
              "612.0     1  \n",
              "457.0     1  \n",
              "1600.0    1  \n",
              "Name: count, Length: 513, dtype: int64"
            ]
          },
          "execution_count": 6244,
          "metadata": {},
          "output_type": "execute_result"
        }
      ],
      "source": [
        "df['reviews_per_month'] = df['reviews_per_month']*100\n",
        "df['reviews_per_month'].value_counts()"
      ]
    },
    {
      "cell_type": "code",
      "execution_count": 6245,
      "metadata": {
        "colab": {
          "base_uri": "https://localhost:8080/"
        },
        "id": "FvodFyR-u7B-",
        "outputId": "2365823a-bffa-482d-f0f9-c1737c394fc5"
      },
      "outputs": [
        {
          "data": {
            "text/plain": [
              "last_review\n",
              "2022-12-11    189\n",
              "2022-12-14    184\n",
              "2022-12-13    179\n",
              "2022-12-12    172\n",
              "2022-12-10    142\n",
              "             ... \n",
              "2015-04-05    1  \n",
              "2017-08-01    1  \n",
              "2015-01-01    1  \n",
              "2020-10-12    1  \n",
              "2022-05-08    1  \n",
              "Name: count, Length: 1669, dtype: int64"
            ]
          },
          "execution_count": 6245,
          "metadata": {},
          "output_type": "execute_result"
        }
      ],
      "source": [
        "df['last_review'].value_counts()"
      ]
    },
    {
      "cell_type": "markdown",
      "metadata": {
        "id": "Iq6emv2MddXQ"
      },
      "source": [
        "Setelah mengetahui data di `last_review`,dan `reviews_per_month`, dikarenakan `last_review` tidak memiliki korelasi dengan data data yang lain kecuali untuk missing value, maka kolom `last_review` didrop. Setelah menghapus column, jumlah kandidat dengan data kosong di `reviews_per_month` berdasarkan `number_of_reviews` dan `number_of_reviews_ltm`."
      ]
    },
    {
      "cell_type": "code",
      "execution_count": 6246,
      "metadata": {
        "colab": {
          "base_uri": "https://localhost:8080/",
          "height": 495
        },
        "id": "qveo1tDFf_0M",
        "outputId": "05b1426b-5334-4d53-b0de-a44b373bb19a"
      },
      "outputs": [
        {
          "data": {
            "text/html": [
              "<div>\n",
              "<style scoped>\n",
              "    .dataframe tbody tr th:only-of-type {\n",
              "        vertical-align: middle;\n",
              "    }\n",
              "\n",
              "    .dataframe tbody tr th {\n",
              "        vertical-align: top;\n",
              "    }\n",
              "\n",
              "    .dataframe thead th {\n",
              "        text-align: right;\n",
              "    }\n",
              "</style>\n",
              "<table border=\"1\" class=\"dataframe\">\n",
              "  <thead>\n",
              "    <tr style=\"text-align: right;\">\n",
              "      <th></th>\n",
              "      <th>Unnamed: 0</th>\n",
              "      <th>listing_id</th>\n",
              "      <th>listing_name</th>\n",
              "      <th>host_id</th>\n",
              "      <th>host_name</th>\n",
              "      <th>neighbourhood</th>\n",
              "      <th>latitude</th>\n",
              "      <th>longitude</th>\n",
              "      <th>room_type</th>\n",
              "      <th>price</th>\n",
              "      <th>minimum_nights</th>\n",
              "      <th>number_of_reviews</th>\n",
              "      <th>reviews_per_month</th>\n",
              "      <th>calculated_host_listings_count</th>\n",
              "      <th>availability_365</th>\n",
              "      <th>number_of_reviews_ltm</th>\n",
              "    </tr>\n",
              "  </thead>\n",
              "  <tbody>\n",
              "    <tr>\n",
              "      <th>0</th>\n",
              "      <td>0</td>\n",
              "      <td>27934</td>\n",
              "      <td>Nice room with superb city view</td>\n",
              "      <td>120437</td>\n",
              "      <td>Nuttee</td>\n",
              "      <td>Ratchathewi</td>\n",
              "      <td>13.75983</td>\n",
              "      <td>100.54134</td>\n",
              "      <td>Entire home/apt</td>\n",
              "      <td>1905</td>\n",
              "      <td>3</td>\n",
              "      <td>65</td>\n",
              "      <td>50.0</td>\n",
              "      <td>2</td>\n",
              "      <td>353</td>\n",
              "      <td>0</td>\n",
              "    </tr>\n",
              "    <tr>\n",
              "      <th>1</th>\n",
              "      <td>1</td>\n",
              "      <td>27979</td>\n",
              "      <td>Easy going landlord,easy place</td>\n",
              "      <td>120541</td>\n",
              "      <td>Emy</td>\n",
              "      <td>Bang Na</td>\n",
              "      <td>13.66818</td>\n",
              "      <td>100.61674</td>\n",
              "      <td>Private room</td>\n",
              "      <td>1316</td>\n",
              "      <td>1</td>\n",
              "      <td>0</td>\n",
              "      <td>NaN</td>\n",
              "      <td>2</td>\n",
              "      <td>358</td>\n",
              "      <td>0</td>\n",
              "    </tr>\n",
              "    <tr>\n",
              "      <th>2</th>\n",
              "      <td>2</td>\n",
              "      <td>28745</td>\n",
              "      <td>modern-style apartment in Bangkok</td>\n",
              "      <td>123784</td>\n",
              "      <td>Familyroom</td>\n",
              "      <td>Bang Kapi</td>\n",
              "      <td>13.75232</td>\n",
              "      <td>100.62402</td>\n",
              "      <td>Private room</td>\n",
              "      <td>800</td>\n",
              "      <td>60</td>\n",
              "      <td>0</td>\n",
              "      <td>NaN</td>\n",
              "      <td>1</td>\n",
              "      <td>365</td>\n",
              "      <td>0</td>\n",
              "    </tr>\n",
              "    <tr>\n",
              "      <th>3</th>\n",
              "      <td>3</td>\n",
              "      <td>35780</td>\n",
              "      <td>Spacious one bedroom at The Kris Condo Bldg. 3</td>\n",
              "      <td>153730</td>\n",
              "      <td>Sirilak</td>\n",
              "      <td>Din Daeng</td>\n",
              "      <td>13.78823</td>\n",
              "      <td>100.57256</td>\n",
              "      <td>Private room</td>\n",
              "      <td>1286</td>\n",
              "      <td>7</td>\n",
              "      <td>2</td>\n",
              "      <td>3.0</td>\n",
              "      <td>1</td>\n",
              "      <td>323</td>\n",
              "      <td>1</td>\n",
              "    </tr>\n",
              "    <tr>\n",
              "      <th>4</th>\n",
              "      <td>4</td>\n",
              "      <td>941865</td>\n",
              "      <td>Suite Room 3 at MetroPoint</td>\n",
              "      <td>610315</td>\n",
              "      <td>Kasem</td>\n",
              "      <td>Bang Kapi</td>\n",
              "      <td>13.76872</td>\n",
              "      <td>100.63338</td>\n",
              "      <td>Private room</td>\n",
              "      <td>1905</td>\n",
              "      <td>1</td>\n",
              "      <td>0</td>\n",
              "      <td>NaN</td>\n",
              "      <td>3</td>\n",
              "      <td>365</td>\n",
              "      <td>0</td>\n",
              "    </tr>\n",
              "  </tbody>\n",
              "</table>\n",
              "</div>"
            ],
            "text/plain": [
              "   Unnamed: 0  listing_id                                    listing_name  \\\n",
              "0  0           27934       Nice room with superb city view                  \n",
              "1  1           27979       Easy going landlord,easy place                   \n",
              "2  2           28745       modern-style apartment in Bangkok                \n",
              "3  3           35780       Spacious one bedroom at The Kris Condo Bldg. 3   \n",
              "4  4           941865      Suite Room 3 at MetroPoint                       \n",
              "\n",
              "   host_id   host_name neighbourhood  latitude  longitude        room_type  \\\n",
              "0  120437   Nuttee      Ratchathewi   13.75983  100.54134  Entire home/apt   \n",
              "1  120541   Emy         Bang Na       13.66818  100.61674  Private room      \n",
              "2  123784   Familyroom  Bang Kapi     13.75232  100.62402  Private room      \n",
              "3  153730   Sirilak     Din Daeng     13.78823  100.57256  Private room      \n",
              "4  610315   Kasem       Bang Kapi     13.76872  100.63338  Private room      \n",
              "\n",
              "   price  minimum_nights  number_of_reviews  reviews_per_month  \\\n",
              "0  1905   3               65                 50.0                \n",
              "1  1316   1               0                 NaN                  \n",
              "2  800    60              0                 NaN                  \n",
              "3  1286   7               2                  3.0                 \n",
              "4  1905   1               0                 NaN                  \n",
              "\n",
              "   calculated_host_listings_count  availability_365  number_of_reviews_ltm  \n",
              "0  2                               353               0                      \n",
              "1  2                               358               0                      \n",
              "2  1                               365               0                      \n",
              "3  1                               323               1                      \n",
              "4  3                               365               0                      "
            ]
          },
          "execution_count": 6246,
          "metadata": {},
          "output_type": "execute_result"
        }
      ],
      "source": [
        "df.drop('last_review', axis=1, inplace=True)\n",
        "df.head()"
      ]
    },
    {
      "cell_type": "code",
      "execution_count": 6247,
      "metadata": {
        "colab": {
          "base_uri": "https://localhost:8080/",
          "height": 90
        },
        "id": "6S8z-wwadceu",
        "outputId": "8b4e9093-84cf-40b3-abf8-5bd89ef77053"
      },
      "outputs": [
        {
          "data": {
            "text/plain": [
              "number_of_reviews\n",
              "0    5790\n",
              "Name: count, dtype: int64"
            ]
          },
          "metadata": {},
          "output_type": "display_data"
        },
        {
          "data": {
            "text/plain": [
              "number_of_reviews_ltm\n",
              "0    5790\n",
              "Name: count, dtype: int64"
            ]
          },
          "metadata": {},
          "output_type": "display_data"
        }
      ],
      "source": [
        "# jumlah kandidat dengan data kosong di 'reviews_per_month' berdasarkan 'number_of_reviews' dan 'number_of_reviews_ltm'\n",
        "display(df[df['reviews_per_month'].isna()]['number_of_reviews'].value_counts(),\n",
        "df[df['reviews_per_month'].isna()]['number_of_reviews_ltm'].value_counts())"
      ]
    },
    {
      "cell_type": "markdown",
      "metadata": {
        "id": "yh1_I8RswKia"
      },
      "source": [
        "dari hasil analisa ditemukan adanya 0 di `availability_365` tetapi hal ini menandakan bahwa tempat penginapan penuh, terpecaya, dan sering dipakai oleh turis. dengan pemahaman tersebut, maka kolom `availability_365` akan diisi dengan yes dan no."
      ]
    },
    {
      "cell_type": "code",
      "execution_count": 6248,
      "metadata": {
        "colab": {
          "base_uri": "https://localhost:8080/",
          "height": 495
        },
        "id": "4kAthbEhyf7-",
        "outputId": "38f79314-d762-4c3a-ff4a-0ec2f01d4c47"
      },
      "outputs": [
        {
          "data": {
            "text/html": [
              "<div>\n",
              "<style scoped>\n",
              "    .dataframe tbody tr th:only-of-type {\n",
              "        vertical-align: middle;\n",
              "    }\n",
              "\n",
              "    .dataframe tbody tr th {\n",
              "        vertical-align: top;\n",
              "    }\n",
              "\n",
              "    .dataframe thead th {\n",
              "        text-align: right;\n",
              "    }\n",
              "</style>\n",
              "<table border=\"1\" class=\"dataframe\">\n",
              "  <thead>\n",
              "    <tr style=\"text-align: right;\">\n",
              "      <th></th>\n",
              "      <th>Unnamed: 0</th>\n",
              "      <th>listing_id</th>\n",
              "      <th>listing_name</th>\n",
              "      <th>host_id</th>\n",
              "      <th>host_name</th>\n",
              "      <th>neighbourhood</th>\n",
              "      <th>latitude</th>\n",
              "      <th>longitude</th>\n",
              "      <th>room_type</th>\n",
              "      <th>price</th>\n",
              "      <th>minimum_nights</th>\n",
              "      <th>number_of_reviews</th>\n",
              "      <th>reviews_per_month</th>\n",
              "      <th>calculated_host_listings_count</th>\n",
              "      <th>availability_365</th>\n",
              "      <th>number_of_reviews_ltm</th>\n",
              "    </tr>\n",
              "  </thead>\n",
              "  <tbody>\n",
              "    <tr>\n",
              "      <th>0</th>\n",
              "      <td>0</td>\n",
              "      <td>27934</td>\n",
              "      <td>Nice room with superb city view</td>\n",
              "      <td>120437</td>\n",
              "      <td>Nuttee</td>\n",
              "      <td>Ratchathewi</td>\n",
              "      <td>13.75983</td>\n",
              "      <td>100.54134</td>\n",
              "      <td>Entire home/apt</td>\n",
              "      <td>1905</td>\n",
              "      <td>3</td>\n",
              "      <td>65</td>\n",
              "      <td>50.0</td>\n",
              "      <td>2</td>\n",
              "      <td>Yes</td>\n",
              "      <td>0</td>\n",
              "    </tr>\n",
              "    <tr>\n",
              "      <th>1</th>\n",
              "      <td>1</td>\n",
              "      <td>27979</td>\n",
              "      <td>Easy going landlord,easy place</td>\n",
              "      <td>120541</td>\n",
              "      <td>Emy</td>\n",
              "      <td>Bang Na</td>\n",
              "      <td>13.66818</td>\n",
              "      <td>100.61674</td>\n",
              "      <td>Private room</td>\n",
              "      <td>1316</td>\n",
              "      <td>1</td>\n",
              "      <td>0</td>\n",
              "      <td>NaN</td>\n",
              "      <td>2</td>\n",
              "      <td>Yes</td>\n",
              "      <td>0</td>\n",
              "    </tr>\n",
              "    <tr>\n",
              "      <th>2</th>\n",
              "      <td>2</td>\n",
              "      <td>28745</td>\n",
              "      <td>modern-style apartment in Bangkok</td>\n",
              "      <td>123784</td>\n",
              "      <td>Familyroom</td>\n",
              "      <td>Bang Kapi</td>\n",
              "      <td>13.75232</td>\n",
              "      <td>100.62402</td>\n",
              "      <td>Private room</td>\n",
              "      <td>800</td>\n",
              "      <td>60</td>\n",
              "      <td>0</td>\n",
              "      <td>NaN</td>\n",
              "      <td>1</td>\n",
              "      <td>No</td>\n",
              "      <td>0</td>\n",
              "    </tr>\n",
              "    <tr>\n",
              "      <th>3</th>\n",
              "      <td>3</td>\n",
              "      <td>35780</td>\n",
              "      <td>Spacious one bedroom at The Kris Condo Bldg. 3</td>\n",
              "      <td>153730</td>\n",
              "      <td>Sirilak</td>\n",
              "      <td>Din Daeng</td>\n",
              "      <td>13.78823</td>\n",
              "      <td>100.57256</td>\n",
              "      <td>Private room</td>\n",
              "      <td>1286</td>\n",
              "      <td>7</td>\n",
              "      <td>2</td>\n",
              "      <td>3.0</td>\n",
              "      <td>1</td>\n",
              "      <td>Yes</td>\n",
              "      <td>1</td>\n",
              "    </tr>\n",
              "    <tr>\n",
              "      <th>4</th>\n",
              "      <td>4</td>\n",
              "      <td>941865</td>\n",
              "      <td>Suite Room 3 at MetroPoint</td>\n",
              "      <td>610315</td>\n",
              "      <td>Kasem</td>\n",
              "      <td>Bang Kapi</td>\n",
              "      <td>13.76872</td>\n",
              "      <td>100.63338</td>\n",
              "      <td>Private room</td>\n",
              "      <td>1905</td>\n",
              "      <td>1</td>\n",
              "      <td>0</td>\n",
              "      <td>NaN</td>\n",
              "      <td>3</td>\n",
              "      <td>No</td>\n",
              "      <td>0</td>\n",
              "    </tr>\n",
              "  </tbody>\n",
              "</table>\n",
              "</div>"
            ],
            "text/plain": [
              "   Unnamed: 0  listing_id                                    listing_name  \\\n",
              "0  0           27934       Nice room with superb city view                  \n",
              "1  1           27979       Easy going landlord,easy place                   \n",
              "2  2           28745       modern-style apartment in Bangkok                \n",
              "3  3           35780       Spacious one bedroom at The Kris Condo Bldg. 3   \n",
              "4  4           941865      Suite Room 3 at MetroPoint                       \n",
              "\n",
              "   host_id   host_name neighbourhood  latitude  longitude        room_type  \\\n",
              "0  120437   Nuttee      Ratchathewi   13.75983  100.54134  Entire home/apt   \n",
              "1  120541   Emy         Bang Na       13.66818  100.61674  Private room      \n",
              "2  123784   Familyroom  Bang Kapi     13.75232  100.62402  Private room      \n",
              "3  153730   Sirilak     Din Daeng     13.78823  100.57256  Private room      \n",
              "4  610315   Kasem       Bang Kapi     13.76872  100.63338  Private room      \n",
              "\n",
              "   price  minimum_nights  number_of_reviews  reviews_per_month  \\\n",
              "0  1905   3               65                 50.0                \n",
              "1  1316   1               0                 NaN                  \n",
              "2  800    60              0                 NaN                  \n",
              "3  1286   7               2                  3.0                 \n",
              "4  1905   1               0                 NaN                  \n",
              "\n",
              "   calculated_host_listings_count availability_365  number_of_reviews_ltm  \n",
              "0  2                               Yes              0                      \n",
              "1  2                               Yes              0                      \n",
              "2  1                               No               0                      \n",
              "3  1                               Yes              1                      \n",
              "4  3                               No               0                      "
            ]
          },
          "execution_count": 6248,
          "metadata": {},
          "output_type": "execute_result"
        }
      ],
      "source": [
        "# ubah 'availability_365' dari column ke string\n",
        "df['availability_365'] = df['availability_365'].astype(str)\n",
        "\n",
        "# mengganti value dengan kondisi tertentu dan ubah menjadi 'Yes' atau 'No'\n",
        "# No berarti kamar penuh\n",
        "df['availability_365'] = np.where(df['availability_365'] < '365', 'Yes', 'No')\n",
        "df.head()"
      ]
    },
    {
      "cell_type": "markdown",
      "metadata": {
        "id": "RHWUtiiv58Hj"
      },
      "source": [
        "setelah selesai merubah, drop kolom yang tidak dibutuhkan dalam analisa seperti `Unnamed: 0` ,`latitude`, `calculated_host_listings_count`, `number_of_reviews_ltm`, `longitude` dan `host_id`. setelah selesai"
      ]
    },
    {
      "cell_type": "code",
      "execution_count": 6249,
      "metadata": {},
      "outputs": [],
      "source": [
        "df = df.drop(columns=['Unnamed: 0', 'host_id', 'host_name', 'latitude', 'longitude', 'calculated_host_listings_count', 'reviews_per_month', 'number_of_reviews_ltm'])"
      ]
    },
    {
      "cell_type": "markdown",
      "metadata": {},
      "source": [
        "### **Handling Missing Value**"
      ]
    },
    {
      "cell_type": "code",
      "execution_count": 6250,
      "metadata": {},
      "outputs": [],
      "source": [
        "df['listing_name'] = df['listing_name'].fillna('No Name')"
      ]
    },
    {
      "cell_type": "code",
      "execution_count": 6251,
      "metadata": {},
      "outputs": [
        {
          "data": {
            "text/html": [
              "<div>\n",
              "<style scoped>\n",
              "    .dataframe tbody tr th:only-of-type {\n",
              "        vertical-align: middle;\n",
              "    }\n",
              "\n",
              "    .dataframe tbody tr th {\n",
              "        vertical-align: top;\n",
              "    }\n",
              "\n",
              "    .dataframe thead th {\n",
              "        text-align: right;\n",
              "    }\n",
              "</style>\n",
              "<table border=\"1\" class=\"dataframe\">\n",
              "  <thead>\n",
              "    <tr style=\"text-align: right;\">\n",
              "      <th></th>\n",
              "      <th>listing_id</th>\n",
              "      <th>listing_name</th>\n",
              "      <th>neighbourhood</th>\n",
              "      <th>room_type</th>\n",
              "      <th>price</th>\n",
              "      <th>minimum_nights</th>\n",
              "      <th>number_of_reviews</th>\n",
              "      <th>availability_365</th>\n",
              "    </tr>\n",
              "  </thead>\n",
              "  <tbody>\n",
              "  </tbody>\n",
              "</table>\n",
              "</div>"
            ],
            "text/plain": [
              "Empty DataFrame\n",
              "Columns: [listing_id, listing_name, neighbourhood, room_type, price, minimum_nights, number_of_reviews, availability_365]\n",
              "Index: []"
            ]
          },
          "execution_count": 6251,
          "metadata": {},
          "output_type": "execute_result"
        }
      ],
      "source": [
        "df[df['listing_name'].isna()]"
      ]
    },
    {
      "cell_type": "markdown",
      "metadata": {},
      "source": [
        "### **Duplicate**"
      ]
    },
    {
      "cell_type": "code",
      "execution_count": 6252,
      "metadata": {},
      "outputs": [
        {
          "data": {
            "text/plain": [
              "0"
            ]
          },
          "execution_count": 6252,
          "metadata": {},
          "output_type": "execute_result"
        }
      ],
      "source": [
        "df.duplicated().sum()\n"
      ]
    },
    {
      "cell_type": "markdown",
      "metadata": {},
      "source": [
        " ### **Handling Outliers**"
      ]
    },
    {
      "cell_type": "markdown",
      "metadata": {},
      "source": [
        "#### Kolom `price`"
      ]
    },
    {
      "cell_type": "code",
      "execution_count": 6253,
      "metadata": {},
      "outputs": [
        {
          "data": {
            "text/html": [
              "<div>\n",
              "<style scoped>\n",
              "    .dataframe tbody tr th:only-of-type {\n",
              "        vertical-align: middle;\n",
              "    }\n",
              "\n",
              "    .dataframe tbody tr th {\n",
              "        vertical-align: top;\n",
              "    }\n",
              "\n",
              "    .dataframe thead th {\n",
              "        text-align: right;\n",
              "    }\n",
              "</style>\n",
              "<table border=\"1\" class=\"dataframe\">\n",
              "  <thead>\n",
              "    <tr style=\"text-align: right;\">\n",
              "      <th></th>\n",
              "      <th>price</th>\n",
              "    </tr>\n",
              "  </thead>\n",
              "  <tbody>\n",
              "    <tr>\n",
              "      <th>count</th>\n",
              "      <td>1.585400e+04</td>\n",
              "    </tr>\n",
              "    <tr>\n",
              "      <th>mean</th>\n",
              "      <td>3.217704e+03</td>\n",
              "    </tr>\n",
              "    <tr>\n",
              "      <th>std</th>\n",
              "      <td>2.497212e+04</td>\n",
              "    </tr>\n",
              "    <tr>\n",
              "      <th>min</th>\n",
              "      <td>0.000000e+00</td>\n",
              "    </tr>\n",
              "    <tr>\n",
              "      <th>25%</th>\n",
              "      <td>9.000000e+02</td>\n",
              "    </tr>\n",
              "    <tr>\n",
              "      <th>50%</th>\n",
              "      <td>1.429000e+03</td>\n",
              "    </tr>\n",
              "    <tr>\n",
              "      <th>75%</th>\n",
              "      <td>2.429000e+03</td>\n",
              "    </tr>\n",
              "    <tr>\n",
              "      <th>max</th>\n",
              "      <td>1.100000e+06</td>\n",
              "    </tr>\n",
              "  </tbody>\n",
              "</table>\n",
              "</div>"
            ],
            "text/plain": [
              "              price\n",
              "count  1.585400e+04\n",
              "mean   3.217704e+03\n",
              "std    2.497212e+04\n",
              "min    0.000000e+00\n",
              "25%    9.000000e+02\n",
              "50%    1.429000e+03\n",
              "75%    2.429000e+03\n",
              "max    1.100000e+06"
            ]
          },
          "execution_count": 6253,
          "metadata": {},
          "output_type": "execute_result"
        }
      ],
      "source": [
        "df[['price']].describe()"
      ]
    },
    {
      "cell_type": "code",
      "execution_count": 6254,
      "metadata": {},
      "outputs": [
        {
          "data": {
            "text/plain": [
              "<Axes: xlabel='room_type', ylabel='price'>"
            ]
          },
          "execution_count": 6254,
          "metadata": {},
          "output_type": "execute_result"
        },
        {
          "data": {
            "image/png": "[encoded data removed]",
            "text/plain": [
              "<Figure size 640x480 with 1 Axes>"
            ]
          },
          "metadata": {},
          "output_type": "display_data"
        }
      ],
      "source": [
        "sns.boxplot(data = df,x='room_type', y='price')"
      ]
    },
    {
      "cell_type": "code",
      "execution_count": 6255,
      "metadata": {},
      "outputs": [
        {
          "data": {
            "text/html": [
              "<div>\n",
              "<style scoped>\n",
              "    .dataframe tbody tr th:only-of-type {\n",
              "        vertical-align: middle;\n",
              "    }\n",
              "\n",
              "    .dataframe tbody tr th {\n",
              "        vertical-align: top;\n",
              "    }\n",
              "\n",
              "    .dataframe thead th {\n",
              "        text-align: right;\n",
              "    }\n",
              "</style>\n",
              "<table border=\"1\" class=\"dataframe\">\n",
              "  <thead>\n",
              "    <tr style=\"text-align: right;\">\n",
              "      <th></th>\n",
              "      <th>listing_id</th>\n",
              "      <th>listing_name</th>\n",
              "      <th>neighbourhood</th>\n",
              "      <th>room_type</th>\n",
              "      <th>price</th>\n",
              "      <th>minimum_nights</th>\n",
              "      <th>number_of_reviews</th>\n",
              "      <th>availability_365</th>\n",
              "    </tr>\n",
              "  </thead>\n",
              "  <tbody>\n",
              "    <tr>\n",
              "      <th>11103</th>\n",
              "      <td>44563108</td>\n",
              "      <td>Somerset Maison Asoke Bangkok</td>\n",
              "      <td>Vadhana</td>\n",
              "      <td>Hotel room</td>\n",
              "      <td>0</td>\n",
              "      <td>1</td>\n",
              "      <td>0</td>\n",
              "      <td>Yes</td>\n",
              "    </tr>\n",
              "  </tbody>\n",
              "</table>\n",
              "</div>"
            ],
            "text/plain": [
              "       listing_id                   listing_name neighbourhood   room_type  \\\n",
              "11103  44563108    Somerset Maison Asoke Bangkok  Vadhana       Hotel room   \n",
              "\n",
              "       price  minimum_nights  number_of_reviews availability_365  \n",
              "11103  0      1               0                  Yes              "
            ]
          },
          "execution_count": 6255,
          "metadata": {},
          "output_type": "execute_result"
        }
      ],
      "source": [
        "df[df['price']==0]"
      ]
    },
    {
      "cell_type": "code",
      "execution_count": 6256,
      "metadata": {},
      "outputs": [],
      "source": [
        "df.loc[11103, 'price'] = df[(df['room_type'] == 'Hotel room') & (df['neighbourhood'] == 'Vadhana')]['price'].median()"
      ]
    },
    {
      "cell_type": "code",
      "execution_count": 6257,
      "metadata": {},
      "outputs": [
        {
          "data": {
            "text/html": [
              "<div>\n",
              "<style scoped>\n",
              "    .dataframe tbody tr th:only-of-type {\n",
              "        vertical-align: middle;\n",
              "    }\n",
              "\n",
              "    .dataframe tbody tr th {\n",
              "        vertical-align: top;\n",
              "    }\n",
              "\n",
              "    .dataframe thead th {\n",
              "        text-align: right;\n",
              "    }\n",
              "</style>\n",
              "<table border=\"1\" class=\"dataframe\">\n",
              "  <thead>\n",
              "    <tr style=\"text-align: right;\">\n",
              "      <th></th>\n",
              "      <th>listing_id</th>\n",
              "      <th>listing_name</th>\n",
              "      <th>neighbourhood</th>\n",
              "      <th>room_type</th>\n",
              "      <th>price</th>\n",
              "      <th>minimum_nights</th>\n",
              "      <th>number_of_reviews</th>\n",
              "      <th>availability_365</th>\n",
              "    </tr>\n",
              "  </thead>\n",
              "  <tbody>\n",
              "    <tr>\n",
              "      <th>11103</th>\n",
              "      <td>44563108</td>\n",
              "      <td>Somerset Maison Asoke Bangkok</td>\n",
              "      <td>Vadhana</td>\n",
              "      <td>Hotel room</td>\n",
              "      <td>2414</td>\n",
              "      <td>1</td>\n",
              "      <td>0</td>\n",
              "      <td>Yes</td>\n",
              "    </tr>\n",
              "  </tbody>\n",
              "</table>\n",
              "</div>"
            ],
            "text/plain": [
              "       listing_id                   listing_name neighbourhood   room_type  \\\n",
              "11103  44563108    Somerset Maison Asoke Bangkok  Vadhana       Hotel room   \n",
              "\n",
              "       price  minimum_nights  number_of_reviews availability_365  \n",
              "11103  2414   1               0                  Yes              "
            ]
          },
          "execution_count": 6257,
          "metadata": {},
          "output_type": "execute_result"
        }
      ],
      "source": [
        "df.loc[[11103]]"
      ]
    },
    {
      "cell_type": "code",
      "execution_count": 6258,
      "metadata": {
        "colab": {
          "base_uri": "https://localhost:8080/"
        },
        "id": "tq6Mh0LB_WxA",
        "outputId": "79f65da2-7a60-4913-f827-d1cf0542c122"
      },
      "outputs": [
        {
          "data": {
            "text/plain": [
              "Index(['listing_id', 'listing_name', 'neighbourhood', 'room_type', 'price',\n",
              "       'minimum_nights', 'number_of_reviews', 'availability_365'],\n",
              "      dtype='object')"
            ]
          },
          "execution_count": 6258,
          "metadata": {},
          "output_type": "execute_result"
        }
      ],
      "source": [
        "df.columns"
      ]
    },
    {
      "cell_type": "markdown",
      "metadata": {},
      "source": [
        "## Data yang sudah bersih\n",
        "Kita sudah selesai membersihkan data kita, sekarang, mari kita lihat sekilas informasi dari data yang sudah kita bersihkan"
      ]
    },
    {
      "cell_type": "code",
      "execution_count": 6259,
      "metadata": {
        "colab": {
          "base_uri": "https://localhost:8080/",
          "height": 495
        },
        "id": "CLQaQDP6D75X",
        "outputId": "92b5e481-d2a5-4707-9700-2f6b3b0c72f1"
      },
      "outputs": [
        {
          "data": {
            "text/html": [
              "<div>\n",
              "<style scoped>\n",
              "    .dataframe tbody tr th:only-of-type {\n",
              "        vertical-align: middle;\n",
              "    }\n",
              "\n",
              "    .dataframe tbody tr th {\n",
              "        vertical-align: top;\n",
              "    }\n",
              "\n",
              "    .dataframe thead th {\n",
              "        text-align: right;\n",
              "    }\n",
              "</style>\n",
              "<table border=\"1\" class=\"dataframe\">\n",
              "  <thead>\n",
              "    <tr style=\"text-align: right;\">\n",
              "      <th></th>\n",
              "      <th>listing_id</th>\n",
              "      <th>listing_name</th>\n",
              "      <th>neighbourhood</th>\n",
              "      <th>room_type</th>\n",
              "      <th>price</th>\n",
              "      <th>minimum_nights</th>\n",
              "      <th>number_of_reviews</th>\n",
              "      <th>availability_365</th>\n",
              "    </tr>\n",
              "  </thead>\n",
              "  <tbody>\n",
              "    <tr>\n",
              "      <th>0</th>\n",
              "      <td>27934</td>\n",
              "      <td>Nice room with superb city view</td>\n",
              "      <td>Ratchathewi</td>\n",
              "      <td>Entire home/apt</td>\n",
              "      <td>1905</td>\n",
              "      <td>3</td>\n",
              "      <td>65</td>\n",
              "      <td>Yes</td>\n",
              "    </tr>\n",
              "    <tr>\n",
              "      <th>1</th>\n",
              "      <td>27979</td>\n",
              "      <td>Easy going landlord,easy place</td>\n",
              "      <td>Bang Na</td>\n",
              "      <td>Private room</td>\n",
              "      <td>1316</td>\n",
              "      <td>1</td>\n",
              "      <td>0</td>\n",
              "      <td>Yes</td>\n",
              "    </tr>\n",
              "    <tr>\n",
              "      <th>2</th>\n",
              "      <td>28745</td>\n",
              "      <td>modern-style apartment in Bangkok</td>\n",
              "      <td>Bang Kapi</td>\n",
              "      <td>Private room</td>\n",
              "      <td>800</td>\n",
              "      <td>60</td>\n",
              "      <td>0</td>\n",
              "      <td>No</td>\n",
              "    </tr>\n",
              "    <tr>\n",
              "      <th>3</th>\n",
              "      <td>35780</td>\n",
              "      <td>Spacious one bedroom at The Kris Condo Bldg. 3</td>\n",
              "      <td>Din Daeng</td>\n",
              "      <td>Private room</td>\n",
              "      <td>1286</td>\n",
              "      <td>7</td>\n",
              "      <td>2</td>\n",
              "      <td>Yes</td>\n",
              "    </tr>\n",
              "    <tr>\n",
              "      <th>4</th>\n",
              "      <td>941865</td>\n",
              "      <td>Suite Room 3 at MetroPoint</td>\n",
              "      <td>Bang Kapi</td>\n",
              "      <td>Private room</td>\n",
              "      <td>1905</td>\n",
              "      <td>1</td>\n",
              "      <td>0</td>\n",
              "      <td>No</td>\n",
              "    </tr>\n",
              "  </tbody>\n",
              "</table>\n",
              "</div>"
            ],
            "text/plain": [
              "   listing_id                                    listing_name neighbourhood  \\\n",
              "0  27934       Nice room with superb city view                 Ratchathewi    \n",
              "1  27979       Easy going landlord,easy place                  Bang Na        \n",
              "2  28745       modern-style apartment in Bangkok               Bang Kapi      \n",
              "3  35780       Spacious one bedroom at The Kris Condo Bldg. 3  Din Daeng      \n",
              "4  941865      Suite Room 3 at MetroPoint                      Bang Kapi      \n",
              "\n",
              "         room_type  price  minimum_nights  number_of_reviews availability_365  \n",
              "0  Entire home/apt  1905   3               65                 Yes              \n",
              "1  Private room     1316   1               0                  Yes              \n",
              "2  Private room     800    60              0                  No               \n",
              "3  Private room     1286   7               2                  Yes              \n",
              "4  Private room     1905   1               0                  No               "
            ]
          },
          "execution_count": 6259,
          "metadata": {},
          "output_type": "execute_result"
        }
      ],
      "source": [
        "df.head()"
      ]
    },
    {
      "cell_type": "code",
      "execution_count": 6260,
      "metadata": {},
      "outputs": [
        {
          "data": {
            "text/plain": [
              "listing_id           0\n",
              "listing_name         0\n",
              "neighbourhood        0\n",
              "room_type            0\n",
              "price                0\n",
              "minimum_nights       0\n",
              "number_of_reviews    0\n",
              "availability_365     0\n",
              "dtype: int64"
            ]
          },
          "execution_count": 6260,
          "metadata": {},
          "output_type": "execute_result"
        }
      ],
      "source": [
        "df.isna().sum()"
      ]
    },
    {
      "cell_type": "code",
      "execution_count": 6261,
      "metadata": {},
      "outputs": [
        {
          "name": "stdout",
          "output_type": "stream",
          "text": [
            "(15854, 8)\n"
          ]
        },
        {
          "data": {
            "text/html": [
              "<div>\n",
              "<style scoped>\n",
              "    .dataframe tbody tr th:only-of-type {\n",
              "        vertical-align: middle;\n",
              "    }\n",
              "\n",
              "    .dataframe tbody tr th {\n",
              "        vertical-align: top;\n",
              "    }\n",
              "\n",
              "    .dataframe thead th {\n",
              "        text-align: right;\n",
              "    }\n",
              "</style>\n",
              "<table border=\"1\" class=\"dataframe\">\n",
              "  <thead>\n",
              "    <tr style=\"text-align: right;\">\n",
              "      <th></th>\n",
              "      <th>dataFeatures</th>\n",
              "      <th>dataType</th>\n",
              "      <th>null</th>\n",
              "      <th>unique</th>\n",
              "      <th>uniqueSample</th>\n",
              "    </tr>\n",
              "  </thead>\n",
              "  <tbody>\n",
              "    <tr>\n",
              "      <th>0</th>\n",
              "      <td>listing_id</td>\n",
              "      <td>int64</td>\n",
              "      <td>0</td>\n",
              "      <td>15854</td>\n",
              "      <td>[35722523, 10133553]</td>\n",
              "    </tr>\n",
              "    <tr>\n",
              "      <th>1</th>\n",
              "      <td>listing_name</td>\n",
              "      <td>object</td>\n",
              "      <td>0</td>\n",
              "      <td>14795</td>\n",
              "      <td>[- Hyde Sukhumvit 11 - High Floor Super View - NANA, belle两房豪华公寓]</td>\n",
              "    </tr>\n",
              "    <tr>\n",
              "      <th>2</th>\n",
              "      <td>neighbourhood</td>\n",
              "      <td>object</td>\n",
              "      <td>0</td>\n",
              "      <td>50</td>\n",
              "      <td>[Phra Khanong, Pom Prap Sattru Phai]</td>\n",
              "    </tr>\n",
              "    <tr>\n",
              "      <th>3</th>\n",
              "      <td>room_type</td>\n",
              "      <td>object</td>\n",
              "      <td>0</td>\n",
              "      <td>4</td>\n",
              "      <td>[Shared room, Hotel room]</td>\n",
              "    </tr>\n",
              "    <tr>\n",
              "      <th>4</th>\n",
              "      <td>price</td>\n",
              "      <td>int64</td>\n",
              "      <td>0</td>\n",
              "      <td>3039</td>\n",
              "      <td>[4997, 3189]</td>\n",
              "    </tr>\n",
              "    <tr>\n",
              "      <th>5</th>\n",
              "      <td>minimum_nights</td>\n",
              "      <td>int64</td>\n",
              "      <td>0</td>\n",
              "      <td>86</td>\n",
              "      <td>[3, 150]</td>\n",
              "    </tr>\n",
              "    <tr>\n",
              "      <th>6</th>\n",
              "      <td>number_of_reviews</td>\n",
              "      <td>int64</td>\n",
              "      <td>0</td>\n",
              "      <td>298</td>\n",
              "      <td>[277, 17]</td>\n",
              "    </tr>\n",
              "    <tr>\n",
              "      <th>7</th>\n",
              "      <td>availability_365</td>\n",
              "      <td>object</td>\n",
              "      <td>0</td>\n",
              "      <td>2</td>\n",
              "      <td>[No, Yes]</td>\n",
              "    </tr>\n",
              "  </tbody>\n",
              "</table>\n",
              "</div>"
            ],
            "text/plain": [
              "        dataFeatures dataType  null  unique  \\\n",
              "0  listing_id         int64    0     15854    \n",
              "1  listing_name       object   0     14795    \n",
              "2  neighbourhood      object   0     50       \n",
              "3  room_type          object   0     4        \n",
              "4  price              int64    0     3039     \n",
              "5  minimum_nights     int64    0     86       \n",
              "6  number_of_reviews  int64    0     298      \n",
              "7  availability_365   object   0     2        \n",
              "\n",
              "                                                        uniqueSample  \n",
              "0  [35722523, 10133553]                                               \n",
              "1  [- Hyde Sukhumvit 11 - High Floor Super View - NANA, belle两房豪华公寓]  \n",
              "2  [Phra Khanong, Pom Prap Sattru Phai]                               \n",
              "3  [Shared room, Hotel room]                                          \n",
              "4  [4997, 3189]                                                       \n",
              "5  [3, 150]                                                           \n",
              "6  [277, 17]                                                          \n",
              "7  [No, Yes]                                                          "
            ]
          },
          "execution_count": 6261,
          "metadata": {},
          "output_type": "execute_result"
        }
      ],
      "source": [
        "listItem = []\n",
        "for col in df.columns :\n",
        "    listItem.append([col, df[col].dtype, df[col].isna().sum(),\n",
        "                    df[col].nunique(), list(df[col].drop_duplicates().sample(2).values)]);\n",
        "\n",
        "dfDesc = pd.DataFrame(columns=['dataFeatures', 'dataType', 'null', 'unique', 'uniqueSample'],\n",
        "                     data=listItem)\n",
        "print(df.shape)\n",
        "dfDesc"
      ]
    },
    {
      "cell_type": "markdown",
      "metadata": {
        "id": "W0gDcXQRElYG"
      },
      "source": [
        "## Data Analisis\n",
        "Setelah melakukan tahap _data cleaning_. Sekarang, analis dapat melakukan analisis untuk mencari tahu **Mengidentifikasi karakteristik customer yang menyewa penginapan di Bangkok**\n",
        "\n",
        "Analisis akan dimulai dengan membandingkan data berdasarkan variabel-variabel yang tersedia. "
      ]
    },
    {
      "cell_type": "markdown",
      "metadata": {
        "id": "Q5lVgj4xUWIU"
      },
      "source": [
        "## Analisa By `Neighbourhood`,`room_type`,`minimum_nights`,dan `price`  \n",
        "\n",
        "Pertama, mari melihat bagaimana pengaruh letak atau lokasi para customer. Kita akan menganalisis kolom  `neighbourhood`,`room_type`,`minimum_nights` dan `price` untuk menjawab beberapa pertanyaan. seperti :\n",
        "1. Bagaimana distribusi harga per unit penginapan di setiap wilayah?\n",
        "2. Dimana penginapan dengan jumlah minimun night tertinggi?\n",
        "3. \n",
        "4.\n"
      ]
    },
    {
      "cell_type": "code",
      "execution_count": 6262,
      "metadata": {
        "colab": {
          "base_uri": "https://localhost:8080/",
          "height": 363
        },
        "id": "10PIWsaQTVhT",
        "outputId": "78722426-8ea3-465a-ff6d-9a693c83ce73"
      },
      "outputs": [
        {
          "data": {
            "text/html": [
              "<div>\n",
              "<style scoped>\n",
              "    .dataframe tbody tr th:only-of-type {\n",
              "        vertical-align: middle;\n",
              "    }\n",
              "\n",
              "    .dataframe tbody tr th {\n",
              "        vertical-align: top;\n",
              "    }\n",
              "\n",
              "    .dataframe thead th {\n",
              "        text-align: right;\n",
              "    }\n",
              "</style>\n",
              "<table border=\"1\" class=\"dataframe\">\n",
              "  <thead>\n",
              "    <tr style=\"text-align: right;\">\n",
              "      <th></th>\n",
              "      <th>neighbourhood</th>\n",
              "      <th>room_type</th>\n",
              "      <th>price</th>\n",
              "      <th>minimum_nights</th>\n",
              "    </tr>\n",
              "  </thead>\n",
              "  <tbody>\n",
              "    <tr>\n",
              "      <th>12868</th>\n",
              "      <td>Vadhana</td>\n",
              "      <td>Entire home/apt</td>\n",
              "      <td>1100000</td>\n",
              "      <td>14</td>\n",
              "    </tr>\n",
              "    <tr>\n",
              "      <th>12300</th>\n",
              "      <td>Vadhana</td>\n",
              "      <td>Entire home/apt</td>\n",
              "      <td>1014758</td>\n",
              "      <td>30</td>\n",
              "    </tr>\n",
              "    <tr>\n",
              "      <th>1239</th>\n",
              "      <td>Huai Khwang</td>\n",
              "      <td>Entire home/apt</td>\n",
              "      <td>1000000</td>\n",
              "      <td>100</td>\n",
              "    </tr>\n",
              "    <tr>\n",
              "      <th>9345</th>\n",
              "      <td>Khlong Toei</td>\n",
              "      <td>Entire home/apt</td>\n",
              "      <td>1000000</td>\n",
              "      <td>25</td>\n",
              "    </tr>\n",
              "    <tr>\n",
              "      <th>6289</th>\n",
              "      <td>Khlong Toei</td>\n",
              "      <td>Entire home/apt</td>\n",
              "      <td>1000000</td>\n",
              "      <td>2</td>\n",
              "    </tr>\n",
              "    <tr>\n",
              "      <th>1779</th>\n",
              "      <td>Huai Khwang</td>\n",
              "      <td>Entire home/apt</td>\n",
              "      <td>1000000</td>\n",
              "      <td>100</td>\n",
              "    </tr>\n",
              "    <tr>\n",
              "      <th>4620</th>\n",
              "      <td>Huai Khwang</td>\n",
              "      <td>Entire home/apt</td>\n",
              "      <td>1000000</td>\n",
              "      <td>1</td>\n",
              "    </tr>\n",
              "    <tr>\n",
              "      <th>15200</th>\n",
              "      <td>Khlong San</td>\n",
              "      <td>Entire home/apt</td>\n",
              "      <td>710760</td>\n",
              "      <td>12</td>\n",
              "    </tr>\n",
              "    <tr>\n",
              "      <th>4373</th>\n",
              "      <td>Bang Phlat</td>\n",
              "      <td>Private room</td>\n",
              "      <td>600700</td>\n",
              "      <td>1</td>\n",
              "    </tr>\n",
              "    <tr>\n",
              "      <th>11885</th>\n",
              "      <td>Bang Kapi</td>\n",
              "      <td>Private room</td>\n",
              "      <td>429443</td>\n",
              "      <td>1</td>\n",
              "    </tr>\n",
              "  </tbody>\n",
              "</table>\n",
              "</div>"
            ],
            "text/plain": [
              "      neighbourhood        room_type    price  minimum_nights\n",
              "12868  Vadhana       Entire home/apt  1100000  14            \n",
              "12300  Vadhana       Entire home/apt  1014758  30            \n",
              "1239   Huai Khwang   Entire home/apt  1000000  100           \n",
              "9345   Khlong Toei   Entire home/apt  1000000  25            \n",
              "6289   Khlong Toei   Entire home/apt  1000000  2             \n",
              "1779   Huai Khwang   Entire home/apt  1000000  100           \n",
              "4620   Huai Khwang   Entire home/apt  1000000  1             \n",
              "15200  Khlong San    Entire home/apt  710760   12            \n",
              "4373   Bang Phlat    Private room     600700   1             \n",
              "11885  Bang Kapi     Private room     429443   1             "
            ]
          },
          "execution_count": 6262,
          "metadata": {},
          "output_type": "execute_result"
        }
      ],
      "source": [
        "# 10 wilayah berdasarkan price dan minimum_night paling banyak beserta tipe kamar\n",
        "dfa = df[['neighbourhood','room_type', 'price', 'minimum_nights']]\n",
        "dfa.sort_values('price',ascending=False).head(10)"
      ]
    },
    {
      "cell_type": "markdown",
      "metadata": {},
      "source": [
        "### Berdasarkan `Neighbourhood`"
      ]
    },
    {
      "cell_type": "code",
      "execution_count": 6263,
      "metadata": {
        "colab": {
          "base_uri": "https://localhost:8080/",
          "height": 772
        },
        "id": "eFj5lr-9wH5b",
        "outputId": "8d7469c3-e539-4f2b-93fe-921ae3abeef2"
      },
      "outputs": [
        {
          "data": {
            "image/png": "[encoded data removed]",
            "text/plain": [
              "<Figure size 1000x600 with 1 Axes>"
            ]
          },
          "metadata": {},
          "output_type": "display_data"
        }
      ],
      "source": [
        "# Data Visualization\n",
        "plt.figure(figsize=(10, 6))\n",
        "dfa_nb = dfa.nlargest(10, 'price')\n",
        "sns.barplot(data = dfa_nb, x = 'neighbourhood', y = 'price',palette='rocket',ci=0)\n",
        "plt.title(\"Neighbourhood dengan harga permalam tertinggi\")\n",
        "plt.xlabel(\"neighbourhood\")\n",
        "plt.ylabel(\"price\")\n",
        "y_min = 0\n",
        "y_max = 1200000\n",
        "plt.ylim(y_min, y_max)\n",
        "plt.show()"
      ]
    },
    {
      "cell_type": "markdown",
      "metadata": {},
      "source": [
        "### Berdasarkan `minumum_nights`"
      ]
    },
    {
      "cell_type": "code",
      "execution_count": 6264,
      "metadata": {},
      "outputs": [
        {
          "data": {
            "text/html": [
              "<div>\n",
              "<style scoped>\n",
              "    .dataframe tbody tr th:only-of-type {\n",
              "        vertical-align: middle;\n",
              "    }\n",
              "\n",
              "    .dataframe tbody tr th {\n",
              "        vertical-align: top;\n",
              "    }\n",
              "\n",
              "    .dataframe thead th {\n",
              "        text-align: right;\n",
              "    }\n",
              "</style>\n",
              "<table border=\"1\" class=\"dataframe\">\n",
              "  <thead>\n",
              "    <tr style=\"text-align: right;\">\n",
              "      <th></th>\n",
              "      <th>neighbourhood</th>\n",
              "      <th>room_type</th>\n",
              "      <th>price</th>\n",
              "      <th>minimum_nights</th>\n",
              "    </tr>\n",
              "  </thead>\n",
              "  <tbody>\n",
              "    <tr>\n",
              "      <th>61</th>\n",
              "      <td>Parthum Wan</td>\n",
              "      <td>Entire home/apt</td>\n",
              "      <td>2900</td>\n",
              "      <td>1125</td>\n",
              "    </tr>\n",
              "    <tr>\n",
              "      <th>7986</th>\n",
              "      <td>Bang Na</td>\n",
              "      <td>Entire home/apt</td>\n",
              "      <td>2000</td>\n",
              "      <td>1115</td>\n",
              "    </tr>\n",
              "    <tr>\n",
              "      <th>11524</th>\n",
              "      <td>Bang Sue</td>\n",
              "      <td>Entire home/apt</td>\n",
              "      <td>554</td>\n",
              "      <td>1095</td>\n",
              "    </tr>\n",
              "    <tr>\n",
              "      <th>10153</th>\n",
              "      <td>Sathon</td>\n",
              "      <td>Entire home/apt</td>\n",
              "      <td>650</td>\n",
              "      <td>1000</td>\n",
              "    </tr>\n",
              "    <tr>\n",
              "      <th>10644</th>\n",
              "      <td>Vadhana</td>\n",
              "      <td>Private room</td>\n",
              "      <td>15143</td>\n",
              "      <td>999</td>\n",
              "    </tr>\n",
              "    <tr>\n",
              "      <th>11243</th>\n",
              "      <td>Suanluang</td>\n",
              "      <td>Private room</td>\n",
              "      <td>1314</td>\n",
              "      <td>999</td>\n",
              "    </tr>\n",
              "    <tr>\n",
              "      <th>1200</th>\n",
              "      <td>Bang Na</td>\n",
              "      <td>Entire home/apt</td>\n",
              "      <td>35000</td>\n",
              "      <td>998</td>\n",
              "    </tr>\n",
              "    <tr>\n",
              "      <th>1592</th>\n",
              "      <td>Chatu Chak</td>\n",
              "      <td>Entire home/apt</td>\n",
              "      <td>760</td>\n",
              "      <td>700</td>\n",
              "    </tr>\n",
              "    <tr>\n",
              "      <th>1833</th>\n",
              "      <td>Suanluang</td>\n",
              "      <td>Entire home/apt</td>\n",
              "      <td>1300</td>\n",
              "      <td>500</td>\n",
              "    </tr>\n",
              "    <tr>\n",
              "      <th>3694</th>\n",
              "      <td>Vadhana</td>\n",
              "      <td>Entire home/apt</td>\n",
              "      <td>7286</td>\n",
              "      <td>500</td>\n",
              "    </tr>\n",
              "  </tbody>\n",
              "</table>\n",
              "</div>"
            ],
            "text/plain": [
              "      neighbourhood        room_type  price  minimum_nights\n",
              "61     Parthum Wan   Entire home/apt  2900   1125          \n",
              "7986   Bang Na       Entire home/apt  2000   1115          \n",
              "11524  Bang Sue      Entire home/apt  554    1095          \n",
              "10153  Sathon        Entire home/apt  650    1000          \n",
              "10644  Vadhana       Private room     15143  999           \n",
              "11243  Suanluang     Private room     1314   999           \n",
              "1200   Bang Na       Entire home/apt  35000  998           \n",
              "1592   Chatu Chak    Entire home/apt  760    700           \n",
              "1833   Suanluang     Entire home/apt  1300   500           \n",
              "3694   Vadhana       Entire home/apt  7286   500           "
            ]
          },
          "execution_count": 6264,
          "metadata": {},
          "output_type": "execute_result"
        }
      ],
      "source": [
        "dfa_mn"
      ]
    },
    {
      "cell_type": "code",
      "execution_count": 6265,
      "metadata": {
        "colab": {
          "base_uri": "https://localhost:8080/",
          "height": 769
        },
        "id": "ExRshkxCuYXY",
        "outputId": "968c15df-1a57-46f7-fd40-b6921e8ae2d4"
      },
      "outputs": [
        {
          "data": {
            "image/png": "[encoded data removed]",
            "text/plain": [
              "<Figure size 1000x600 with 1 Axes>"
            ]
          },
          "metadata": {},
          "output_type": "display_data"
        }
      ],
      "source": [
        "# Data Visualization\n",
        "plt.figure(figsize=(10, 6))\n",
        "dfa_mn = dfa.nlargest(10, 'minimum_nights')\n",
        "sns.barplot(data = dfa_mn, x = 'neighbourhood', y = 'minimum_nights',palette='rocket', ci = 0)\n",
        "plt.title(\" neigbourhood dengan jumlah minimum nights tertinggi\")\n",
        "plt.xlabel(\"neighbourhood\")\n",
        "plt.ylabel(\"minimum nights\")\n",
        "plt.show()"
      ]
    },
    {
      "cell_type": "markdown",
      "metadata": {},
      "source": [
        "### Berdasarkan `room_type`"
      ]
    },
    {
      "cell_type": "code",
      "execution_count": 6266,
      "metadata": {},
      "outputs": [
        {
          "data": {
            "text/html": [
              "<div>\n",
              "<style scoped>\n",
              "    .dataframe tbody tr th:only-of-type {\n",
              "        vertical-align: middle;\n",
              "    }\n",
              "\n",
              "    .dataframe tbody tr th {\n",
              "        vertical-align: top;\n",
              "    }\n",
              "\n",
              "    .dataframe thead th {\n",
              "        text-align: right;\n",
              "    }\n",
              "</style>\n",
              "<table border=\"1\" class=\"dataframe\">\n",
              "  <thead>\n",
              "    <tr style=\"text-align: right;\">\n",
              "      <th></th>\n",
              "      <th>neighbourhood</th>\n",
              "      <th>room_type</th>\n",
              "      <th>price</th>\n",
              "      <th>minimum_nights</th>\n",
              "    </tr>\n",
              "  </thead>\n",
              "  <tbody>\n",
              "    <tr>\n",
              "      <th>12868</th>\n",
              "      <td>Vadhana</td>\n",
              "      <td>Entire home/apt</td>\n",
              "      <td>1100000</td>\n",
              "      <td>14</td>\n",
              "    </tr>\n",
              "    <tr>\n",
              "      <th>12300</th>\n",
              "      <td>Vadhana</td>\n",
              "      <td>Entire home/apt</td>\n",
              "      <td>1014758</td>\n",
              "      <td>30</td>\n",
              "    </tr>\n",
              "    <tr>\n",
              "      <th>1239</th>\n",
              "      <td>Huai Khwang</td>\n",
              "      <td>Entire home/apt</td>\n",
              "      <td>1000000</td>\n",
              "      <td>100</td>\n",
              "    </tr>\n",
              "    <tr>\n",
              "      <th>9345</th>\n",
              "      <td>Khlong Toei</td>\n",
              "      <td>Entire home/apt</td>\n",
              "      <td>1000000</td>\n",
              "      <td>25</td>\n",
              "    </tr>\n",
              "    <tr>\n",
              "      <th>6289</th>\n",
              "      <td>Khlong Toei</td>\n",
              "      <td>Entire home/apt</td>\n",
              "      <td>1000000</td>\n",
              "      <td>2</td>\n",
              "    </tr>\n",
              "    <tr>\n",
              "      <th>1779</th>\n",
              "      <td>Huai Khwang</td>\n",
              "      <td>Entire home/apt</td>\n",
              "      <td>1000000</td>\n",
              "      <td>100</td>\n",
              "    </tr>\n",
              "    <tr>\n",
              "      <th>4620</th>\n",
              "      <td>Huai Khwang</td>\n",
              "      <td>Entire home/apt</td>\n",
              "      <td>1000000</td>\n",
              "      <td>1</td>\n",
              "    </tr>\n",
              "    <tr>\n",
              "      <th>15200</th>\n",
              "      <td>Khlong San</td>\n",
              "      <td>Entire home/apt</td>\n",
              "      <td>710760</td>\n",
              "      <td>12</td>\n",
              "    </tr>\n",
              "    <tr>\n",
              "      <th>4373</th>\n",
              "      <td>Bang Phlat</td>\n",
              "      <td>Private room</td>\n",
              "      <td>600700</td>\n",
              "      <td>1</td>\n",
              "    </tr>\n",
              "    <tr>\n",
              "      <th>11885</th>\n",
              "      <td>Bang Kapi</td>\n",
              "      <td>Private room</td>\n",
              "      <td>429443</td>\n",
              "      <td>1</td>\n",
              "    </tr>\n",
              "  </tbody>\n",
              "</table>\n",
              "</div>"
            ],
            "text/plain": [
              "      neighbourhood        room_type    price  minimum_nights\n",
              "12868  Vadhana       Entire home/apt  1100000  14            \n",
              "12300  Vadhana       Entire home/apt  1014758  30            \n",
              "1239   Huai Khwang   Entire home/apt  1000000  100           \n",
              "9345   Khlong Toei   Entire home/apt  1000000  25            \n",
              "6289   Khlong Toei   Entire home/apt  1000000  2             \n",
              "1779   Huai Khwang   Entire home/apt  1000000  100           \n",
              "4620   Huai Khwang   Entire home/apt  1000000  1             \n",
              "15200  Khlong San    Entire home/apt  710760   12            \n",
              "4373   Bang Phlat    Private room     600700   1             \n",
              "11885  Bang Kapi     Private room     429443   1             "
            ]
          },
          "execution_count": 6266,
          "metadata": {},
          "output_type": "execute_result"
        }
      ],
      "source": [
        "dfa.sort_values('price',ascending=False).head(10)"
      ]
    },
    {
      "cell_type": "code",
      "execution_count": 6267,
      "metadata": {},
      "outputs": [
        {
          "data": {
            "text/html": [
              "<div>\n",
              "<style scoped>\n",
              "    .dataframe tbody tr th:only-of-type {\n",
              "        vertical-align: middle;\n",
              "    }\n",
              "\n",
              "    .dataframe tbody tr th {\n",
              "        vertical-align: top;\n",
              "    }\n",
              "\n",
              "    .dataframe thead th {\n",
              "        text-align: right;\n",
              "    }\n",
              "</style>\n",
              "<table border=\"1\" class=\"dataframe\">\n",
              "  <thead>\n",
              "    <tr style=\"text-align: right;\">\n",
              "      <th></th>\n",
              "      <th>room_type</th>\n",
              "      <th>med_price</th>\n",
              "    </tr>\n",
              "  </thead>\n",
              "  <tbody>\n",
              "    <tr>\n",
              "      <th>0</th>\n",
              "      <td>Entire home/apt</td>\n",
              "      <td>1536.0</td>\n",
              "    </tr>\n",
              "    <tr>\n",
              "      <th>1</th>\n",
              "      <td>Hotel room</td>\n",
              "      <td>1700.0</td>\n",
              "    </tr>\n",
              "    <tr>\n",
              "      <th>2</th>\n",
              "      <td>Private room</td>\n",
              "      <td>1212.0</td>\n",
              "    </tr>\n",
              "    <tr>\n",
              "      <th>3</th>\n",
              "      <td>Shared room</td>\n",
              "      <td>500.0</td>\n",
              "    </tr>\n",
              "  </tbody>\n",
              "</table>\n",
              "</div>"
            ],
            "text/plain": [
              "         room_type  med_price\n",
              "0  Entire home/apt  1536.0   \n",
              "1  Hotel room       1700.0   \n",
              "2  Private room     1212.0   \n",
              "3  Shared room      500.0    "
            ]
          },
          "execution_count": 6267,
          "metadata": {},
          "output_type": "execute_result"
        }
      ],
      "source": [
        "room_type_med_price = df.groupby('room_type')['price'].median().reset_index().rename(columns={'price':'med_price'})\n",
        "room_type_med_price"
      ]
    },
    {
      "cell_type": "code",
      "execution_count": 6268,
      "metadata": {
        "colab": {
          "base_uri": "https://localhost:8080/",
          "height": 421
        },
        "id": "Trd2GwIos4cC",
        "outputId": "4766e0a1-ea9d-4f18-dfec-203f703e8758"
      },
      "outputs": [
        {
          "data": {
            "image/png": "[encoded data removed]",
            "text/plain": [
              "<Figure size 640x480 with 1 Axes>"
            ]
          },
          "metadata": {},
          "output_type": "display_data"
        }
      ],
      "source": [
        "# Data Visualization\n",
        "sns.barplot(data=room_type_med_price, x = 'room_type', y = 'med_price',ci=0,palette='rocket')\n",
        "plt.title(\"Rata-rata harga per malam tertinggi dari setiap tipe kamar\")\n",
        "plt.xlabel(\"room type\")\n",
        "plt.ylabel(\"price\")\n",
        "plt.show()"
      ]
    },
    {
      "cell_type": "markdown",
      "metadata": {
        "id": "g3zkW-JzISDO"
      },
      "source": [
        "Hotel room memiliki median harga yang paling tinggi. Hal ini dapat disebabkan oleh faktor-faktor seperti fasilitas dan layanan yang disediakan oleh hote yang beragam, lokasi yang strategis, atau reputasi hotel yang terkenal di daerah tersebut.\n",
        "\n",
        "Entire home/apartment memiliki median harga yang lebih tinggi daripada private room. Tipe ruangan ini menawarkan pengguna Airbnb keseluruhan rumah atau apartemen untuk digunakan secara eksklusif. Median harga untuk entire home/apartment cenderung lebih tinggi daripada private room, karena pengguna mendapatkan privasi dan ruang yang lebih besar.\n",
        "\n",
        "Tipe ruangan private room menawarkan pengguna Airbnb kamar pribadi dalam rumah atau apartemen yang ditempati oleh host atau penghuni lain. Median harga untuk private room cenderung lebih rendah daripada entire home/apartment, karena pengguna harus berbagi fasilitas dengan host atau penghuni lainnya.\n",
        "\n",
        "Tipe ruangan share room menawarkan pengguna Airbnb tempat tidur bersama dengan pengguna lain dalam kamar yang sama. Median harga untuk share room adalah yang terendah di antara jenis kamar lainnya, karena pengguna harus berbagi kamar dengan orang lain."
      ]
    },
    {
      "cell_type": "markdown",
      "metadata": {},
      "source": [
        "Hipotesa : \n",
        "- Ho : Data kolom dari `minimum_nights` dan `price` terdistribusi normal\n",
        "- Ha : Data kolom dari `minimum_nights` dan `price` terdistribusi tidak normal"
      ]
    },
    {
      "cell_type": "code",
      "execution_count": 6269,
      "metadata": {
        "colab": {
          "base_uri": "https://localhost:8080/"
        },
        "id": "bRi8IXJjIRTJ",
        "outputId": "928e38a6-c1d8-4488-d030-bc9413fcbaec"
      },
      "outputs": [
        {
          "name": "stdout",
          "output_type": "stream",
          "text": [
            "tidak normal\n"
          ]
        }
      ],
      "source": [
        "from scipy.stats import normaltest\n",
        "stats, pval=normaltest(dfa['price'])\n",
        "if pval<=0.05:\n",
        "    print('tidak normal') #Ha\n",
        "else:\n",
        "    print('distribusi normal') #Ho"
      ]
    },
    {
      "cell_type": "code",
      "execution_count": 6270,
      "metadata": {
        "colab": {
          "base_uri": "https://localhost:8080/",
          "height": 490
        },
        "id": "AKzX_71Ja64C",
        "outputId": "ca390874-4d8e-4942-bd60-82b58a588232"
      },
      "outputs": [
        {
          "data": {
            "text/plain": [
              "<Figure size 800x600 with 0 Axes>"
            ]
          },
          "metadata": {},
          "output_type": "display_data"
        },
        {
          "data": {
            "image/png": "[encoded data removed]",
            "text/plain": [
              "<Figure size 640x480 with 1 Axes>"
            ]
          },
          "metadata": {},
          "output_type": "display_data"
        }
      ],
      "source": [
        "import statsmodels.api as sm\n",
        "# Membuat Q-Q plot berdasarkan Price\n",
        "plt.figure(figsize=(8, 6))\n",
        "sm.qqplot(dfa['price'], line='s')\n",
        "plt.xlabel('Theoretical Quantiles')\n",
        "plt.ylabel('Sample Quantiles')\n",
        "plt.title('Q-Q Plot: price')\n",
        "plt.grid(True)\n",
        "plt.show()"
      ]
    },
    {
      "cell_type": "code",
      "execution_count": 6271,
      "metadata": {
        "colab": {
          "base_uri": "https://localhost:8080/"
        },
        "id": "b-QFhERZJx6V",
        "outputId": "1de6138a-6252-42e0-de6f-b67fb1b6654e"
      },
      "outputs": [
        {
          "name": "stdout",
          "output_type": "stream",
          "text": [
            "tidak normal\n"
          ]
        }
      ],
      "source": [
        "from scipy.stats import normaltest\n",
        "stats, pval=normaltest(dfa['minimum_nights'])\n",
        "if pval<=0.05:\n",
        "    print('tidak normal') #Ha\n",
        "else:\n",
        "    print('distribusi normal') #Ho"
      ]
    },
    {
      "cell_type": "code",
      "execution_count": 6272,
      "metadata": {
        "colab": {
          "base_uri": "https://localhost:8080/",
          "height": 490
        },
        "id": "giNiNnVab90_",
        "outputId": "3b5ca1d1-f342-484b-9589-fc19e62d0624"
      },
      "outputs": [
        {
          "data": {
            "text/plain": [
              "<Figure size 800x600 with 0 Axes>"
            ]
          },
          "metadata": {},
          "output_type": "display_data"
        },
        {
          "data": {
            "image/png": "[encoded data removed]",
            "text/plain": [
              "<Figure size 640x480 with 1 Axes>"
            ]
          },
          "metadata": {},
          "output_type": "display_data"
        }
      ],
      "source": [
        "# Membuat Q-Q Plot: minimum_nights\n",
        "plt.figure(figsize=(8, 6))\n",
        "sm.qqplot(dfa['minimum_nights'], line='s')\n",
        "plt.xlabel('Theoretical Quantiles')\n",
        "plt.ylabel('Sample Quantiles')\n",
        "plt.title('Q-Q Plot: minimum_nights')\n",
        "plt.grid(True)\n",
        "plt.show()"
      ]
    },
    {
      "cell_type": "markdown",
      "metadata": {
        "id": "Cfo5u8nBKe8I"
      },
      "source": [
        "## Berdasarkan `name`  \n",
        "\n",
        "kedua, saya melihat bagaimana pengaruh nama penginapan dengan harga maupun review per bulan. Kita akan menganalisis kolom `name`, `price`,`reviews_per_month` untuk menjawab beberapa pertanyaan. untuk visualisasi yang lengkap, saya menggunakan tableau dengan link:"
      ]
    },
    {
      "cell_type": "code",
      "execution_count": null,
      "metadata": {},
      "outputs": [],
      "source": []
    },
    {
      "cell_type": "code",
      "execution_count": 6273,
      "metadata": {
        "colab": {
          "base_uri": "https://localhost:8080/",
          "height": 206
        },
        "id": "GscdgG7xKeHg",
        "outputId": "138f7047-61da-48ec-86bd-7728d3db716c"
      },
      "outputs": [
        {
          "data": {
            "text/html": [
              "<div>\n",
              "<style scoped>\n",
              "    .dataframe tbody tr th:only-of-type {\n",
              "        vertical-align: middle;\n",
              "    }\n",
              "\n",
              "    .dataframe tbody tr th {\n",
              "        vertical-align: top;\n",
              "    }\n",
              "\n",
              "    .dataframe thead th {\n",
              "        text-align: right;\n",
              "    }\n",
              "</style>\n",
              "<table border=\"1\" class=\"dataframe\">\n",
              "  <thead>\n",
              "    <tr style=\"text-align: right;\">\n",
              "      <th></th>\n",
              "      <th>listing_name</th>\n",
              "      <th>price</th>\n",
              "    </tr>\n",
              "  </thead>\n",
              "  <tbody>\n",
              "    <tr>\n",
              "      <th>0</th>\n",
              "      <td>Nice room with superb city view</td>\n",
              "      <td>1905</td>\n",
              "    </tr>\n",
              "    <tr>\n",
              "      <th>1</th>\n",
              "      <td>Easy going landlord,easy place</td>\n",
              "      <td>1316</td>\n",
              "    </tr>\n",
              "    <tr>\n",
              "      <th>2</th>\n",
              "      <td>modern-style apartment in Bangkok</td>\n",
              "      <td>800</td>\n",
              "    </tr>\n",
              "    <tr>\n",
              "      <th>3</th>\n",
              "      <td>Spacious one bedroom at The Kris Condo Bldg. 3</td>\n",
              "      <td>1286</td>\n",
              "    </tr>\n",
              "    <tr>\n",
              "      <th>4</th>\n",
              "      <td>Suite Room 3 at MetroPoint</td>\n",
              "      <td>1905</td>\n",
              "    </tr>\n",
              "  </tbody>\n",
              "</table>\n",
              "</div>"
            ],
            "text/plain": [
              "                                     listing_name  price\n",
              "0  Nice room with superb city view                 1905 \n",
              "1  Easy going landlord,easy place                  1316 \n",
              "2  modern-style apartment in Bangkok               800  \n",
              "3  Spacious one bedroom at The Kris Condo Bldg. 3  1286 \n",
              "4  Suite Room 3 at MetroPoint                      1905 "
            ]
          },
          "execution_count": 6273,
          "metadata": {},
          "output_type": "execute_result"
        }
      ],
      "source": [
        "dfb = df[['listing_name', 'price']]\n",
        "dfb.head()"
      ]
    },
    {
      "cell_type": "code",
      "execution_count": 6274,
      "metadata": {
        "colab": {
          "base_uri": "https://localhost:8080/",
          "height": 410
        },
        "id": "3mZ71bRbNRBq",
        "outputId": "53213795-2620-4234-c0c2-9ae03867a9d8"
      },
      "outputs": [
        {
          "data": {
            "image/png": "[encoded data removed]",
            "text/plain": [
              "<Figure size 640x480 with 1 Axes>"
            ]
          },
          "metadata": {},
          "output_type": "display_data"
        }
      ],
      "source": [
        "# Data Visualization\n",
        "dfb_sort1 = dfb.nlargest(5, 'price')\n",
        "sns.barplot(data = dfb_sort1, x = 'price', y = 'listing_name',palette='rocket')\n",
        "plt.title(\"Jumlah Harga tiap nama penginapan\")\n",
        "plt.xlabel(\"Price\")\n",
        "plt.ylabel(\"Listing_name\")\n",
        "plt.show()"
      ]
    },
    {
      "cell_type": "markdown",
      "metadata": {
        "id": "n-Ap0TUCR9sP"
      },
      "source": [
        "##Berdasarkan `availability`  \n",
        "\n",
        "ketiga, saya melihat bagaimana pengaruh `availability` dengan `number_of_reviews`. Analis akan menganalisis dengan menampilkan pie chart dengan asumsi number of review adalah jumlah costumer yang menginap dan memberi penilaian. untuk visualisasi yang lengkap, analis menggunakan tableau dengan link: https://public.tableau.com/views/Capstone2_16984222628860/Dashboard1?:language=en-US&publish=yes&:display_count=n&:origin=viz_share_link"
      ]
    },
    {
      "cell_type": "code",
      "execution_count": 6275,
      "metadata": {
        "colab": {
          "base_uri": "https://localhost:8080/",
          "height": 206
        },
        "id": "uBmmu4ygcvP_",
        "outputId": "6a56a4e5-5e16-4b6c-d504-4a905967bc16"
      },
      "outputs": [
        {
          "data": {
            "text/html": [
              "<div>\n",
              "<style scoped>\n",
              "    .dataframe tbody tr th:only-of-type {\n",
              "        vertical-align: middle;\n",
              "    }\n",
              "\n",
              "    .dataframe tbody tr th {\n",
              "        vertical-align: top;\n",
              "    }\n",
              "\n",
              "    .dataframe thead th {\n",
              "        text-align: right;\n",
              "    }\n",
              "</style>\n",
              "<table border=\"1\" class=\"dataframe\">\n",
              "  <thead>\n",
              "    <tr style=\"text-align: right;\">\n",
              "      <th></th>\n",
              "      <th>room_type</th>\n",
              "      <th>price</th>\n",
              "      <th>number_of_reviews</th>\n",
              "      <th>availability_365</th>\n",
              "    </tr>\n",
              "  </thead>\n",
              "  <tbody>\n",
              "    <tr>\n",
              "      <th>0</th>\n",
              "      <td>Entire home/apt</td>\n",
              "      <td>1905</td>\n",
              "      <td>65</td>\n",
              "      <td>Yes</td>\n",
              "    </tr>\n",
              "    <tr>\n",
              "      <th>1</th>\n",
              "      <td>Private room</td>\n",
              "      <td>1316</td>\n",
              "      <td>0</td>\n",
              "      <td>Yes</td>\n",
              "    </tr>\n",
              "    <tr>\n",
              "      <th>2</th>\n",
              "      <td>Private room</td>\n",
              "      <td>800</td>\n",
              "      <td>0</td>\n",
              "      <td>No</td>\n",
              "    </tr>\n",
              "    <tr>\n",
              "      <th>3</th>\n",
              "      <td>Private room</td>\n",
              "      <td>1286</td>\n",
              "      <td>2</td>\n",
              "      <td>Yes</td>\n",
              "    </tr>\n",
              "    <tr>\n",
              "      <th>4</th>\n",
              "      <td>Private room</td>\n",
              "      <td>1905</td>\n",
              "      <td>0</td>\n",
              "      <td>No</td>\n",
              "    </tr>\n",
              "  </tbody>\n",
              "</table>\n",
              "</div>"
            ],
            "text/plain": [
              "         room_type  price  number_of_reviews availability_365\n",
              "0  Entire home/apt  1905   65                 Yes            \n",
              "1  Private room     1316   0                  Yes            \n",
              "2  Private room     800    0                  No             \n",
              "3  Private room     1286   2                  Yes            \n",
              "4  Private room     1905   0                  No             "
            ]
          },
          "execution_count": 6275,
          "metadata": {},
          "output_type": "execute_result"
        }
      ],
      "source": [
        "dfc = df[['room_type', 'price','number_of_reviews', 'availability_365']]\n",
        "dfc.head()"
      ]
    },
    {
      "cell_type": "code",
      "execution_count": 6276,
      "metadata": {
        "colab": {
          "base_uri": "https://localhost:8080/",
          "height": 675
        },
        "id": "Ra7GRxIDdrmR",
        "outputId": "a9b71bab-9867-4ac4-a192-389a7600bf1e"
      },
      "outputs": [
        {
          "data": {
            "image/png": "[encoded data removed]",
            "text/plain": [
              "<Figure size 800x800 with 1 Axes>"
            ]
          },
          "metadata": {},
          "output_type": "display_data"
        }
      ],
      "source": [
        "availability_count = dfc['availability_365'].value_counts()\n",
        "# Calculate the percentage of 'Yes' and 'No'\n",
        "total = availability_count.sum()\n",
        "percentage_yes = (availability_count['Yes'] / total) * 100\n",
        "percentage_no = (availability_count['No'] / total) * 100\n",
        "\n",
        "# Create the pie chart\n",
        "labels = ['Yes', 'No']\n",
        "percentages = [percentage_yes, percentage_no]\n",
        "plt.figure(figsize=(8, 8))\n",
        "plt.pie(percentages, labels=labels, autopct='%.2f%%')\n",
        "plt.title('Percentage of Availability (Yes/No)')\n",
        "plt.axis('equal')\n",
        "plt.show()"
      ]
    },
    {
      "cell_type": "code",
      "execution_count": 6277,
      "metadata": {
        "colab": {
          "base_uri": "https://localhost:8080/"
        },
        "id": "SS190rTiiOYg",
        "outputId": "27257170-6878-447b-a5f9-aa2bf7ca8f44"
      },
      "outputs": [
        {
          "name": "stdout",
          "output_type": "stream",
          "text": [
            "tidak normal\n"
          ]
        }
      ],
      "source": [
        "from scipy.stats import normaltest\n",
        "stats, pval=normaltest(dfc['number_of_reviews'])\n",
        "if pval<=0.05:\n",
        "    print('tidak normal') #Ha\n",
        "else:\n",
        "    print('distribusi normal') #Ho"
      ]
    },
    {
      "cell_type": "code",
      "execution_count": 6278,
      "metadata": {
        "colab": {
          "base_uri": "https://localhost:8080/",
          "height": 206
        },
        "id": "RH8fsV-8h5_X",
        "outputId": "d7d632dc-486a-4f91-eaa3-f046ad48e69e"
      },
      "outputs": [
        {
          "data": {
            "text/html": [
              "<div>\n",
              "<style scoped>\n",
              "    .dataframe tbody tr th:only-of-type {\n",
              "        vertical-align: middle;\n",
              "    }\n",
              "\n",
              "    .dataframe tbody tr th {\n",
              "        vertical-align: top;\n",
              "    }\n",
              "\n",
              "    .dataframe thead th {\n",
              "        text-align: right;\n",
              "    }\n",
              "</style>\n",
              "<table border=\"1\" class=\"dataframe\">\n",
              "  <thead>\n",
              "    <tr style=\"text-align: right;\">\n",
              "      <th></th>\n",
              "      <th>room_type</th>\n",
              "      <th>price</th>\n",
              "      <th>number_of_reviews</th>\n",
              "      <th>availability_365</th>\n",
              "      <th>availability</th>\n",
              "    </tr>\n",
              "  </thead>\n",
              "  <tbody>\n",
              "    <tr>\n",
              "      <th>0</th>\n",
              "      <td>Entire home/apt</td>\n",
              "      <td>1905</td>\n",
              "      <td>65</td>\n",
              "      <td>Yes</td>\n",
              "      <td>1</td>\n",
              "    </tr>\n",
              "    <tr>\n",
              "      <th>1</th>\n",
              "      <td>Private room</td>\n",
              "      <td>1316</td>\n",
              "      <td>0</td>\n",
              "      <td>Yes</td>\n",
              "      <td>1</td>\n",
              "    </tr>\n",
              "    <tr>\n",
              "      <th>2</th>\n",
              "      <td>Private room</td>\n",
              "      <td>800</td>\n",
              "      <td>0</td>\n",
              "      <td>No</td>\n",
              "      <td>0</td>\n",
              "    </tr>\n",
              "    <tr>\n",
              "      <th>3</th>\n",
              "      <td>Private room</td>\n",
              "      <td>1286</td>\n",
              "      <td>2</td>\n",
              "      <td>Yes</td>\n",
              "      <td>1</td>\n",
              "    </tr>\n",
              "    <tr>\n",
              "      <th>4</th>\n",
              "      <td>Private room</td>\n",
              "      <td>1905</td>\n",
              "      <td>0</td>\n",
              "      <td>No</td>\n",
              "      <td>0</td>\n",
              "    </tr>\n",
              "  </tbody>\n",
              "</table>\n",
              "</div>"
            ],
            "text/plain": [
              "         room_type  price  number_of_reviews availability_365  availability\n",
              "0  Entire home/apt  1905   65                 Yes              1           \n",
              "1  Private room     1316   0                  Yes              1           \n",
              "2  Private room     800    0                  No               0           \n",
              "3  Private room     1286   2                  Yes              1           \n",
              "4  Private room     1905   0                  No               0           "
            ]
          },
          "execution_count": 6278,
          "metadata": {},
          "output_type": "execute_result"
        }
      ],
      "source": [
        "dfc['availability'] = dfc['availability_365'].map({'Yes': 1, 'No': 0}).astype(int)\n",
        "dfc.head()"
      ]
    },
    {
      "cell_type": "code",
      "execution_count": 6279,
      "metadata": {
        "colab": {
          "base_uri": "https://localhost:8080/"
        },
        "id": "qo_Sx5y3l92k",
        "outputId": "bc573fc0-ffba-4faf-c27b-39ec6dc35df2"
      },
      "outputs": [
        {
          "name": "stdout",
          "output_type": "stream",
          "text": [
            "Gagal menolak Ho\n"
          ]
        }
      ],
      "source": [
        "from scipy.stats import mannwhitneyu\n",
        "stats,pval=mannwhitneyu(*[dfc[dfc['availability']==i]['number_of_reviews'] for i in dfc['availability'].unique()], alternative='less')\n",
        "if pval <= 0.05:\n",
        "    print('Tolak Ho')\n",
        "else:\n",
        "    print('Gagal menolak Ho')"
      ]
    },
    {
      "cell_type": "markdown",
      "metadata": {
        "id": "BLbSywYvtzO-"
      },
      "source": [
        "sesuai dengan data yang kita punya dan berdasarkan performa dari Mann-Whitney U test dan tidak punya cukup bukti untuk membuktikan bahwa ada perbedaan signifikan antara `availability_365` dan `number_of_reviews`."
      ]
    },
    {
      "cell_type": "code",
      "execution_count": 6280,
      "metadata": {
        "colab": {
          "base_uri": "https://localhost:8080/"
        },
        "id": "DoFc7JBxmfjt",
        "outputId": "e3b0531d-a498-4c74-8a72-d9ea307e7461"
      },
      "outputs": [
        {
          "name": "stdout",
          "output_type": "stream",
          "text": [
            "Tolak Ho\n"
          ]
        }
      ],
      "source": [
        "from scipy.stats import mannwhitneyu\n",
        "stats,pval=mannwhitneyu(*[dfc[dfc['availability']==i]['price'] for i in dfc['availability'].unique()], alternative='less')\n",
        "if pval <= 0.05:\n",
        "    print('Tolak Ho')\n",
        "else:\n",
        "    print('Gagal menolak Ho')"
      ]
    },
    {
      "cell_type": "markdown",
      "metadata": {
        "id": "Jhjn6OVqnhXm"
      },
      "source": [
        "sesuai dengan data yang kita punya dan berdasarkan performa dari Mann-Whitney U test, kita punya cukup bukti untuk membuktikan bahwa ada perbedaan signifikan antara `availability_365` dan `price`.\n",
        "\n"
      ]
    },
    {
      "cell_type": "code",
      "execution_count": 6281,
      "metadata": {
        "colab": {
          "base_uri": "https://localhost:8080/",
          "height": 472
        },
        "id": "Xyt3knKs0_T9",
        "outputId": "708191d5-f245-42f6-c92a-eb600d585908"
      },
      "outputs": [
        {
          "data": {
            "image/png": "[encoded data removed]",
            "text/plain": [
              "<Figure size 640x480 with 1 Axes>"
            ]
          },
          "metadata": {},
          "output_type": "display_data"
        }
      ],
      "source": [
        "sns.boxplot(y='price', x='availability_365', data=dfc)\n",
        "plt.title('Boxplot city_development_index berdasarkan target')\n",
        "y_min = 0\n",
        "y_max = 20000\n",
        "plt.ylim(y_min, y_max)\n",
        "plt.show()"
      ]
    },
    {
      "cell_type": "code",
      "execution_count": 6282,
      "metadata": {
        "colab": {
          "base_uri": "https://localhost:8080/",
          "height": 564
        },
        "id": "FrNA4iAb2JpW",
        "outputId": "e0a1115c-1c71-44cf-e638-e0497e394722"
      },
      "outputs": [
        {
          "data": {
            "image/png": "[encoded data removed]",
            "text/plain": [
              "<Figure size 1200x600 with 1 Axes>"
            ]
          },
          "metadata": {},
          "output_type": "display_data"
        }
      ],
      "source": [
        "plt.figure(figsize=(12,6))\n",
        "sns.distplot(dfc[dfc['availability']==0]['price'],label=0)\n",
        "sns.distplot(dfc[dfc['availability']==1]['price'],label=1)\n",
        "plt.title('Distribusi price Berdasarkan availability')\n",
        "plt.legend()\n",
        "plt.show()"
      ]
    },
    {
      "cell_type": "code",
      "execution_count": 6283,
      "metadata": {
        "colab": {
          "base_uri": "https://localhost:8080/",
          "height": 413
        },
        "id": "Pq63r_94pRmM",
        "outputId": "bf1f2d19-ba9e-4191-9c4c-b9f46cf4db69"
      },
      "outputs": [
        {
          "data": {
            "image/png": "[encoded data removed]",
            "text/plain": [
              "<Figure size 640x480 with 1 Axes>"
            ]
          },
          "metadata": {},
          "output_type": "display_data"
        }
      ],
      "source": [
        "# Data Visualization\n",
        "sns.barplot(data = dfc, x = 'room_type', y = 'price', hue = 'availability_365',ci=0,palette='rocket')\n",
        "plt.title(\"availability kamar terhadapa price dan room type\", size = 15)\n",
        "plt.xlabel(\"room_type\")\n",
        "plt.ylabel(\"price\")\n",
        "plt.show()"
      ]
    },
    {
      "cell_type": "markdown",
      "metadata": {
        "id": "c5oOCMaJnj2T"
      },
      "source": [
        "# Kesimpulan dan Rekomendasi\n",
        "\n",
        "\n",
        "\n"
      ]
    },
    {
      "cell_type": "markdown",
      "metadata": {},
      "source": [
        "**Kesimpulan**\n",
        "\n",
        "1. Neighbourhood \n"
      ]
    },
    {
      "cell_type": "markdown",
      "metadata": {
        "id": "xDHNWFS5247E"
      },
      "source": [
        "**Rekomendasi**"
      ]
    },
    {
      "cell_type": "markdown",
      "metadata": {},
      "source": [
        "1. "
      ]
    }
  ],
  "metadata": {
    "colab": {
      "authorship_tag": "ABX9TyOmEsiWPT7rnYVhSXkHu7y0",
      "include_colab_link": true,
      "provenance": []
    },
    "kernelspec": {
      "display_name": "Python 3",
      "name": "python3"
    },
    "language_info": {
      "codemirror_mode": {
        "name": "ipython",
        "version": 3
      },
      "file_extension": ".py",
      "mimetype": "text/x-python",
      "name": "python",
      "nbconvert_exporter": "python",
      "pygments_lexer": "ipython3",
      "version": "3.11.5"
    }
  },
  "nbformat": 4,
  "nbformat_minor": 0
}
